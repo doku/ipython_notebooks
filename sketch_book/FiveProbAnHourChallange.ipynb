{
 "cells": [
  {
   "cell_type": "markdown",
   "metadata": {},
   "source": [
    "https://blog.svpino.com/2015/05/07/five-programming-problems-every-software-engineer-should-be-able-to-solve-in-less-than-1-hour\n"
   ]
  },
  {
   "cell_type": "code",
   "execution_count": 11,
   "metadata": {
    "collapsed": false
   },
   "outputs": [
    {
     "name": "stdout",
     "output_type": "stream",
     "text": [
      "Sun May 10 16:32:22 2015\n"
     ]
    }
   ],
   "source": [
    "import time\n",
    "print time.asctime()\n"
   ]
  },
  {
   "cell_type": "markdown",
   "metadata": {},
   "source": [
    "Problem 1\n",
    "\n",
    "Write three functions that compute the sum of the numbers in a given list using a for-loop, a while-loop, and recursion.\n"
   ]
  },
  {
   "cell_type": "code",
   "execution_count": 37,
   "metadata": {
    "collapsed": false
   },
   "outputs": [
    {
     "name": "stdout",
     "output_type": "stream",
     "text": [
      "190\n",
      "190\n",
      "190\n",
      "190\n"
     ]
    }
   ],
   "source": [
    "def prob1of3(x):\n",
    "    total = 0\n",
    "    for i,x in enumerate(x):\n",
    "        total += x\n",
    "    return total\n",
    "def prob2of3(z):\n",
    "    total = 0\n",
    "    x = z[:] #pass by value\n",
    "    while len(x) > 0:\n",
    "        total += x.pop()\n",
    "    return total\n",
    "def prob3of3(x):\n",
    "    if len(x) > 1:\n",
    "        return x[0] +prob3of3(x[1:])\n",
    "    else:\n",
    "        return x[0]\n",
    "    \n",
    "li1 = range(20)\n",
    "print sum(li1)\n",
    "print prob1of3(li1)\n",
    "print prob2of3(li1)\n",
    "print prob3of3(li1)"
   ]
  },
  {
   "cell_type": "markdown",
   "metadata": {},
   "source": [
    "Write a function that combines two lists by alternatingly taking elements. For example: given the two lists [a, b, c] and [1, 2, 3], the function should return [a, 1, b, 2, c, 3]."
   ]
  },
  {
   "cell_type": "code",
   "execution_count": 121,
   "metadata": {
    "collapsed": false
   },
   "outputs": [
    {
     "name": "stdout",
     "output_type": "stream",
     "text": [
      "['a', 1, 'b', 2, 'c', 3]\n"
     ]
    },
    {
     "data": {
      "text/plain": [
       "['a', 1, 'b', 2, 'c', 3]"
      ]
     },
     "execution_count": 121,
     "metadata": {},
     "output_type": "execute_result"
    }
   ],
   "source": [
    "import itertools\n",
    "def prob1(listX, listY):\n",
    "    if len(listX) > len(listY):\n",
    "        listY, listX = listX, listY\n",
    "    result = []\n",
    "    for i, x in enumerate(listX):\n",
    "        result.append(listX[i])\n",
    "        result.append(listY[i])\n",
    "    return result\n",
    "\n",
    "#print reduce(lambda x, y: x.append(y), [list(x) for x in zip(['a','b','c'], range(3))], list([]))\n",
    "print prob1(['a','b','c'],[1,2,3])\n",
    "reduce(lambda x,y: x + list(y),zip(['a','b','c'],range(1,4)), [])"
   ]
  },
  {
   "cell_type": "markdown",
   "metadata": {},
   "source": [
    "Write a function that computes the list of the first 100 Fibonacci numbers. By definition, the first two numbers in the Fibonacci sequence are 0 and 1, and each subsequent number is the sum of the previous two. As an example, here are the first 10 Fibonnaci numbers: 0, 1, 1, 2, 3, 5, 8, 13, 21, and 34."
   ]
  },
  {
   "cell_type": "code",
   "execution_count": 81,
   "metadata": {
    "collapsed": false
   },
   "outputs": [
    {
     "name": "stdout",
     "output_type": "stream",
     "text": [
      "[0, 1, 1, 2, 3, 5, 8, 13, 21, 34]\n"
     ]
    }
   ],
   "source": [
    "def fib(n):\n",
    "    if n == 0:\n",
    "        return 0\n",
    "    if n == 1:\n",
    "        return 0\n",
    "    if n == 2:\n",
    "        return 1\n",
    "    return fib(n-1) + fib(n-2)\n",
    "print [fib(i) for i in range(1,11)]"
   ]
  },
  {
   "cell_type": "markdown",
   "metadata": {},
   "source": [
    "Write a function that given a list of non negative integers, arranges them such that they form the largest possible number. For example, given [50, 2, 1, 9], the largest formed number is 95021."
   ]
  },
  {
   "cell_type": "code",
   "execution_count": 3,
   "metadata": {
    "collapsed": false
   },
   "outputs": [
    {
     "name": "stdout",
     "output_type": "stream",
     "text": [
      "[1, 2, 9, 50]\n",
      "(9, 50, 2, 1)\n",
      "95021\n"
     ]
    }
   ],
   "source": [
    "import itertools\n",
    "def func1(l):\n",
    "    def combine(l):\n",
    "        result = \"\"\n",
    "        for i in l:\n",
    "            result += str(i)\n",
    "        return int(result)\n",
    "    largest = combine(l)\n",
    "    largestl = l\n",
    "    for i in itertools.permutations(l,len(l)):\n",
    "        if largest < combine(i):\n",
    "            largest = combine(i)\n",
    "            largestl = i\n",
    "    return largestl\n",
    "\n",
    "def func2(l):\n",
    "    combine = lambda l: int(reduce(lambda x,y: x+str(y), l, \"\"))\n",
    "    return max([combine(i) for i in itertools.permutations(l,len(l))])\n",
    "\n",
    "li = [50,2,1,9]\n",
    "print sorted(li)\n",
    "print func1(li)\n",
    "print func2(li)"
   ]
  },
  {
   "cell_type": "markdown",
   "metadata": {},
   "source": [
    "Write a program that outputs all possibilities to put + or - or nothing between the numbers 1, 2, ..., 9 (in this order) such that the result is always 100. For example: 1 + 2 + 34 – 5 + 67 – 8 + 9 = 100."
   ]
  },
  {
   "cell_type": "code",
   "execution_count": 130,
   "metadata": {
    "collapsed": false
   },
   "outputs": [
    {
     "name": "stdout",
     "output_type": "stream",
     "text": [
      "[1, -1, 1] [12, 34, 5, 6, 7, 89]\n",
      "36\n",
      "[1, 1, 1, 1] [23, 4, 5, 67, 8, 9]\n",
      "[1, 1, 1, 1] [23, 4, 5, 67, 8, 9]\n",
      "[1, 1, 1, 1] [23, 4, 5, 67, 8, 9]\n",
      "[1, 1, 1, 1] [23, 4, 5, 67, 8, 9]\n",
      "[1, 1, 1, 1] [23, 4, 5, 67, 8, 9]\n",
      "[1, 1, 1, 1] [23, 4, 5, 67, 8, 9]\n",
      "[1, 1, 1, 1] [23, 4, 5, 67, 8, 9]\n",
      "[1, 1, 1, 1] [23, 4, 5, 67, 8, 9]\n",
      "[1, 1, 1, 1] [23, 4, 5, 67, 8, 9]\n",
      "[1, 1, 1, 1] [2, 34, 56, 7, 8, 9]\n",
      "[1, 1, 1, 1] [2, 34, 56, 7, 8, 9]\n",
      "[1, 1, 1, 1] [2, 34, 56, 7, 8, 9]\n",
      "[1, 1, 1, 1] [2, 34, 56, 7, 8, 9]\n",
      "[1, 1, 1, 1] [2, 34, 56, 7, 8, 9]\n",
      "[1, 1, 1, 1] [2, 34, 56, 7, 8, 9]\n",
      "[1, 1, 1, 1] [2, 34, 56, 7, 8, 9]\n",
      "[1, 1, 1, 1] [2, 34, 56, 7, 8, 9]\n",
      "[1, 1, 1, 1] [2, 34, 56, 7, 8, 9]\n"
     ]
    }
   ],
   "source": [
    "def helper(i, nu):\n",
    "    tl = len(i)\n",
    "    j = 0\n",
    "    g = []\n",
    "    while j < tl:\n",
    "        k = i[j]\n",
    "        if k == 0:\n",
    "            nu[j] = int(str(nu[j]) +str(nu.pop(j+1)))\n",
    "            tl = tl-1\n",
    "        else:\n",
    "            g.append(k)\n",
    "        j = j+1\n",
    "            \n",
    "    return g\n",
    "m = [1,1,0,-1,1,0,-1,1]\n",
    "n = [1,2,3,4,5,6,7,8,9]\n",
    "m = [1,1,-1,1,1,1,0,1]\n",
    "m = [1,0,-1,1,1,1,0,-1]\n",
    "m = [0,0,1,-1,1,0,-1,0]\n",
    "\n",
    "m = helper(m,n)\n",
    "print m,n\n",
    "print reduce(lambda x,y: x+(y[0]*y[1]), zip(m,n[1:]), 1)\n",
    "\n",
    "def func1():\n",
    "    for i in itertools.product([0,-1,1], repeat=8):\n",
    "        #print i\n",
    "        #total = 1 + i[0]*2 + i[1]*3 + i[2]*4 + i[3]*5 + i[4]*6 + i[5]*7 + i[6]*8 + i[7]*9\n",
    "        n = range(1,10)\n",
    "        i = list(i)\n",
    "        g = helper(i,n)\n",
    "        if reduce(lambda x,y:x+(y[0]*y[1]), zip(g,n[1:]), 1) == 100:\n",
    "            print g,n[1:]\n",
    "func1()\n"
   ]
  },
  {
   "cell_type": "code",
   "execution_count": 106,
   "metadata": {
    "collapsed": false
   },
   "outputs": [
    {
     "name": "stdout",
     "output_type": "stream",
     "text": [
      "Sun May 10 17:57:53 2015\n"
     ]
    }
   ],
   "source": [
    "print time.asctime()"
   ]
  }
 ],
 "metadata": {
  "kernelspec": {
   "display_name": "Python 2",
   "language": "python",
   "name": "python2"
  },
  "language_info": {
   "codemirror_mode": {
    "name": "ipython",
    "version": 2
   },
   "file_extension": ".py",
   "mimetype": "text/x-python",
   "name": "python",
   "nbconvert_exporter": "python",
   "pygments_lexer": "ipython2",
   "version": "2.7.2"
  }
 },
 "nbformat": 4,
 "nbformat_minor": 0
}
