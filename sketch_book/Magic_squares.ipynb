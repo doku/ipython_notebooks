{
 "cells": [
  {
   "cell_type": "markdown",
   "metadata": {},
   "source": [
    "M = [n(n2 + 1)] / 2. "
   ]
  },
  {
   "cell_type": "code",
   "execution_count": 15,
   "metadata": {
    "collapsed": false
   },
   "outputs": [
    {
     "name": "stdout",
     "output_type": "stream",
     "text": [
      "True\n",
      "15.0\n",
      "[1, 9, 5] [9, 5, 1] [5, 1, 9]\n",
      "[2, 7, 6] [9, 5, 1] [4, 3, 8]\n",
      "[2, 8, 5] [8, 5, 2] [5, 2, 8]\n",
      "[2, 9, 4] [7, 5, 3] [6, 1, 8]\n",
      "[3, 5, 7] [9, 5, 1] [3, 5, 7]\n",
      "[3, 6, 6] [8, 5, 2] [4, 4, 7]\n",
      "[3, 7, 5] [7, 5, 3] [5, 3, 7]\n",
      "[3, 8, 4] [6, 5, 4] [6, 2, 7]\n",
      "[3, 9, 3] [5, 5, 5] [7, 1, 7]\n",
      "[4, 3, 8] [9, 5, 1] [2, 7, 6]\n",
      "[4, 4, 7] [8, 5, 2] [3, 6, 6]\n",
      "[4, 5, 6] [7, 5, 3] [4, 5, 6]\n",
      "[4, 6, 5] [6, 5, 4] [5, 4, 6]\n",
      "[4, 7, 4] [5, 5, 5] [6, 3, 6]\n",
      "[4, 8, 3] [4, 5, 6] [7, 2, 6]\n",
      "[4, 9, 2] [3, 5, 7] [8, 1, 6]\n",
      "[5, 1, 9] [9, 5, 1] [1, 9, 5]\n",
      "[5, 2, 8] [8, 5, 2] [2, 8, 5]\n",
      "[5, 3, 7] [7, 5, 3] [3, 7, 5]\n",
      "[5, 4, 6] [6, 5, 4] [4, 6, 5]\n",
      "[5, 5, 5] [5, 5, 5] [5, 5, 5]\n",
      "[5, 6, 4] [4, 5, 6] [6, 4, 5]\n",
      "[5, 7, 3] [3, 5, 7] [7, 3, 5]\n",
      "[5, 8, 2] [2, 5, 8] [8, 2, 5]\n",
      "[5, 9, 1] [1, 5, 9] [9, 1, 5]\n",
      "[6, 1, 8] [7, 5, 3] [2, 9, 4]\n",
      "[6, 2, 7] [6, 5, 4] [3, 8, 4]\n",
      "[6, 3, 6] [5, 5, 5] [4, 7, 4]\n",
      "[6, 4, 5] [4, 5, 6] [5, 6, 4]\n",
      "[6, 5, 4] [3, 5, 7] [6, 5, 4]\n",
      "[6, 6, 3] [2, 5, 8] [7, 4, 4]\n",
      "[6, 7, 2] [1, 5, 9] [8, 3, 4]\n",
      "[7, 1, 7] [5, 5, 5] [3, 9, 3]\n",
      "[7, 2, 6] [4, 5, 6] [4, 8, 3]\n",
      "[7, 3, 5] [3, 5, 7] [5, 7, 3]\n",
      "[7, 4, 4] [2, 5, 8] [6, 6, 3]\n",
      "[7, 5, 3] [1, 5, 9] [7, 5, 3]\n",
      "[8, 1, 6] [3, 5, 7] [4, 9, 2]\n",
      "[8, 2, 5] [2, 5, 8] [5, 8, 2]\n",
      "[8, 3, 4] [1, 5, 9] [6, 7, 2]\n",
      "[9, 1, 5] [1, 5, 9] [5, 9, 1]\n"
     ]
    }
   ],
   "source": [
    "\n",
    "def magic_square():\n",
    "    n = 3\n",
    "    m = n*(n**2 + 1)/2\n",
    "    print(m)\n",
    "    k = [[i, j, k] for i in range(1,16) for j in range(1,16) for k in range(1,16) if i + j + k == m]\n",
    "    len_k = len(k)\n",
    "    for a in k:\n",
    "        for b in k:\n",
    "            for c in k:\n",
    "                if magic_test(a+b+c , 3, 15):\n",
    "                    print(a,b,c)\n",
    "    \n",
    "def magic_test(x, n , m):\n",
    "    if sum(x[:n]) != m: return False\n",
    "    if sum(x[n:2*n]) != m : return False\n",
    "    if sum(x[2*n:3*n]) != m: return False\n",
    "    if sum(x[0:2*n+1: 3]) != m: return False\n",
    "    if sum(x[1:2*n + 2: 3]) != m: return False\n",
    "    if sum(x[2: 2*n+3: 3]) != m: return False\n",
    "    if sum(x[0: n*3: 4]) != m: return False\n",
    "    if sum(x[2: 3*n-1: 2]) != m: return False\n",
    "    return True\n",
    "    \n",
    "print(magic_test([4,9,2,3,5,7,8,1,6], 3, 15))\n",
    "    \n",
    "magic_square()"
   ]
  },
  {
   "cell_type": "raw",
   "metadata": {},
   "source": [
    "91*91\n"
   ]
  },
  {
   "cell_type": "code",
   "execution_count": 13,
   "metadata": {
    "collapsed": false
   },
   "outputs": [
    {
     "data": {
      "text/plain": [
       "753571"
      ]
     },
     "execution_count": 13,
     "metadata": {},
     "output_type": "execute_result"
    }
   ],
   "source": [
    "91*91*91"
   ]
  },
  {
   "cell_type": "code",
   "execution_count": null,
   "metadata": {
    "collapsed": true
   },
   "outputs": [],
   "source": []
  }
 ],
 "metadata": {
  "kernelspec": {
   "display_name": "Python 3",
   "language": "python",
   "name": "python3"
  },
  "language_info": {
   "codemirror_mode": {
    "name": "ipython",
    "version": 3
   },
   "file_extension": ".py",
   "mimetype": "text/x-python",
   "name": "python",
   "nbconvert_exporter": "python",
   "pygments_lexer": "ipython3",
   "version": "3.5.1"
  }
 },
 "nbformat": 4,
 "nbformat_minor": 0
}
