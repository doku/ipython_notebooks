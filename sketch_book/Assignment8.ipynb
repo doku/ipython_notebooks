{
 "cells": [
  {
   "cell_type": "markdown",
   "metadata": {},
   "source": [
    "1. Write a program that converts a decimal number to its Roman Numeral equivalent. You will need multiple functions to do this or you can do it recursively. The program should take a number as input from the user (1 - 3,999) and return it as a Roman Numeral."
   ]
  },
  {
   "cell_type": "code",
   "execution_count": 54,
   "metadata": {
    "collapsed": false
   },
   "outputs": [
    {
     "name": "stdout",
     "output_type": "stream",
     "text": [
      "CCXXXIII\n",
      "DCCLXXVIII\n"
     ]
    }
   ],
   "source": [
    "\"\"\"\n",
    "1 = I\n",
    "5 = V\n",
    "10 = X\n",
    "50 = L\n",
    "100 = C\n",
    "500 = D\n",
    "1000 = M\n",
    "3999 = MMM CM XC IX\n",
    "I, II, III, IV, V, VI, VII, VIII, IX, X\n",
    "\"\"\"\n",
    "\n",
    "lookup2 = [[\"I\", \"V\", \"X\"], [\"X\", \"L\", \"C\"], [\"C\", \"D\", \"M\"]]\n",
    "def tens(numb, n):\n",
    "    result = \"\"\n",
    "    #i%5+ ((i%5 == 4)*-3)\n",
    "    result += lookup2[n][1] * (numb < 9 and numb > 4)\n",
    "    result += lookup2[n][0] *(numb%5+ ((numb%5 == 4)*-3))\n",
    "    result += lookup2[n][1] * (numb == 4)\n",
    "    result += lookup2[n][2] * (numb == 9)\n",
    "    return result\n",
    "\n",
    "def forTens(numb):\n",
    "    result = \"\"\n",
    "    n = 0\n",
    "    while numb > 0:\n",
    "        result = tens(numb % 10, n) + result\n",
    "        n += 1\n",
    "        numb //= 10\n",
    "    return result\n",
    "\n",
    "    \n",
    "print(forTens(233)) #3141, 020303\n",
    "#CCXXXIII\n",
    "print(forTens(778))\n"
   ]
  },
  {
   "cell_type": "code",
   "execution_count": 18,
   "metadata": {
    "collapsed": false
   },
   "outputs": [
    {
     "name": "stdout",
     "output_type": "stream",
     "text": [
      "[0, 1, 2, 3, 1, 0, 1, 2, 3, 1]\n"
     ]
    }
   ],
   "source": [
    "print([i%5+ ((i%5 == 4)*-3) for i in range(10)])"
   ]
  },
  {
   "cell_type": "markdown",
   "metadata": {},
   "source": [
    "2. Write a program that converts time on a 24 hour clock to a phrase in English describing the time. The user should be able to enter 12:00 or 1200 and have the program say: The time is Noon. 00:00 or 0000 returns: the time is Midnight. 01:30 or 0130 returns: the time is half past one. 23:35 or 2335 returns: the time is twenty-five till midnight."
   ]
  },
  {
   "cell_type": "code",
   "execution_count": 86,
   "metadata": {
    "collapsed": false
   },
   "outputs": [
    {
     "name": "stdout",
     "output_type": "stream",
     "text": [
      "25 0\n",
      "25 1\n",
      "25 2\n",
      "25 3\n",
      "25 4\n",
      "25 5\n",
      "25 6\n",
      "25 7\n",
      "25 8\n",
      "25 9\n",
      "25 10\n",
      "25 11\n",
      "25 12\n",
      "25 13\n",
      "25 14\n",
      "25 15\n",
      "25 16\n",
      "25 17\n",
      "25 18\n",
      "25 19\n",
      "25 20\n",
      "25 21\n",
      "25 22\n",
      "25 23\n",
      "['Twinty-five past Midnight', 'Twinty-five past one', 'Twinty-five past two', 'Twinty-five past three', 'Twinty-five past Four', 'Twinty-five past Five', 'Twinty-five past Six', 'Twinty-five past Seven', 'Twinty-five past Eight', 'Twinty-five past Nine', 'Twinty-five past Ten', 'Twinty-five past Eleven', 'Twinty-five past Noon', 'Twinty-five past one', 'Twinty-five past two', 'Twinty-five past three', 'Twinty-five past Four', 'Twinty-five past Five', 'Twinty-five past Six', 'Twinty-five past Seven', 'Twinty-five past Eight', 'Twinty-five past Nine', 'Twinty-five past Ten', 'Twinty-five past Eleven']\n"
     ]
    }
   ],
   "source": [
    "#half past x\n",
    "#y past x\n",
    "#quarter till x\n",
    "#y till x\n",
    "hours_eng = {0: \"Midnight\", 1:\"one\", 2: \"two\", 3:\"three\", 4:\"Four\", 5:\"Five\", 6:\"Six\",\n",
    "             7:\"Seven\", 8:\"Eight\", 9:\"Nine\",10:\"Ten\",11:\"Eleven\",12:\"Noon\"}\n",
    "min_eng = {1:\"One\", 2:\"Two\", 3:\"Three\", 4:\"Four\", 5:\"Five\", 6:\"Six\", 7:\"Seven\", 8:\"Eight\", 9:\"Nine\", 10:\"Ten\",\n",
    "          11:\"Eleven\", 12:\"Twolve\", 13:\"Thirteen\", 14:\"Fourteen\", 15:\"Quarter\", 16:\"Sixteen\", 17:\"Seventeen\", 18:\"Eighteen\", 19:\"Nineteen\",20:\"Twinty\",\n",
    "          21:\"Twinty-one\", 22:\"Twinty-two\", 23:\"Twinty-three\", 24:\"Twinty-four\", 25:\"Twinty-five\",\n",
    "          26:\"Twinty-six\", 27:\"Twinty-seven\", 28:\"Twinty-eight\", 29:\"Twinty-nine\", 30:\"Half\"}\n",
    "\n",
    "def print_time(time_str):\n",
    "    time_str = time_str.replace(\":\", \"\")[::-1]\n",
    "    minu = int(time_str[:2][::-1])\n",
    "    hour = int(time_str[2:][::-1])\n",
    "    #print(minu, hour)\n",
    "    pend = \"past\"\n",
    "    if minu > 30:\n",
    "        minu = 60 -minu\n",
    "        hour = ( hour + 1) % 24\n",
    "        pend = \"till\"\n",
    "    hour = hour % 24\n",
    "    result = min_eng[minu] + \" \" + pend + \" \" + hours_eng[hour - ((hour-1)//12 == 1) * 12] #noon is not past midnight\n",
    "    return result\n",
    "    \n",
    "print([print_time(str(i)+\":25\") for i in range(24)])"
   ]
  },
  {
   "cell_type": "code",
   "execution_count": null,
   "metadata": {
    "collapsed": true
   },
   "outputs": [],
   "source": []
  }
 ],
 "metadata": {
  "kernelspec": {
   "display_name": "Python 3",
   "language": "python",
   "name": "python3"
  },
  "language_info": {
   "codemirror_mode": {
    "name": "ipython",
    "version": 3
   },
   "file_extension": ".py",
   "mimetype": "text/x-python",
   "name": "python",
   "nbconvert_exporter": "python",
   "pygments_lexer": "ipython3",
   "version": "3.5.1"
  }
 },
 "nbformat": 4,
 "nbformat_minor": 0
}
