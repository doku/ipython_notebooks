{
 "cells": [
  {
   "cell_type": "code",
   "execution_count": null,
   "metadata": {
    "collapsed": true
   },
   "outputs": [],
   "source": [
    "Problem 5\n",
    "\n",
    "A list is sorted in ascending order if it is empty or each item except the\n",
    "last one is less than or equal to its successor. Define a predicate  isSorted\n",
    "that expects a list as an argument and returns  True if the list is sorted, or\n",
    "returns  False otherwise. (Hint: For a list of length 2 or greater, loop\n",
    "through the list and compare pairs of items, from left to right, and return\n",
    "False if the first item in a pair is greater.)"
   ]
  },
  {
   "cell_type": "code",
   "execution_count": 18,
   "metadata": {
    "collapsed": false
   },
   "outputs": [
    {
     "name": "stdout",
     "output_type": "stream",
     "text": [
      "False\n",
      "True\n"
     ]
    }
   ],
   "source": [
    "def isSorted(x):\n",
    "    if len(x) >= 0 and len(x) <= 1:\n",
    "        return True\n",
    "    for i in range(len(x)-1):\n",
    "        if x[i] > x[i+1]:\n",
    "            return False\n",
    "            #break\n",
    "    else:\n",
    "        return True\n",
    "\n",
    "    \n",
    "print(isSorted(range(25,1,-1)))   \n",
    "print(isSorted(range(1,25)))"
   ]
  },
  {
   "cell_type": "markdown",
   "metadata": {},
   "source": [
    "Problem 9\n",
    "\n",
    "Write a program that computes and prints the average of the numbers in\n",
    "a text file. You should make use of two higher-order functions to simplify\n",
    "the design."
   ]
  },
  {
   "cell_type": "code",
   "execution_count": 38,
   "metadata": {
    "collapsed": false
   },
   "outputs": [
    {
     "name": "stdout",
     "output_type": "stream",
     "text": [
      "250.0\n"
     ]
    }
   ],
   "source": [
    "def get_file():\n",
    "    with open(\"test2.txt\", 'r') as f:\n",
    "        return f.read()\n",
    "    \n",
    "\n",
    "def avg(x):\n",
    "    return sum(x)/len(x)\n",
    "\n",
    "def main():\n",
    "    k = get_file()\n",
    "    k = list(map(int, k.split(\"\\n\")))\n",
    "    print(avg(k))\n",
    "\n",
    "main()"
   ]
  },
  {
   "cell_type": "markdown",
   "metadata": {},
   "source": [
    "Problem 10\n",
    "\n",
    "Define and test a function  myRange . This function should behave like\n",
    "Python’s standard  range function, with the required and optional\n",
    "arguments. Do not use the  range function in your implementation!\n",
    "(Hints: Study Python’s help on  range to determine the names, positions,\n",
    "and what to do with your function’s parameters. Use a default value of\n",
    "None for the two optional parameters. If these parameters both equal\n",
    "None , then the function has been called with just the stop value. If just\n",
    "the third parameter equals  None , then the function has been called with\n",
    "a start value as well. Thus, the first part of the function’s code establishes\n",
    "what the values of the parameters are or should be. The rest of the code\n",
    "uses those values to build a list by counting up or down.)"
   ]
  },
  {
   "cell_type": "code",
   "execution_count": 17,
   "metadata": {
    "collapsed": false
   },
   "outputs": [
    {
     "name": "stdout",
     "output_type": "stream",
     "text": [
      "[-20, -19, -18, -17, -16, -15, -14, -13, -12, -11, -10, -9, -8, -7, -6, -5, -4, -3, -2, -1, 0, 1, 2, 3, 4, 5, 6, 7, 8, 9, 10, 11, 12, 13, 14, 15, 16, 17, 18, 19]\n",
      "[0, 1, 2, 3, 4, 5, 6, 7, 8, 9, 10, 11, 12, 13, 14, 15, 16, 17, 18, 19]\n",
      "[2, 4, 6, 8, 10, 12, 14, 16, 18]\n",
      "[]\n",
      "[20, 18, 16, 14, 12, 10, 8, 6, 4, 2, 0, -2, -4, -6, -8, -10, -12, -14, -16, -18]\n",
      "[20, 19, 18, 17, 16, 15, 14, 13, 12, 11, 10, 9, 8, 7, 6, 5, 4, 3, 2, 1, 0, -1, -2, -3, -4, -5, -6, -7, -8, -9, -10, -11, -12, -13, -14, -15, -16, -17, -18, -19]\n"
     ]
    }
   ],
   "source": [
    "def myRange(i , j = None, k = 1):\n",
    "    \"\"\"Range generator: using yield instead of return generates an iterator\"\"\"\n",
    "    if j == None:\n",
    "        i, j = 0, i\n",
    "    k = int(k) #int only\n",
    "    if k == 0: raise ValueError(\"myRange() arg 3 must not be zero\")\n",
    "    if k < 0 and i < j: return []\n",
    "    if k > 0 and i> j: return []\n",
    "    while True:\n",
    "        if (k > 0 and i >= j) or (k<0 and i <= j): break \n",
    "        yield i\n",
    "        i += k\n",
    "\n",
    "        \n",
    "    #return list(range(i,j,k))\n",
    "\n",
    "print(list(myRange(-20,20)))\n",
    "print(list(myRange(20)))\n",
    "print(list(myRange(2, 20, 2)))\n",
    "print(list(myRange(22, 10))) # []\n",
    "print(list(myRange(20, -20, -2))) #reverse\n",
    "\n",
    "print(list(range(20,-20, -1)))"
   ]
  },
  {
   "cell_type": "code",
   "execution_count": null,
   "metadata": {
    "collapsed": false
   },
   "outputs": [],
   "source": []
  },
  {
   "cell_type": "code",
   "execution_count": null,
   "metadata": {
    "collapsed": true
   },
   "outputs": [],
   "source": []
  }
 ],
 "metadata": {
  "kernelspec": {
   "display_name": "Python 3",
   "language": "python",
   "name": "python3"
  },
  "language_info": {
   "codemirror_mode": {
    "name": "ipython",
    "version": 3
   },
   "file_extension": ".py",
   "mimetype": "text/x-python",
   "name": "python",
   "nbconvert_exporter": "python",
   "pygments_lexer": "ipython3",
   "version": "3.5.1"
  }
 },
 "nbformat": 4,
 "nbformat_minor": 0
}
