{
 "cells": [
  {
   "cell_type": "markdown",
   "metadata": {},
   "source": [
    "# Assignment 4"
   ]
  },
  {
   "cell_type": "markdown",
   "metadata": {},
   "source": [
    "Write a script that inputs a line of plain text and a distance value and\n",
    "outputs an encrypted text using a Caesar cipher. The script should work\n",
    "for any printable characters."
   ]
  },
  {
   "cell_type": "code",
   "execution_count": 24,
   "metadata": {
    "collapsed": false
   },
   "outputs": [
    {
     "name": "stdout",
     "output_type": "stream",
     "text": [
      "FGHIJKLMNOPQRSTUVWXYZABCDE\n"
     ]
    },
    {
     "data": {
      "text/plain": [
       "'FGHIJKLMNOPQRSTUVWXYZABCDE'"
      ]
     },
     "execution_count": 24,
     "metadata": {},
     "output_type": "execute_result"
    }
   ],
   "source": [
    "# ord(\"a\") == 97\n",
    "# ord(\"z\") == 122\n",
    "# ord(\"A\") == 65\n",
    "# ord(\"Z\") == 90\n",
    "def caesar(x, i):\n",
    "    x = x.upper()\n",
    "    result = \"\"\n",
    "    for d in x:\n",
    "        g = ord(d) + i\n",
    "        if g > 90:\n",
    "            g -= 26\n",
    "        result += chr(g)\n",
    "    print \"\".join([chr(ord(f) + i -26) if (ord(f) + i) > 90 else chr(ord(f) + i) for f in x ])\n",
    "    return result\n",
    "    \n",
    "caesar(\"abcdefghijklmnopqrstuvwxyz\", 5)"
   ]
  },
  {
   "cell_type": "markdown",
   "metadata": {},
   "source": [
    "Problem 2:\n",
    "\n",
    "Write a script that inputs a line of encrypted text and a distance value\n",
    "and outputs a plain text using a Caesar cipher. The script should work\n",
    "for any printable characters."
   ]
  },
  {
   "cell_type": "code",
   "execution_count": 42,
   "metadata": {
    "collapsed": false
   },
   "outputs": [
    {
     "name": "stdout",
     "output_type": "stream",
     "text": [
      "ABCDEFGHIJKLMNOPQRSTUVWXYZ\n",
      "ABCDEFGHIJKLMNOPQRSTUVWXYZ\n",
      "ABCDEFGHIJKLMNOPQRSTUVWXYZ\n"
     ]
    }
   ],
   "source": [
    "import operator\n",
    "def dethrone_caesar(x, i):\n",
    "    x = x.upper()\n",
    "    #version 1\n",
    "    print reduce(lambda g, h: g + str(h) , map(lambda f: chr(ord(f) - i + 26) if (ord(f) -i) < 65 else chr(ord(f) -i) , x), \"\")\n",
    "    \n",
    "    #version2\n",
    "    def df(f):\n",
    "        o = ord(f) - i\n",
    "        if o < 65:\n",
    "            o += 26\n",
    "        return chr(o)\n",
    "    df2 = lambda f: chr(ord(f) - i + ((ord(f) - i) < 65) * 26)\n",
    "    aaa = map(df2 , x)\n",
    "    print reduce(lambda g,h: g + str(h), aaa, \"\")\n",
    "    \n",
    "    #version 3\n",
    "    print reduce(operator.concat, map(lambda x: chr( x-i + (x-i<65) * 26), map(ord, x)))\n",
    "    \n",
    "dethrone_caesar(\"FGHIJKLMNOPQRSTUVWXYZABCDE\", 5)"
   ]
  },
  {
   "cell_type": "markdown",
   "metadata": {},
   "source": [
    "Problem 8:\n",
    "\n",
    "Write a script named copyfile.py. This script should prompt the user\n",
    "for the names of two text files. The contents of the first file should be\n",
    "input and written to the second file."
   ]
  },
  {
   "cell_type": "code",
   "execution_count": 58,
   "metadata": {
    "collapsed": false
   },
   "outputs": [
    {
     "name": "stdout",
     "output_type": "stream",
     "text": [
      "Enter filename to copy from: test2.txt\n",
      "Enter filename to copy to: test4.txt\n"
     ]
    }
   ],
   "source": [
    "def copyfile():\n",
    "    file1 = raw_input(\"Enter filename to copy from: \")\n",
    "    file2 = raw_input(\"Enter filename to copy to: \")\n",
    "    w = open(file2, 'w')\n",
    "    with open(file1) as f:\n",
    "        w.write(f.readline())\n",
    "    w.close()\n",
    "copyfile()"
   ]
  },
  {
   "cell_type": "markdown",
   "metadata": {},
   "source": [
    "Problem 9: \n",
    "\n",
    "Write a script named dif.py. This script should prompt the user for the\n",
    "names of two text files and compare the contents of the two files to see if\n",
    "they are the same. If they are, the script should simply output “Yes”. If\n",
    "they are not, the script should output “No”, followed by the first lines of\n",
    "each file that differ from each other. The input loop should read and\n",
    "compare lines from each file. The loop should break as soon as a pair of\n",
    "different lines is found.\n"
   ]
  },
  {
   "cell_type": "code",
   "execution_count": 59,
   "metadata": {
    "collapsed": false
   },
   "outputs": [
    {
     "name": "stdout",
     "output_type": "stream",
     "text": [
      "Enter filename to compare: test2.txt\n",
      "Enter second filename to compare: test4.txt\n",
      "Yes\n"
     ]
    }
   ],
   "source": [
    "def dif():\n",
    "    file1 = raw_input(\"Enter filename to compare: \")\n",
    "    file2 = raw_input(\"Enter second filename to compare: \")\n",
    "    with open(file1, 'r') as f1:\n",
    "        with open(file2, 'r') as f2:\n",
    "            for ff1 in f1:\n",
    "                ff2 = f2.readline()\n",
    "                if ff1 != ff2:\n",
    "                    print \"No\"\n",
    "                    print ff1\n",
    "                    print ff2\n",
    "                    break\n",
    "            else:\n",
    "                print \"Yes\"\n",
    "                    \n",
    "\n",
    "dif()"
   ]
  },
  {
   "cell_type": "code",
   "execution_count": null,
   "metadata": {
    "collapsed": false
   },
   "outputs": [],
   "source": [
    "code = raw_input(\"Enter some data: \")\n",
    "print code\n"
   ]
  },
  {
   "cell_type": "code",
   "execution_count": 1,
   "metadata": {
    "collapsed": false
   },
   "outputs": [
    {
     "name": "stdout",
     "output_type": "stream",
     "text": [
      "2 1\n",
      "4 2\n",
      "6 3\n",
      "8 4\n",
      "10 5\n",
      "12 6\n",
      "14 7\n",
      "16 8\n",
      "18 9\n",
      "20 10\n",
      "22 11\n",
      "24 12\n",
      "26 13\n",
      "28 14\n"
     ]
    }
   ],
   "source": [
    "def test():\n",
    "    i = 0\n",
    "    j = 0\n",
    "    while i < 27:\n",
    "        i = i + 2\n",
    "        j = j + 1\n",
    "        print i,j \n",
    "test()\n"
   ]
  },
  {
   "cell_type": "code",
   "execution_count": null,
   "metadata": {
    "collapsed": true
   },
   "outputs": [],
   "source": []
  }
 ],
 "metadata": {
  "kernelspec": {
   "display_name": "Python 2",
   "language": "python",
   "name": "python2"
  },
  "language_info": {
   "codemirror_mode": {
    "name": "ipython",
    "version": 2
   },
   "file_extension": ".py",
   "mimetype": "text/x-python",
   "name": "python",
   "nbconvert_exporter": "python",
   "pygments_lexer": "ipython2",
   "version": "2.7.2"
  }
 },
 "nbformat": 4,
 "nbformat_minor": 0
}
