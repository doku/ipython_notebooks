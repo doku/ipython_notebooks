{
 "cells": [
  {
   "cell_type": "markdown",
   "metadata": {},
   "source": [
    "Problem 5:\n",
    "A bit shift is a procedure whereby the bits in a bit string are moved to the\n",
    "left or to the right. For example, we can shift the bits in the string 1011\n",
    "two places to the left to produce the string 1110. Note that the leftmost\n",
    "two bits are wrapped around to the right side of the string in this operation.\n",
    "Define two scripts, shiftLeft.py and shiftRight.py, that expect\n",
    "a bit string as an input. The script shiftLeft shifts the bits in its input\n",
    "one place to the left, wrapping the leftmost bit to the rightmost position.The script shiftRight performs the inverse operation. Each script\n",
    "prints the resulting string."
   ]
  },
  {
   "cell_type": "code",
   "execution_count": 29,
   "metadata": {
    "collapsed": false
   },
   "outputs": [
    {
     "name": "stdout",
     "output_type": "stream",
     "text": [
      "111100001\n",
      "011111000\n",
      "111110000\n"
     ]
    }
   ],
   "source": [
    "def shiftLeft(x):\n",
    "    return x[1:] + x[0]\n",
    "    \n",
    "    \n",
    "def shiftRight(x):\n",
    "    return x[-1] + x[:-1]\n",
    "\n",
    "print shiftLeft(\"111110000\")\n",
    "print shiftRight(\"111110000\")\n",
    "\n",
    "print shiftRight(\"111100001\")\n"
   ]
  },
  {
   "cell_type": "markdown",
   "metadata": {},
   "source": [
    "Problem 6:\n",
    "Use the strategy of the decimal to binary conversion and the bit shift left\n",
    "operation defined in Project 5 to code a new encryption algorithm. The\n",
    "algorithm should add 1 to each character’s numeric ASCII value, convert\n",
    "it to a bit string, and shift the bits of this string one place to the left. A\n",
    "single-space character in the encrypted string separates the resulting bit\n",
    "strings.\n"
   ]
  },
  {
   "cell_type": "code",
   "execution_count": 40,
   "metadata": {
    "collapsed": false
   },
   "outputs": [
    {
     "data": {
      "text/plain": [
       "\"%CgIMO'ogIMCgIOWOoKeCOQSUu\""
      ]
     },
     "execution_count": 40,
     "metadata": {},
     "output_type": "execute_result"
    }
   ],
   "source": [
    "def enc(x):\n",
    "    return \"\".join([chr(int(shiftLeft(bin(ord(i))[2:]),2)) for i in x])\n",
    "\n",
    "enc(\"2asdfg3wsdfasdgkgweraghijz\")"
   ]
  },
  {
   "cell_type": "markdown",
   "metadata": {},
   "source": [
    "Problem 7:\n",
    "Write a script that decrypts a message coded by the method used in\n",
    "Project 6."
   ]
  },
  {
   "cell_type": "code",
   "execution_count": 39,
   "metadata": {
    "collapsed": false
   },
   "outputs": [
    {
     "data": {
      "text/plain": [
       "'2asdfg3wsdfasdgkgweraghijz'"
      ]
     },
     "execution_count": 39,
     "metadata": {},
     "output_type": "execute_result"
    }
   ],
   "source": [
    "def decrypt(x):\n",
    "    return \"\".join([chr(int(shiftRight(bin(ord(i))[2:]), 2)) for i in x])\n",
    "decrypt(\"%CgIMO'ogIMCgIOWOoKeCOQSUu\")"
   ]
  },
  {
   "cell_type": "code",
   "execution_count": null,
   "metadata": {
    "collapsed": true
   },
   "outputs": [],
   "source": []
  }
 ],
 "metadata": {
  "kernelspec": {
   "display_name": "Python 2",
   "language": "python",
   "name": "python2"
  },
  "language_info": {
   "codemirror_mode": {
    "name": "ipython",
    "version": 2
   },
   "file_extension": ".py",
   "mimetype": "text/x-python",
   "name": "python",
   "nbconvert_exporter": "python",
   "pygments_lexer": "ipython2",
   "version": "2.7.2"
  }
 },
 "nbformat": 4,
 "nbformat_minor": 0
}
