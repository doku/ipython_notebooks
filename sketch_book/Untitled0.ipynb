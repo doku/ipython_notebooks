{
 "metadata": {
  "name": ""
 },
 "nbformat": 3,
 "nbformat_minor": 0,
 "worksheets": [
  {
   "cells": [
    {
     "cell_type": "code",
     "collapsed": false,
     "input": [
      "\"\"\"\n",
      "Plots Model Complexity graphs for boosting, Adaboost in this case\n",
      "For Boosting we vary model complexity by varying the number of base learners\n",
      "\"\"\"\n",
      "\n",
      "from numpy import *\n",
      "import pylab as pl\n",
      "from sklearn import datasets\n",
      "from sklearn.utils import shuffle\n",
      "from sklearn.ensemble import AdaBoostRegressor\n",
      "from sklearn.metrics import mean_squared_error"
     ],
     "language": "python",
     "metadata": {},
     "outputs": [],
     "prompt_number": 1
    },
    {
     "cell_type": "code",
     "collapsed": false,
     "input": [
      "# Load the boston dataset and seperate it into training and testing set\n",
      "boston = datasets.load_boston()\n",
      "X, y = shuffle(boston.data, boston.target)\n",
      "offset = int(0.7*len(X))\n",
      "X_train, y_train = X[:offset], y[:offset]\n",
      "X_test, y_test = X[offset:], y[offset:]"
     ],
     "language": "python",
     "metadata": {},
     "outputs": [],
     "prompt_number": 2
    },
    {
     "cell_type": "code",
     "collapsed": false,
     "input": [
      "# We will vary the number of base learners from 2 to 300\n",
      "max_learners = arange(2, 300)\n",
      "train_err = zeros(len(max_learners))\n",
      "test_err = zeros(len(max_learners))"
     ],
     "language": "python",
     "metadata": {},
     "outputs": [],
     "prompt_number": 3
    },
    {
     "cell_type": "code",
     "collapsed": false,
     "input": [
      "for i, l in enumerate(max_learners):\n",
      "\t# Set up a Adaboost Regression Learner with l base learners\n",
      "    regressor = AdaBoostRegressor(n_estimators=l)\n",
      "\n",
      "    # Fit the learner to the training data\n",
      "    regressor.fit(X_train, y_train)\n",
      "\n",
      "    # Find the MSE on the training set\n",
      "    train_err[i] = mean_squared_error(y_train, regressor.predict(X_train))\n",
      "    # Find the MSE on the testing set\n",
      "    test_err[i] = mean_squared_error(y_test, regressor.predict(X_test))\n"
     ],
     "language": "python",
     "metadata": {},
     "outputs": [],
     "prompt_number": 4
    },
    {
     "cell_type": "code",
     "collapsed": false,
     "input": [
      "# Plot training and test error as a function of the number of base learners\n",
      "pl.figure()\n",
      "pl.title('Boosting: Performance vs Number of Learners')\n",
      "pl.plot(max_learners, test_err, lw=2, label = 'test error')\n",
      "pl.plot(max_learners, train_err, lw=2, label = 'training error')\n",
      "pl.legend()\n",
      "pl.xlabel('Number of Learners')\n",
      "pl.ylabel('RMS Error')\n",
      "pl.show()"
     ],
     "language": "python",
     "metadata": {},
     "outputs": [
      {
       "ename": "TypeError",
       "evalue": "'int' object is not callable",
       "output_type": "pyerr",
       "traceback": [
        "\u001b[1;31m---------------------------------------------------------------------------\u001b[0m\n\u001b[1;31mTypeError\u001b[0m                                 Traceback (most recent call last)",
        "\u001b[1;32mC:\\Anaconda\\lib\\site-packages\\matplotlib\\backends\\backend_qt4.pyc\u001b[0m in \u001b[0;36menterEvent\u001b[1;34m(self, event)\u001b[0m\n\u001b[0;32m    221\u001b[0m         \u001b[0mself\u001b[0m\u001b[1;33m.\u001b[0m\u001b[0mmpl_idle_event\u001b[0m\u001b[1;33m(\u001b[0m\u001b[0mevent\u001b[0m\u001b[1;33m)\u001b[0m\u001b[1;33m\u001b[0m\u001b[0m\n\u001b[0;32m    222\u001b[0m \u001b[1;33m\u001b[0m\u001b[0m\n\u001b[1;32m--> 223\u001b[1;33m     \u001b[1;32mdef\u001b[0m \u001b[0menterEvent\u001b[0m\u001b[1;33m(\u001b[0m\u001b[0mself\u001b[0m\u001b[1;33m,\u001b[0m \u001b[0mevent\u001b[0m\u001b[1;33m)\u001b[0m\u001b[1;33m:\u001b[0m\u001b[1;33m\u001b[0m\u001b[0m\n\u001b[0m\u001b[0;32m    224\u001b[0m         \u001b[0mFigureCanvasBase\u001b[0m\u001b[1;33m.\u001b[0m\u001b[0menter_notify_event\u001b[0m\u001b[1;33m(\u001b[0m\u001b[0mself\u001b[0m\u001b[1;33m,\u001b[0m \u001b[0mevent\u001b[0m\u001b[1;33m)\u001b[0m\u001b[1;33m\u001b[0m\u001b[0m\n\u001b[0;32m    225\u001b[0m \u001b[1;33m\u001b[0m\u001b[0m\n",
        "\u001b[1;31mTypeError\u001b[0m: 'int' object is not callable"
       ]
      }
     ],
     "prompt_number": 5
    },
    {
     "cell_type": "code",
     "collapsed": false,
     "input": [],
     "language": "python",
     "metadata": {},
     "outputs": []
    }
   ],
   "metadata": {}
  }
 ]
}