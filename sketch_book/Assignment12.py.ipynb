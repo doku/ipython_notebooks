{
 "cells": [
  {
   "cell_type": "markdown",
   "metadata": {},
   "source": [
    "1.\tCreate a class for Polynomials\n",
    "a.\tRead the polynomial from the user in carrot form (4x^4) – this will be in Main file and will pass it to object into constructor by parameter\n",
    "2.\tApply inheritance\n",
    "a.\tParent class will be Abstract Class meaning it has at least on Abstract method (maybe display)\n",
    "i.\tList of tuples for power and coefficient\n",
    "ii.\tAbstract __repr__ with no definition but a raise for exception\n",
    "iii.\tAdd other methods (abstract or regular) as needed\n",
    "b.\tChild class will have everything that parent class has plus leading coefficient and degree\n",
    "i.\tMethods for Polynomials: Overload the operator (These have to be done in child class)\n",
    "1.\tAdd\n",
    "2.\tSubtraction\n",
    "3.\tMultiplication\n",
    "4.\tDivision (+20 extra credit)\n",
    "5.\tComparison  (==)\n",
    "6.\tGreater than and less than\n",
    "a.\tIf they have different degrees, the higher degree is greater\n",
    "b.\tIf they are the same degree, the polynomial with the leading coefficient is higher\n",
    "7.\tOverload the __repr__ to display the polynomial result (ie. 4x^5)\n"
   ]
  },
  {
   "cell_type": "code",
   "execution_count": null,
   "metadata": {
    "collapsed": true
   },
   "outputs": [],
   "source": []
  }
 ],
 "metadata": {
  "kernelspec": {
   "display_name": "Python 3",
   "language": "python",
   "name": "python3"
  },
  "language_info": {
   "codemirror_mode": {
    "name": "ipython",
    "version": 3
   },
   "file_extension": ".py",
   "mimetype": "text/x-python",
   "name": "python",
   "nbconvert_exporter": "python",
   "pygments_lexer": "ipython3",
   "version": "3.5.1"
  }
 },
 "nbformat": 4,
 "nbformat_minor": 0
}
