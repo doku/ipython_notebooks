{
 "cells": [
  {
   "cell_type": "markdown",
   "metadata": {},
   "source": [
    "Problem 9 chapter 6\n",
    "\n",
    "Write a program that computes and prints the average of the numbers in\n",
    "a text file. You should make use of two higher-order functions to simplify\n",
    "the design\n",
    "\n",
    "\n",
    "PART 1: copy your work from chapter 6 number 9 but this time use the filter function to compute the average of:\n",
    "\n",
    "1. Only the even numbers from the file\n",
    "\n",
    "2. Only the odd numbers from the file\n",
    "\n",
    "3. Only the numbers above a user entered number\n",
    "\n",
    "4. Only the number below a user entered number\n",
    "\n",
    "5. Only the number that are a multiple of a user entered number."
   ]
  },
  {
   "cell_type": "code",
   "execution_count": 14,
   "metadata": {
    "collapsed": false
   },
   "outputs": [
    {
     "name": "stdout",
     "output_type": "stream",
     "text": [
      "482.0\n",
      "104.0\n",
      "746.6\n",
      "Enter the lower bound: 22\n",
      "741.8181818181819\n",
      "Enter the upper bound: 22\n",
      "5.666666666666667\n",
      "Enter the number multiple: 22\n",
      "0\n"
     ]
    }
   ],
   "source": [
    "from functools import reduce\n",
    "\n",
    "def fileOpen(filename):\n",
    "    k = []\n",
    "    with open(filename, 'r') as f:\n",
    "        for line in f:\n",
    "            k.append(int(line))\n",
    "            \n",
    "    return k\n",
    "\n",
    "def avg(k):\n",
    "    k = list(k)\n",
    "    if len(k) == 0: return 0\n",
    "    return reduce(lambda x, y: x+y, k, 0) / len(k)\n",
    "\n",
    "def evens(k):\n",
    "    return avg(filter(lambda x: x%2 == 0, k))\n",
    "\n",
    "def odds(k):\n",
    "    return avg(filter(lambda x: x%2, k))\n",
    "\n",
    "def user_lower_bound(k):\n",
    "    y = int(input(\"Enter the lower bound: \"))\n",
    "    return avg(filter(lambda x: x>y, k)) #not including\n",
    "\n",
    "def user_upper_bound(k):\n",
    "    y = int(input(\"Enter the upper bound: \"))\n",
    "    return avg(filter(lambda x: x < y, k))\n",
    "\n",
    "def user_multiple(k):\n",
    "    y = int(input(\"Enter the number multiple: \"))\n",
    "    return avg(filter(lambda x: x % y == 0, k))\n",
    "\n",
    "def main():\n",
    "    k = fileOpen(\"test6.txt\")\n",
    "    print(avg(k))\n",
    "    print(evens(k))\n",
    "    print(odds(k))\n",
    "    print(user_lower_bound(k))\n",
    "    print(user_upper_bound(k))\n",
    "    print(user_multiple(k))\n",
    "\n",
    "main()\n",
    "    \n",
    "    "
   ]
  },
  {
   "cell_type": "markdown",
   "metadata": {},
   "source": [
    "482.0\n",
    "104.0\n",
    "746.6\n",
    "Enter the lower bound: 22\n",
    "741.8181818181819\n",
    "Enter the upper bound: 22\n",
    "5.666666666666667\n",
    "Enter the number multiple: 22\n",
    "0"
   ]
  },
  {
   "cell_type": "markdown",
   "metadata": {},
   "source": [
    "PART 2: Put all six averaging numbers from a file functions (the ones above plus the one from problem 9) into a jump table (a dictionary of functions). Use the jump table in a program where a user can decide which function to perform. "
   ]
  },
  {
   "cell_type": "markdown",
   "metadata": {},
   "source": []
  },
  {
   "cell_type": "code",
   "execution_count": 6,
   "metadata": {
    "collapsed": false
   },
   "outputs": [
    {
     "name": "stdout",
     "output_type": "stream",
     "text": [
      "Which function do you want to run?\n",
      "0: avg\n",
      "1: evens\n",
      "2: odds\n",
      "3: user_lower_bound\n",
      "4: user_upper_bound\n",
      "5: user_multiple\n",
      ">> 2\n",
      "AVG is : 746.6\n"
     ]
    }
   ],
   "source": [
    "\n",
    "func_list = [avg, evens, odds, user_lower_bound, user_upper_bound, user_multiple]\n",
    "\n",
    "def jump():\n",
    "    fg = fileOpen(\"test6.txt\")\n",
    "    print(\"Which function do you want to run?\")\n",
    "    for i, item in enumerate(func_list):\n",
    "        print(str(i)+ \": \" +item.__name__)\n",
    "    func_int = int(input(\">> \"))\n",
    "    print(\"AVG is : \" + str(func_list[func_int](fg)))\n",
    "\n",
    "jump()"
   ]
  },
  {
   "cell_type": "markdown",
   "metadata": {},
   "source": [
    "Which function do you want to run?\n",
    "0: avg\n",
    "1: evens\n",
    "2: odds\n",
    "3: user_lower_bound\n",
    "4: user_upper_bound\n",
    "5: user_multiple\n",
    ">> 2\n",
    "AVG is : 746.6"
   ]
  },
  {
   "cell_type": "markdown",
   "metadata": {},
   "source": [
    "PART 3: and Ch. 7 p.288 Problem 1\n",
    "\n",
    "Define a function  drawCircle . This function should expect a  Turtle\n",
    "object, the coordinates of the circle’s center point, and the circle’s radius\n",
    "as arguments. The function should draw the specified circle. The algo-\n",
    "rithm should draw the circle’s circumference by turning 3 degrees and\n",
    "moving a given distance, 120 times. Calculate the distance moved with\n",
    "the formula 2.0 * π * radius / 120.0"
   ]
  },
  {
   "cell_type": "code",
   "execution_count": 15,
   "metadata": {
    "collapsed": false
   },
   "outputs": [
    {
     "ename": "ImportError",
     "evalue": "No module named 'turtlegraphics'",
     "output_type": "error",
     "traceback": [
      "\u001b[1;31m---------------------------------------------------------------------------\u001b[0m",
      "\u001b[1;31mImportError\u001b[0m                               Traceback (most recent call last)",
      "\u001b[1;32m<ipython-input-15-8ae01e7cc957>\u001b[0m in \u001b[0;36m<module>\u001b[1;34m()\u001b[0m\n\u001b[1;32m----> 1\u001b[1;33m \u001b[1;32mfrom\u001b[0m \u001b[0mturtlegraphics\u001b[0m \u001b[1;32mimport\u001b[0m \u001b[0mTurtle\u001b[0m\u001b[1;33m\u001b[0m\u001b[0m\n\u001b[0m\u001b[0;32m      2\u001b[0m \u001b[1;33m\u001b[0m\u001b[0m\n\u001b[0;32m      3\u001b[0m \u001b[1;33m\u001b[0m\u001b[0m\n\u001b[0;32m      4\u001b[0m \u001b[1;33m\u001b[0m\u001b[0m\n\u001b[0;32m      5\u001b[0m \u001b[1;32mdef\u001b[0m \u001b[0mdrawCircle\u001b[0m\u001b[1;33m(\u001b[0m\u001b[0mt\u001b[0m\u001b[1;33m,\u001b[0m \u001b[0mx\u001b[0m\u001b[1;33m,\u001b[0m \u001b[0my\u001b[0m\u001b[1;33m,\u001b[0m \u001b[0mr\u001b[0m\u001b[1;33m)\u001b[0m\u001b[1;33m:\u001b[0m\u001b[1;33m\u001b[0m\u001b[0m\n",
      "\u001b[1;31mImportError\u001b[0m: No module named 'turtlegraphics'"
     ]
    }
   ],
   "source": [
    "from turtlegraphics import Turtle\n",
    "\n",
    "\n",
    "\n",
    "def drawCircle(t, x, y, r):\n",
    "    t.up()\n",
    "    t.setDirection(0)\n",
    "    t.move(x)\n",
    "    t.turn(-90)\n",
    "    t.go(y+r)\n",
    "    t.turn(-90)\n",
    "    t.down()\n",
    "    for i in range(120):\n",
    "        t.go(2*3.1415926*r/120.0)\n",
    "        t.turn(-3)\n",
    "\n",
    "def main():\n",
    "    t = Turtle(400,200)\n",
    "    drawCircle(t, 0,0, 200)\n",
    "    "
   ]
  },
  {
   "cell_type": "markdown",
   "metadata": {
    "collapsed": true
   },
   "source": [
    "ImportError                               Traceback (most recent call last)\n",
    "<ipython-input-12-220fed161365> in <module>()\n",
    "----> 1 import Turtle\n",
    "      2 \n",
    "      3 def drawCircle():\n",
    "      4     pass\n",
    "\n",
    "ImportError: No module named 'Turtle'"
   ]
  },
  {
   "cell_type": "code",
   "execution_count": null,
   "metadata": {
    "collapsed": true
   },
   "outputs": [],
   "source": []
  }
 ],
 "metadata": {
  "kernelspec": {
   "display_name": "Python 3",
   "language": "python",
   "name": "python3"
  },
  "language_info": {
   "codemirror_mode": {
    "name": "ipython",
    "version": 3
   },
   "file_extension": ".py",
   "mimetype": "text/x-python",
   "name": "python",
   "nbconvert_exporter": "python",
   "pygments_lexer": "ipython3",
   "version": "3.5.1"
  }
 },
 "nbformat": 4,
 "nbformat_minor": 0
}
