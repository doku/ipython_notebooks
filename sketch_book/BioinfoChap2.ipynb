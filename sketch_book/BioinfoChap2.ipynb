{
 "metadata": {
  "name": ""
 },
 "nbformat": 3,
 "nbformat_minor": 0,
 "worksheets": [
  {
   "cells": [
    {
     "cell_type": "code",
     "collapsed": false,
     "input": [
      "f = open(\"RNA_codon_table_1.txt\").read().split(\"\\n\")\n",
      "f = {x[0]:x[1] for x in [x.split(\" \") for x in f]}\n",
      "\n",
      "gdoc = \"AUGGCCAUGGCGCCCAGAACUGAGAUCAAUAGUACCCGUAUUAACGGGUGA\"\n",
      "gdoc = open(\"dataset_18_3.txt\").read().strip()\n",
      "k = [f[gdoc[x:x+3]] for x in range(0,len(gdoc),3 )]\n",
      "\n",
      "print \"\".join(k)"
     ],
     "language": "python",
     "metadata": {},
     "outputs": [
      {
       "output_type": "stream",
       "stream": "stdout",
       "text": [
        "MFDWVIHEPINKLATDIQIACKTSNRAHLSLITIGFPNRILFSPKAPNGLHPEYVLAALRGLLSWRQTLPSRVYFLICWNYRGVGGMTMVSSHVDSYRAFRHHFGLRPCEWRLLYTAVNRRETKFYVRYGARDIQAHKSLYCHRISRYRRCFVTAVRLLPGTYPPHRTESCRLANTVSNDSALARIPNLIEMGARECDRNRPDIRPNTRGYGSPIIFRRIQVIPASQFRLVPTPLKPVRKALFTECANEMRSVTPVARNRNIRKVEPSKIRVDATFYPKNAGPPNLSTIIGARLLAFLHRFDFELLVPHKVLTTEPIVESRVRAVYKVPSAHVYFGILATRVWTEELDSATERRGAWFSSYMGFKGVNMPYSDEPCLVAGRNPVPSNIKSVDHATSQKRSDFSGSSKLIMSTRVDVVVAAYDNTELSYRCSKPVLDGREPCALSPHLPEGRYAHCCFVKAQTVLANVHHTTRVLVKSLAKNAPHMAFIIRSDPPQKLLQCFDCIPEKYAGQTHLLSWQFATTGLVRRPAESLSLTLPGSVYMERNLAVNSKLPSRHSEADPSGSRQDNYNYFAASSTEIPVRLHKDADNPTGTNVHRRMPNDPLLASLGQTSDSNRKSRGSLFDGGEIDVDGFPHGGSSRAYDEATRVRICAILRSNEHGLNSRRALLSPNLQFDTQTSIRVTSERDGGKAVAPRSTTTNSRRVDRECPHPADILPATSRNGVANRFDGGPDSSCGSCLIHPVPHSVYWAMRNRKNTSKFLRNGSRTLSGCTGSIVIERPRDRQQAKYGTTSSSHTSSGLGLLQIACLELLTDIRTPWCDGLAKFAYLYRFPADAIYPLTSFCADKTDYHHRRAILPRRESYISVLEEQGPDINFWQRSRYLAACHNSLAIIRGVLLNPAVRSWVTVSTPAGRAHHPPGANGPLSLNKSSRDVGCHTNGNPYISECCMFSRQGSWTVWKILGQTSCVRKTGVVSTYRLLGFREKCTCRKLKEISLNLLLIDQPQSGFNPQDLQFLTAGPTTSNLEAESHTLPLIISFRTRHMLVTSRRLPNQHDQFRGCHCLYVSVAQGGEVTASVDIAFLAGKRVPCVCFLLGHGSPGADHDKLDEGVPVVLQHWGVCIRMWHRGPTPYQAQPRDSYDHYTNATQITCTRHLNRQRSPRRRHLYTCEWPHILALLTSRARTPENTMQVRPNRPGRGSIRIPWPVHPGGTAYHLSELVGQVRVKIAAIPSLLHESIPHSGCNLVVWKVFDERPTCPAYKHGELLLFLHRVHRLTDVVIILGMYGICWPQKTRSLYTLIEQLTARIHLHSIGTALNTGLHGPSTCTRRTLRDILLSQRFRFLMTTALCLVGDVSESGQEVAALEKPCAVIDSSEPWVVWPTWGCLHRWHHSVFTLAKHSFTQCAGIRGSLLTVGHHESITPTFSAVSIGRSPARLGTIAESRTCYSAKPKSIERFLGPLAMGPLALDSASIHQWAQKLLRLPLQKAKLAADLQSATSARCSWTVNLGTLSALVLQPICIYVQRVARRTLDFGETRKLRNGPFGANHCETLVYGEVPSSSGTARCCLTLTPSPTSLTRSVLGSGVFPKPWYTVHQISNMVCLVDRRPASQSNKGAASQMAVHPWGSACPCGFACVDAVWACTVFGANRDRHASAPRVAGISECGRTVVRRRENRLHLERHCLCRSLVAAPEGIQIFGCLHSASSFCDMNNFRNPRTALLGGISPIGLKNFCVLLLHTEASCGHHYLVSEFPAGYCILKTRTHQQPLTSKDTRPCVDIEDVLHSHCYRPAVSRFPPIPRNRSPLRCRERLFGQPQRFSQGLSSEGSAALPGFSRVLRVWHYWGLLEGLDRPPMLEDKYTVCFAPTVPYTLSIMAYHLLLRYIIRLLEFPIIAGDHSSLRRQKSARVEYRNPYFMDKPNKTHNMAFDGRKPQTKTLSHHNIGRTFSWPQTKTGWCTQLRTQRIRLRETSKQTGAFMRRSMHVNECHFLDPGVRPHPTPYPEELYSGGEGLRLHLERATATARIRDWLPSAFRRLVGDEGPLAETIVVQGKGSKETATLSVIQRSAINIKVRAGSIGYRPNQCCFALPEIKHSRLREWSGTALNNLPAYAVSLFMSMVEGCLTPTGRLPVDTYVMWTESSTCTGTYYYVMSILSRPFTGLIWDMENSRLRAALHGLRENLRSVTIAHSRLKQYQVRQAVTLATPRRLVIFVGTYVPVRIDRYILGRAAIAYPGGWKHTRRRMPFLLCISCCCFILTCPSRFRVYRSLAGTAQGASPQHRNSDSFIGGPTTPINITIHAYLRYPPLGARPSSVCRFRYAPIGLAAQVPEGARGRRKATACTLVYTSLIFVLLWAMRPALLHRLWRQSSDHHRTRTPRAFIDVQIDMCLLRGLQPFFRQLTRVALKSWSGSCDMHDRQTGVLIVGTAGDDNGRLMTKICCMAAEPARPETPKRPGNRSWLLIQRRESDFAIGGPYGNNFGELTIELKHEIRGFNSSLLQINGNRAGHGAQENNLLALRAIFTIKCNWYILLQDGPRWTDELRFAVEMDRAMSLFKTVTAFIVIPPLLAAQLDERTITLRREHRREAYQCPQAVCSCRNKCINGQADARFQKNSIFGVTDECGGLRTAHAALDIGARVQDSVLGPPDQAGVLYKYDTVRTQSHVSCNVSECDQLILTVCSSPTKFSKAAGSKKCTNGSGGLSLATGYSPIRQTRRLSSMSRPLDLLRRYLRLATIYRTRGQGLGLFVASEERCILEFVEQSGGDAPRIRPMEQEFEAPDSLGGEGGWTLTRLIHIGLFVDEDANSRGIRKYAPRRLVLLTDICLSKPSAPTILKVSDEVSALYLGQADRWHTSAEE\n"
       ]
      }
     ],
     "prompt_number": 12
    },
    {
     "cell_type": "code",
     "collapsed": false,
     "input": [
      "f = open(\"RNA_codon_table_1.txt\").read().split(\"\\n\")\n",
      "f = {x[0]:x[1] for x in [x.split(\" \") for x in f]}\n",
      "\n",
      "def DtoR(x):\n",
      "    return \"\".join([d if d != \"T\" else \"U\" for d in x])\n",
      "\n",
      "def RtoD(x):\n",
      "    return \"\".join([d if d != \"U\" else \"T\" for d in x])\n",
      "\n",
      "def kmerCompliment(x):\n",
      "    key = {\"G\":\"C\",\"C\":\"G\",\"T\":\"A\",\"A\":\"T\"}\n",
      "    return \"\".join([key[i] for i in x[::-1]])\n",
      "\n",
      "def matchPep(seq,pep):\n",
      "    RNA = DtoR(seq)\n",
      "    pep1 = []\n",
      "    pep2 = []\n",
      "    pep3 = []\n",
      "    lenseq = len(seq)\n",
      "    res = []\n",
      "    for i in range(0,len(seq) - 2, 3):\n",
      "        pep1.append((RNA[i:i+3],f[RNA[i:i+3]]))\n",
      "        #print RNA[i:i+5]\n",
      "        if i+4 < lenseq: pep2.append((RNA[i+1:i+4], f[RNA[i+1:i+4]]))\n",
      "        if i + 5 < lenseq: pep3.append((RNA[i+2:i+5], f[RNA[i+2:i+5]]))\n",
      "    def pepem(pep1):\n",
      "        res = []\n",
      "        for i in range(len(pep1)-len(pep)+1):\n",
      "            for j in range(len(pep)):\n",
      "                if pep1[i + j][1] != pep[j]:\n",
      "                    break;\n",
      "            else:\n",
      "                 res.append(\"\".join([x for (x,y) in pep1[i:i+len(pep)]]))\n",
      "        return res\n",
      "    res.extend(pepem(pep1))\n",
      "    res.extend(pepem(pep2))\n",
      "    res.extend(pepem(pep3))\n",
      "    return res\n",
      "\n",
      "seq = \"ATGGCCATGGCCCCCAGAACTGAGATCAATAGTACCCGTATTAACGGGTGA\"\n",
      "pep = \"MA\"\n",
      "\n",
      "seq = open(\"B_brevis.txt\").read().splitlines()\n",
      "seq = \"\".join(seq)\n",
      "#seq = data[0]\n",
      "pep = \"VKLFPWFNQY\"\n",
      "print \"\\n\".join([RtoD(x) for x in matchPep(seq,pep)])\n",
      "print \"\\n\".join([kmerCompliment(RtoD(x)) for x in matchPep(kmerCompliment(seq),pep)])\n"
     ],
     "language": "python",
     "metadata": {},
     "outputs": [
      {
       "output_type": "stream",
       "stream": "stdout",
       "text": [
        "\n"
       ]
      },
      {
       "output_type": "stream",
       "stream": "stdout",
       "text": [
        "\n"
       ]
      }
     ],
     "prompt_number": 59
    },
    {
     "cell_type": "code",
     "collapsed": false,
     "input": [
      "MM = open(\"integer_mass_table.txt\").read().split(\"\\n\")\n",
      "MM = {x[0]:x[1] for x in [x.split(\" \") for x in MM]}\n",
      "\n",
      "\n",
      "def cyclicSeq(x):\n",
      "    lenX = len(x)\n",
      "    xx = x+x\n",
      "    res = [\"\",x]\n",
      "    for i in range(1,lenX):\n",
      "        for j in range(lenX):\n",
      "            res.append(xx[j:j+i])\n",
      "    return res\n",
      "def totalMass(x):\n",
      "    return sum([int(MM[j]) for i,j in enumerate(x)])\n",
      "\n",
      "seq = open(\"dataset_20_3.txt\").read().strip()\n",
      "print \" \".join([str(totalMass(x)) for x in cyclicSeq(seq)])"
     ],
     "language": "python",
     "metadata": {},
     "outputs": [
      {
       "output_type": "stream",
       "stream": "stdout",
       "text": [
        "0 1293 129 131 114 128 131 156 113 71 57 57 103 103 260 245 242 259 287 269 184 128 114 160 206 232 374 373 373 415 400 340 241 185 217 263 335 363 502 504 529 528 471 397 298 288 320 392 466 477 633 660 642 599 528 454 401 391 449 523 580 605 789 773 713 656 585 557 504 520 580 637 708 736 902 844 770 713 688 660 633 651 694 765 839 892 973 901 827 816 791 789 764 765 822 896 995 1005 1030 958 930 919 920 920 878 893 953 1052 1108 1076 1087 1061 1033 1048 1051 1034 1006 1024 1109 1165 1179 1133 1190 1164 1162 1179 1165 1162 1137 1180 1222 1236 1236 1190\n"
       ]
      }
     ],
     "prompt_number": 75
    },
    {
     "cell_type": "code",
     "collapsed": false,
     "input": [
      "lookupKey = {}\n",
      "pepMass = {57:1,71:1,87:1,97:1,99:1,101:1,103:1,113:1,114:1,115:1,128:1,129:1,131:1,137:1,147:1,156:1,163:1,186:1]\n",
      "def pepMassCount(x):\n",
      "    if x in lookupKey:\n",
      "        return lookupKey[x]\n",
      "    else:\n",
      "        pepMass \n",
      "        return sum([pepMassCount(i)+1 for i in pepMass]) "
     ],
     "language": "python",
     "metadata": {},
     "outputs": []
    }
   ],
   "metadata": {}
  }
 ]
}