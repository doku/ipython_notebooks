{
 "metadata": {
  "name": ""
 },
 "nbformat": 3,
 "nbformat_minor": 0,
 "worksheets": [
  {
   "cells": [
    {
     "cell_type": "code",
     "collapsed": false,
     "input": [
      "import json\n",
      "import requests\n",
      "import pprint\n",
      "\n",
      "my_public_key = \"f5719bc2685772f7244d908a6e9ed11eaecec132\"\n",
      "my_secret_key = \"b7f2469aecd9bf3d320b377ada1d21be0014681bbea1fe1a405823ec791728dfc48d629eaf70d2bd\"\n",
      "\n",
      "cryptsy_market_url = \"http://pubapi.cryptsy.com/api.php?method=singlemarketdata&marketid=\"\n",
      "cryptsy_orderbook_url = \"http://pubapi.cryptsy.com/api.php?method=singleorderdata&marketid=\"\n",
      "\n",
      "cryptsy_marketid_table = {\"ltc_btc\":\"3\"}\n",
      "#allmarkets = requests.get('http://pubapi.cryptsy.com/api.php?method=marketdatav2')\n",
      "#cryptsy_ltc_btc = requests.get(\"http://pubapi.cryptsy.com/api.php?method=singlemarketdata&marketid=3\")\n",
      "\n",
      "vircurex_api_url = \"https://vircurex.com/api/\"\n",
      "vircurex_api_functions = [\"get_lowest_ask\",\"get_highest_bid\" ,\"get_last_trade\" ,\"get_volume\",\"get_info_for_currency\" ,\"get_info_for_1_currency\" ,\"orderbook\" ,\"orderbook_alt\" ,\"trades\",\"get_currency_info\"]\n",
      "vircurex_coinbases = [\"ANC\",\"BTC\",\"DGC\",\"DVC\",\"FRC\",\"FTC\",\"I0C\",\"IXC\",\"LTC\",\"NMC\",\"NVC\",\"PPC\",\"QRK\",\"TRC\",\"WDC\",\"XPM\"]"
     ],
     "language": "python",
     "metadata": {},
     "outputs": [],
     "prompt_number": 45
    },
    {
     "cell_type": "code",
     "collapsed": false,
     "input": [
      "def get_cryptsy_orderbook(base=\"ltc\",alt=\"btc\"):\n",
      "    cryptsy_ltc_btc_orderbook = requests.get(\"http://pubapi.cryptsy.com/api.php?method=singleorderdata&marketid=\"+cryptsy_marketid_table[\"ltc_btc\"])\n",
      "    print cryptsy_ltc_btc_orderbook.content\n",
      "    p = cryptsy_ltc_btc_orderbook.json()\n"
     ],
     "language": "python",
     "metadata": {},
     "outputs": [
      {
       "output_type": "stream",
       "stream": "stdout",
       "text": [
        "{\"success\":1,\"return\":{\"LTC\":{\"marketid\":\"3\",\"label\":\"LTC\\/BTC\",\"primaryname\":\"LiteCoin\",\"primarycode\":\"LTC\",\"secondaryname\":\"BitCoin\",\"secondarycode\":\"BTC\",\"sellorders\":[{\"price\":\"0.03000000\",\"quantity\":\"0.00000000\",\"total\":\"0.00763521\"},{\"price\":\"0.03210000\",\"quantity\":\"0.00000000\",\"total\":\"1.37030400\"},{\"price\":\"0.03300001\",\"quantity\":\"0.00000000\",\"total\":\"0.52565506\"},{\"price\":\"0.03360000\",\"quantity\":\"0.00000000\",\"total\":\"1.15064651\"},{\"price\":\"0.03400000\",\"quantity\":\"0.00000000\",\"total\":\"3.58663262\"},{\"price\":\"0.03410000\",\"quantity\":\"0.00000000\",\"total\":\"0.11935000\"},{\"price\":\"0.03418194\",\"quantity\":\"0.00000000\",\"total\":\"1.05964014\"},{\"price\":\"0.03420000\",\"quantity\":\"0.00000000\",\"total\":\"0.00468087\"},{\"price\":\"0.03421612\",\"quantity\":\"0.00000000\",\"total\":\"0.03062767\"},{\"price\":\"0.03430099\",\"quantity\":\"0.00000000\",\"total\":\"0.00835660\"},{\"price\":\"0.03447500\",\"quantity\":\"0.00000000\",\"total\":\"1.72375000\"},{\"price\":\"0.03448380\",\"quantity\":\"0.00000000\",\"total\":\"0.73494380\"},{\"price\":\"0.03450000\",\"quantity\":\"0.00000000\",\"total\":\"1.05385165\"},{\"price\":\"0.03450079\",\"quantity\":\"0.00000000\",\"total\":\"0.45798201\"},{\"price\":\"0.03450080\",\"quantity\":\"0.00000000\",\"total\":\"0.33044922\"},{\"price\":\"0.03453461\",\"quantity\":\"0.00000000\",\"total\":\"0.04527358\"},{\"price\":\"0.03460000\",\"quantity\":\"0.00000000\",\"total\":\"0.29403922\"},{\"price\":\"0.03461111\",\"quantity\":\"0.00000000\",\"total\":\"0.04416931\"},{\"price\":\"0.03479515\",\"quantity\":\"0.00000000\",\"total\":\"0.02053910\"},{\"price\":\"0.03487820\",\"quantity\":\"0.00000000\",\"total\":\"0.05587167\"},{\"price\":\"0.03490000\",\"quantity\":\"0.00000000\",\"total\":\"0.35577151\"},{\"price\":\"0.03490200\",\"quantity\":\"0.00000000\",\"total\":\"0.33545874\"},{\"price\":\"0.03495000\",\"quantity\":\"0.00000000\",\"total\":\"0.56615575\"},{\"price\":\"0.03496913\",\"quantity\":\"0.00000000\",\"total\":\"0.01049074\"},{\"price\":\"0.03497000\",\"quantity\":\"0.00000000\",\"total\":\"1.55383335\"},{\"price\":\"0.03497001\",\"quantity\":\"0.00000000\",\"total\":\"0.52455015\"},{\"price\":\"0.03498099\",\"quantity\":\"0.00000000\",\"total\":\"2.89222629\"},{\"price\":\"0.03499990\",\"quantity\":\"0.00000000\",\"total\":\"0.00629998\"},{\"price\":\"0.03499999\",\"quantity\":\"0.00000000\",\"total\":\"0.00700000\"},{\"price\":\"0.03500000\",\"quantity\":\"0.00000000\",\"total\":\"5.57755453\"},{\"price\":\"0.03500106\",\"quantity\":\"0.00000000\",\"total\":\"0.22089039\"},{\"price\":\"0.03501000\",\"quantity\":\"0.00000000\",\"total\":\"1.77224065\"},{\"price\":\"0.03501230\",\"quantity\":\"0.00000000\",\"total\":\"1.40533193\"},{\"price\":\"0.03510001\",\"quantity\":\"0.00000000\",\"total\":\"0.26580790\"},{\"price\":\"0.03510002\",\"quantity\":\"0.00000000\",\"total\":\"1.80814834\"},{\"price\":\"0.03514485\",\"quantity\":\"0.00000000\",\"total\":\"0.00353333\"},{\"price\":\"0.03514990\",\"quantity\":\"0.00000000\",\"total\":\"0.97159210\"},{\"price\":\"0.03514991\",\"quantity\":\"0.00000000\",\"total\":\"0.40534302\"},{\"price\":\"0.03515000\",\"quantity\":\"0.00000000\",\"total\":\"1.16115166\"},{\"price\":\"0.03520000\",\"quantity\":\"0.00000000\",\"total\":\"0.13449920\"},{\"price\":\"0.03521000\",\"quantity\":\"0.00000000\",\"total\":\"2.88277119\"},{\"price\":\"0.03521123\",\"quantity\":\"0.00000000\",\"total\":\"0.57038742\"},{\"price\":\"0.03522000\",\"quantity\":\"0.00000000\",\"total\":\"0.41558771\"},{\"price\":\"0.03529439\",\"quantity\":\"0.00000000\",\"total\":\"0.02668387\"},{\"price\":\"0.03540000\",\"quantity\":\"0.00000000\",\"total\":\"0.01939849\"},{\"price\":\"0.03545000\",\"quantity\":\"0.00000000\",\"total\":\"0.09942974\"},{\"price\":\"0.03547175\",\"quantity\":\"0.00000000\",\"total\":\"1.47753220\"},{\"price\":\"0.03549999\",\"quantity\":\"0.00000000\",\"total\":\"0.42417912\"},{\"price\":\"0.03550000\",\"quantity\":\"0.00000000\",\"total\":\"2.05334844\"},{\"price\":\"0.03550058\",\"quantity\":\"0.00000000\",\"total\":\"0.01065017\"}],\"buyorders\":[{\"price\":\"0.05000000\",\"quantity\":\"0.00000000\",\"total\":\"0.04000025\"},{\"price\":\"0.03666823\",\"quantity\":\"0.00000000\",\"total\":\"0.01557825\"},{\"price\":\"0.03662000\",\"quantity\":\"0.00000000\",\"total\":\"1.39856328\"},{\"price\":\"0.03631353\",\"quantity\":\"0.00000000\",\"total\":\"0.16170929\"},{\"price\":\"0.03628000\",\"quantity\":\"0.00000000\",\"total\":\"0.11446340\"},{\"price\":\"0.03615000\",\"quantity\":\"0.00000000\",\"total\":\"0.09698072\"},{\"price\":\"0.03606000\",\"quantity\":\"0.00000000\",\"total\":\"2.60405698\"},{\"price\":\"0.03605000\",\"quantity\":\"0.00000000\",\"total\":\"0.18025000\"},{\"price\":\"0.03601696\",\"quantity\":\"0.00000000\",\"total\":\"0.00500500\"},{\"price\":\"0.03600000\",\"quantity\":\"0.00000000\",\"total\":\"4.05795395\"},{\"price\":\"0.03599000\",\"quantity\":\"0.00000000\",\"total\":\"0.41420017\"},{\"price\":\"0.03598099\",\"quantity\":\"1.60190793\",\"total\":\"15.49952885\"},{\"price\":\"0.03598098\",\"quantity\":\"0.00000000\",\"total\":\"2.46321087\"},{\"price\":\"0.03598097\",\"quantity\":\"0.00000000\",\"total\":\"0.00800000\"},{\"price\":\"0.03598096\",\"quantity\":\"0.00000000\",\"total\":\"2.51129041\"},{\"price\":\"0.03598090\",\"quantity\":\"0.00000000\",\"total\":\"0.06591701\"},{\"price\":\"0.03598050\",\"quantity\":\"0.00000000\",\"total\":\"0.15905813\"},{\"price\":\"0.03598009\",\"quantity\":\"0.00000000\",\"total\":\"0.42256870\"},{\"price\":\"0.03598000\",\"quantity\":\"0.00000000\",\"total\":\"2.12118082\"},{\"price\":\"0.03597010\",\"quantity\":\"0.00000000\",\"total\":\"0.12397010\"},{\"price\":\"0.03597001\",\"quantity\":\"0.00000000\",\"total\":\"0.03597001\"},{\"price\":\"0.03597000\",\"quantity\":\"0.00000000\",\"total\":\"3.30493502\"},{\"price\":\"0.03595000\",\"quantity\":\"0.00000000\",\"total\":\"0.03860050\"},{\"price\":\"0.03591294\",\"quantity\":\"0.00000000\",\"total\":\"0.01311258\"},{\"price\":\"0.03591205\",\"quantity\":\"0.00000000\",\"total\":\"0.02024972\"},{\"price\":\"0.03591200\",\"quantity\":\"0.00000000\",\"total\":\"0.02327780\"},{\"price\":\"0.03590000\",\"quantity\":\"0.00000000\",\"total\":\"0.69447875\"},{\"price\":\"0.03589900\",\"quantity\":\"0.00000000\",\"total\":\"0.08444181\"},{\"price\":\"0.03589800\",\"quantity\":\"0.00000000\",\"total\":\"0.00800000\"},{\"price\":\"0.03588789\",\"quantity\":\"0.00000000\",\"total\":\"0.04288603\"},{\"price\":\"0.03588785\",\"quantity\":\"0.00000000\",\"total\":\"0.06773265\"},{\"price\":\"0.03588098\",\"quantity\":\"0.00000000\",\"total\":\"0.20093349\"},{\"price\":\"0.03588000\",\"quantity\":\"0.00000000\",\"total\":\"0.03197598\"},{\"price\":\"0.03587990\",\"quantity\":\"0.00000000\",\"total\":\"0.00800000\"},{\"price\":\"0.03587000\",\"quantity\":\"0.00000000\",\"total\":\"1.70023800\"},{\"price\":\"0.03586745\",\"quantity\":\"0.00000000\",\"total\":\"0.00358675\"},{\"price\":\"0.03585939\",\"quantity\":\"0.00000000\",\"total\":\"0.02627520\"},{\"price\":\"0.03585740\",\"quantity\":\"0.00000000\",\"total\":\"0.00358574\"},{\"price\":\"0.03580000\",\"quantity\":\"0.00000000\",\"total\":\"4.09400446\"},{\"price\":\"0.03579999\",\"quantity\":\"0.00000000\",\"total\":\"0.01012994\"},{\"price\":\"0.03575000\",\"quantity\":\"0.00000000\",\"total\":\"0.00909369\"},{\"price\":\"0.03570000\",\"quantity\":\"0.00000000\",\"total\":\"1.75392590\"},{\"price\":\"0.03569999\",\"quantity\":\"0.00000000\",\"total\":\"0.10709997\"},{\"price\":\"0.03569900\",\"quantity\":\"0.00000000\",\"total\":\"1.01234276\"},{\"price\":\"0.03569800\",\"quantity\":\"0.00000000\",\"total\":\"0.06042795\"},{\"price\":\"0.03569699\",\"quantity\":\"0.00000000\",\"total\":\"0.00400000\"},{\"price\":\"0.03569400\",\"quantity\":\"0.00000000\",\"total\":\"0.53022526\"},{\"price\":\"0.03569000\",\"quantity\":\"0.00000000\",\"total\":\"0.12106398\"},{\"price\":\"0.03568900\",\"quantity\":\"0.00000000\",\"total\":\"0.22737817\"},{\"price\":\"0.03568000\",\"quantity\":\"0.00000000\",\"total\":\"0.00485257\"}]}}}\n",
        "{u'LTC': {u'secondarycode': u'BTC', u'primarycode': u'LTC', u'sellorders': [{u'price': u'0.03000000', u'total': u'0.00763521', u'quantity': u'0.00000000'}, {u'price': u'0.03210000', u'total': u'1.37030400', u'quantity': u'0.00000000'}, {u'price': u'0.03300001', u'total': u'0.52565506', u'quantity': u'0.00000000'}, {u'price': u'0.03360000', u'total': u'1.15064651', u'quantity': u'0.00000000'}, {u'price': u'0.03400000', u'total': u'3.58663262', u'quantity': u'0.00000000'}, {u'price': u'0.03410000', u'total': u'0.11935000', u'quantity': u'0.00000000'}, {u'price': u'0.03418194', u'total': u'1.05964014', u'quantity': u'0.00000000'}, {u'price': u'0.03420000', u'total': u'0.00468087', u'quantity': u'0.00000000'}, {u'price': u'0.03421612', u'total': u'0.03062767', u'quantity': u'0.00000000'}, {u'price': u'0.03430099', u'total': u'0.00835660', u'quantity': u'0.00000000'}, {u'price': u'0.03447500', u'total': u'1.72375000', u'quantity': u'0.00000000'}, {u'price': u'0.03448380', u'total': u'0.73494380', u'quantity': u'0.00000000'}, {u'price': u'0.03450000', u'total': u'1.05385165', u'quantity': u'0.00000000'}, {u'price': u'0.03450079', u'total': u'0.45798201', u'quantity': u'0.00000000'}, {u'price': u'0.03450080', u'total': u'0.33044922', u'quantity': u'0.00000000'}, {u'price': u'0.03453461', u'total': u'0.04527358', u'quantity': u'0.00000000'}, {u'price': u'0.03460000', u'total': u'0.29403922', u'quantity': u'0.00000000'}, {u'price': u'0.03461111', u'total': u'0.04416931', u'quantity': u'0.00000000'}, {u'price': u'0.03479515', u'total': u'0.02053910', u'quantity': u'0.00000000'}, {u'price': u'0.03487820', u'total': u'0.05587167', u'quantity': u'0.00000000'}, {u'price': u'0.03490000', u'total': u'0.35577151', u'quantity': u'0.00000000'}, {u'price': u'0.03490200', u'total': u'0.33545874', u'quantity': u'0.00000000'}, {u'price': u'0.03495000', u'total': u'0.56615575', u'quantity': u'0.00000000'}, {u'price': u'0.03496913', u'total': u'0.01049074', u'quantity': u'0.00000000'}, {u'price': u'0.03497000', u'total': u'1.55383335', u'quantity': u'0.00000000'}, {u'price': u'0.03497001', u'total': u'0.52455015', u'quantity': u'0.00000000'}, {u'price': u'0.03498099', u'total': u'2.89222629', u'quantity': u'0.00000000'}, {u'price': u'0.03499990', u'total': u'0.00629998', u'quantity': u'0.00000000'}, {u'price': u'0.03499999', u'total': u'0.00700000', u'quantity': u'0.00000000'}, {u'price': u'0.03500000', u'total': u'5.57755453', u'quantity': u'0.00000000'}, {u'price': u'0.03500106', u'total': u'0.22089039', u'quantity': u'0.00000000'}, {u'price': u'0.03501000', u'total': u'1.77224065', u'quantity': u'0.00000000'}, {u'price': u'0.03501230', u'total': u'1.40533193', u'quantity': u'0.00000000'}, {u'price': u'0.03510001', u'total': u'0.26580790', u'quantity': u'0.00000000'}, {u'price': u'0.03510002', u'total': u'1.80814834', u'quantity': u'0.00000000'}, {u'price': u'0.03514485', u'total': u'0.00353333', u'quantity': u'0.00000000'}, {u'price': u'0.03514990', u'total': u'0.97159210', u'quantity': u'0.00000000'}, {u'price': u'0.03514991', u'total': u'0.40534302', u'quantity': u'0.00000000'}, {u'price': u'0.03515000', u'total': u'1.16115166', u'quantity': u'0.00000000'}, {u'price': u'0.03520000', u'total': u'0.13449920', u'quantity': u'0.00000000'}, {u'price': u'0.03521000', u'total': u'2.88277119', u'quantity': u'0.00000000'}, {u'price': u'0.03521123', u'total': u'0.57038742', u'quantity': u'0.00000000'}, {u'price': u'0.03522000', u'total': u'0.41558771', u'quantity': u'0.00000000'}, {u'price': u'0.03529439', u'total': u'0.02668387', u'quantity': u'0.00000000'}, {u'price': u'0.03540000', u'total': u'0.01939849', u'quantity': u'0.00000000'}, {u'price': u'0.03545000', u'total': u'0.09942974', u'quantity': u'0.00000000'}, {u'price': u'0.03547175', u'total': u'1.47753220', u'quantity': u'0.00000000'}, {u'price': u'0.03549999', u'total': u'0.42417912', u'quantity': u'0.00000000'}, {u'price': u'0.03550000', u'total': u'2.05334844', u'quantity': u'0.00000000'}, {u'price': u'0.03550058', u'total': u'0.01065017', u'quantity': u'0.00000000'}], u'secondaryname': u'BitCoin', u'label': u'LTC/BTC', u'buyorders': [{u'price': u'0.05000000', u'total': u'0.04000025', u'quantity': u'0.00000000'}, {u'price': u'0.03666823', u'total': u'0.01557825', u'quantity': u'0.00000000'}, {u'price': u'0.03662000', u'total': u'1.39856328', u'quantity': u'0.00000000'}, {u'price': u'0.03631353', u'total': u'0.16170929', u'quantity': u'0.00000000'}, {u'price': u'0.03628000', u'total': u'0.11446340', u'quantity': u'0.00000000'}, {u'price': u'0.03615000', u'total': u'0.09698072', u'quantity': u'0.00000000'}, {u'price': u'0.03606000', u'total': u'2.60405698', u'quantity': u'0.00000000'}, {u'price': u'0.03605000', u'total': u'0.18025000', u'quantity': u'0.00000000'}, {u'price': u'0.03601696', u'total': u'0.00500500', u'quantity': u'0.00000000'}, {u'price': u'0.03600000', u'total': u'4.05795395', u'quantity': u'0.00000000'}, {u'price': u'0.03599000', u'total': u'0.41420017', u'quantity': u'0.00000000'}, {u'price': u'0.03598099', u'total': u'15.49952885', u'quantity': u'1.60190793'}, {u'price': u'0.03598098', u'total': u'2.46321087', u'quantity': u'0.00000000'}, {u'price': u'0.03598097', u'total': u'0.00800000', u'quantity': u'0.00000000'}, {u'price': u'0.03598096', u'total': u'2.51129041', u'quantity': u'0.00000000'}, {u'price': u'0.03598090', u'total': u'0.06591701', u'quantity': u'0.00000000'}, {u'price': u'0.03598050', u'total': u'0.15905813', u'quantity': u'0.00000000'}, {u'price': u'0.03598009', u'total': u'0.42256870', u'quantity': u'0.00000000'}, {u'price': u'0.03598000', u'total': u'2.12118082', u'quantity': u'0.00000000'}, {u'price': u'0.03597010', u'total': u'0.12397010', u'quantity': u'0.00000000'}, {u'price': u'0.03597001', u'total': u'0.03597001', u'quantity': u'0.00000000'}, {u'price': u'0.03597000', u'total': u'3.30493502', u'quantity': u'0.00000000'}, {u'price': u'0.03595000', u'total': u'0.03860050', u'quantity': u'0.00000000'}, {u'price': u'0.03591294', u'total': u'0.01311258', u'quantity': u'0.00000000'}, {u'price': u'0.03591205', u'total': u'0.02024972', u'quantity': u'0.00000000'}, {u'price': u'0.03591200', u'total': u'0.02327780', u'quantity': u'0.00000000'}, {u'price': u'0.03590000', u'total': u'0.69447875', u'quantity': u'0.00000000'}, {u'price': u'0.03589900', u'total': u'0.08444181', u'quantity': u'0.00000000'}, {u'price': u'0.03589800', u'total': u'0.00800000', u'quantity': u'0.00000000'}, {u'price': u'0.03588789', u'total': u'0.04288603', u'quantity': u'0.00000000'}, {u'price': u'0.03588785', u'total': u'0.06773265', u'quantity': u'0.00000000'}, {u'price': u'0.03588098', u'total': u'0.20093349', u'quantity': u'0.00000000'}, {u'price': u'0.03588000', u'total': u'0.03197598', u'quantity': u'0.00000000'}, {u'price': u'0.03587990', u'total': u'0.00800000', u'quantity': u'0.00000000'}, {u'price': u'0.03587000', u'total': u'1.70023800', u'quantity': u'0.00000000'}, {u'price': u'0.03586745', u'total': u'0.00358675', u'quantity': u'0.00000000'}, {u'price': u'0.03585939', u'total': u'0.02627520', u'quantity': u'0.00000000'}, {u'price': u'0.03585740', u'total': u'0.00358574', u'quantity': u'0.00000000'}, {u'price': u'0.03580000', u'total': u'4.09400446', u'quantity': u'0.00000000'}, {u'price': u'0.03579999', u'total': u'0.01012994', u'quantity': u'0.00000000'}, {u'price': u'0.03575000', u'total': u'0.00909369', u'quantity': u'0.00000000'}, {u'price': u'0.03570000', u'total': u'1.75392590', u'quantity': u'0.00000000'}, {u'price': u'0.03569999', u'total': u'0.10709997', u'quantity': u'0.00000000'}, {u'price': u'0.03569900', u'total': u'1.01234276', u'quantity': u'0.00000000'}, {u'price': u'0.03569800', u'total': u'0.06042795', u'quantity': u'0.00000000'}, {u'price': u'0.03569699', u'total': u'0.00400000', u'quantity': u'0.00000000'}, {u'price': u'0.03569400', u'total': u'0.53022526', u'quantity': u'0.00000000'}, {u'price': u'0.03569000', u'total': u'0.12106398', u'quantity': u'0.00000000'}, {u'price': u'0.03568900', u'total': u'0.22737817', u'quantity': u'0.00000000'}, {u'price': u'0.03568000', u'total': u'0.00485257', u'quantity': u'0.00000000'}], u'primaryname': u'LiteCoin', u'marketid': u'3'}}\n"
       ]
      }
     ],
     "prompt_number": 35
    },
    {
     "cell_type": "code",
     "collapsed": false,
     "input": [
      "print p[\"return\"][\"LTC\"][\"sellorders\"][-1]\n"
     ],
     "language": "python",
     "metadata": {},
     "outputs": [
      {
       "output_type": "stream",
       "stream": "stdout",
       "text": [
        "{u'price': u'0.03550058', u'total': u'0.01065017', u'quantity': u'0.00000000'}\n"
       ]
      }
     ],
     "prompt_number": 58
    },
    {
     "cell_type": "code",
     "collapsed": false,
     "input": [
      "\n",
      "vircurex_api_functions = [\"get_lowest_ask\",\"get_highest_bid\" ,\"get_last_trade\" ,\"get_volume\",\"get_info_for_currency\" ,\n",
      "                          \"get_info_for_1_currency\" ,\"orderbook\" ,\"orderbook_alt\" ,\"trades\",\"get_currency_info\"]\n",
      "vircurex_coinbases = [\"ANC\",\"BTC\",\"DGC\",\"DVC\",\"FRC\",\"FTC\",\"I0C\",\"IXC\",\"LTC\",\"NMC\",\"NVC\",\"PPC\",\"QRK\",\"TRC\",\"WDC\",\"XPM\"]\n",
      "virc = requests.get(vircurex_api_url+\"orderbook_alt.json?alt=BTC\") #\"get_lowest_ask.json?base=BTC&alt=LTC\") #\"get_highest_bid.json?base=BTC&alt=LTC\"\n",
      "\n",
      "print virc.json()[\"LTC\"]['bids'][0]"
     ],
     "language": "python",
     "metadata": {},
     "outputs": [
      {
       "output_type": "stream",
       "stream": "stdout",
       "text": [
        "[u'0.03649944', u'26.81926839']\n"
       ]
      }
     ],
     "prompt_number": 57
    }
   ],
   "metadata": {}
  }
 ]
}