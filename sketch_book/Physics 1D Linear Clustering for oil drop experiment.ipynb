{
 "metadata": {
  "name": ""
 },
 "nbformat": 3,
 "nbformat_minor": 0,
 "worksheets": [
  {
   "cells": [
    {
     "cell_type": "code",
     "collapsed": false,
     "input": [
      "import numpy as np\n",
      "import matplotlib.pyplot as plt\n",
      "import random\n",
      "import math\n",
      "\n",
      "print 1.98E-19\n"
     ],
     "language": "python",
     "metadata": {},
     "outputs": [
      {
       "output_type": "stream",
       "stream": "stdout",
       "text": [
        "1.98e-19\n"
       ]
      }
     ],
     "prompt_number": 245
    },
    {
     "cell_type": "raw",
     "metadata": {},
     "source": [
      "Generate some data"
     ]
    },
    {
     "cell_type": "code",
     "collapsed": false,
     "input": [
      "how_many_clusters = 5\n",
      "scale = .2\n",
      "size_per_cluster = 50\n",
      "increments = 4\n",
      "\n",
      "k = 0\n",
      "for i in range(0,how_many_clusters*increments,increments):\n",
      "    k = np.append(k, np.random.normal(i,scale,size_per_cluster))\n",
      "k = sorted(k)\n",
      "k = [1.98E-19,2.18E-19,1.54E-19,1.80E-19,3.40E-19,4.37E-19,3.19E-19,1.85E-19,2.91E-19,3.50E-19,5.46E-19,2.82E-19,5.97E-19,4.28E-19,3.20E-19,5.62E-19,3.29E-19,4.63E-19,3.32E-19,2.88E-19,2.31E-19]\n",
      "k = sorted(k) \n",
      "plt.scatter(k,[0 for i in k])\n",
      "plt.show()\n",
      "    "
     ],
     "language": "python",
     "metadata": {},
     "outputs": [],
     "prompt_number": 246
    },
    {
     "cell_type": "raw",
     "metadata": {},
     "source": [
      "Clustering algorithm based on k-means algorithm\n",
      "\n",
      "There's a bug."
     ]
    },
    {
     "cell_type": "code",
     "collapsed": false,
     "input": [
      "meanofmean = []\n",
      "times_random_start = 10\n",
      "times_iterate_to_local_min = 300\n",
      "how_many_clusters = 4\n",
      "\n",
      "k = [1.98E-19,2.18E-19,1.54E-19,1.80E-19,3.40E-19,4.37E-19,3.19E-19,1.85E-19,2.91E-19,3.50E-19,5.46E-19,2.82E-19,5.97E-19,4.28E-19,3.20E-19,5.62E-19,3.29E-19,4.63E-19,3.32E-19,2.88E-19,2.31E-19]\n",
      "k = sorted(k)     \n",
      "     \n",
      "for l in range(times_random_start):\n",
      "    g = how_many_clusters\n",
      "    bins = []\n",
      "    means = []\n",
      "    for i in range(g):\n",
      "        bins.append([])\n",
      "        means.append(random.random()*(18))\n",
      "    means = sorted(means)\n",
      "    \n",
      "    for p in range(times_iterate_to_local_min):\n",
      "        bins = []\n",
      "        for i in range(g):\n",
      "            bins.append([])\n",
      "        for h,o in enumerate(means):\n",
      "            bins[h].append(o)\n",
      "        for i, j in enumerate(k):\n",
      "            least = j\n",
      "            leastdiff = 0\n",
      "            for m, n in enumerate(means):\n",
      "                if m == 0:\n",
      "                    least = m\n",
      "                    leastdiff = math.fabs(n-j)\n",
      "                elif math.fabs(n-j) < leastdiff:\n",
      "                    least = m\n",
      "                    leastdiff = math.fabs(n-j)\n",
      "            else:\n",
      "                bins[least].append(j)\n",
      "                \n",
      "        #print bins\n",
      "        means = [sum(i)/float(len(i)) if len(i) != 0 else 0 for i in bins]\n",
      "        means = sorted(means)\n",
      "    print means\n",
      "    \n",
      "    sumdiff = 0\n",
      "    for u in range(1,len(means)):\n",
      "        sumdiff += means[u] - means[u-1]\n",
      "    else:\n",
      "        meanofmean.append(sumdiff / (len(means)-1))\n",
      "print meanofmean\n",
      "print sum(meanofmean)/(len(meanofmean))"
     ],
     "language": "python",
     "metadata": {},
     "outputs": [
      {
       "output_type": "stream",
       "stream": "stdout",
       "text": [
        "[3.3571428571428566e-19, 4.8074861800906294, 11.885209533882888, 12.327990119666305]\n",
        "[3.3571428571428566e-19, 8.706550504513386, 13.403369734961647, 16.239020814717623]\n",
        "[3.3571428571428566e-19, 10.177378369785652, 13.02959521834522, 15.885087601224697]"
       ]
      },
      {
       "output_type": "stream",
       "stream": "stdout",
       "text": [
        "\n",
        "[3.3571428571428566e-19, 9.101751129053556, 14.21151097833973, 15.68259769327299]\n",
        "[3.3571428571428566e-19, 5.882633196237186, 11.404905692639243, 16.09975795578357]"
       ]
      },
      {
       "output_type": "stream",
       "stream": "stdout",
       "text": [
        "\n",
        "[3.3571428571428566e-19, 5.210220244412641, 14.160217597748977, 15.97980811770882]\n",
        "[3.3571428571428566e-19, 15.398957177174399, 17.3159110016248, 17.8848284054609]\n",
        "[3.3571428571428566e-19, 2.4193351515419432, 7.280976370427963, 14.62056720391453]"
       ]
      },
      {
       "output_type": "stream",
       "stream": "stdout",
       "text": [
        "\n",
        "[3.3571428571428566e-19, 7.3757207955051385, 9.620687158978408, 11.353473272875881]\n",
        "[3.3571428571428566e-19, 6.387123400023034, 7.611909745912152, 12.54736601443336]"
       ]
      },
      {
       "output_type": "stream",
       "stream": "stdout",
       "text": [
        "\n",
        "[4.109330039888769, 5.413006938239207, 5.295029200408233, 5.2275325644243305, 5.36658598526119, 5.32660270590294, 5.961609468486967, 4.873522401304843, 3.784491090958627, 4.182455338144453]\n",
        "4.9540165733\n"
       ]
      }
     ],
     "prompt_number": 255
    }
   ],
   "metadata": {}
  }
 ]
}