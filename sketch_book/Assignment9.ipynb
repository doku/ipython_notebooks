{
 "cells": [
  {
   "cell_type": "markdown",
   "metadata": {},
   "source": [
    "Problem 2\n",
    "\n",
    "Convert Newton’s method for approximating square roots in Project 1 to\n",
    "a recursive function named  newton . (Hint: The estimate of the square\n",
    "root should be passed as a second argument to the function.)"
   ]
  },
  {
   "cell_type": "code",
   "execution_count": 4,
   "metadata": {
    "collapsed": false
   },
   "outputs": [
    {
     "name": "stdout",
     "output_type": "stream",
     "text": [
      "48.218253804964775\n",
      "48.218253804964775\n"
     ]
    }
   ],
   "source": [
    "def newton_method(x):\n",
    "    tol = 0.000001\n",
    "    esti = 1\n",
    "    \n",
    "    while True:\n",
    "        esti = (esti + x / esti) /2\n",
    "        if abs(x - esti**2) <= tol:\n",
    "            break\n",
    "    return esti\n",
    "\n",
    "print(newton_method(2325))\n",
    "\n",
    "def newcursion(x, esti):\n",
    "    tol = 0.000001\n",
    "    if abs(x - esti**2) <= tol:\n",
    "        return esti\n",
    "    return newcursion(x, (esti + x / esti) /2 )\n",
    "\n",
    "print(newcursion(2325, 1))"
   ]
  },
  {
   "cell_type": "markdown",
   "metadata": {},
   "source": [
    "Problem 3\n",
    "\n",
    "Elena complains that the recursive  newton function in Project 2 includes\n",
    "an extra argument for the estimate. The function’s users should not have to\n",
    "provide this value, which is always the same, when they call this function.\n",
    "Modify the definition of the function so that it uses a keyword parameter\n",
    "with the appropriate default value for this argument, and call the function\n",
    "without a second argument to demonstrate that it solves this problem."
   ]
  },
  {
   "cell_type": "code",
   "execution_count": 5,
   "metadata": {
    "collapsed": false
   },
   "outputs": [
    {
     "name": "stdout",
     "output_type": "stream",
     "text": [
      "48.218253804964775\n"
     ]
    }
   ],
   "source": [
    "def newcursion(x, esti = 1):\n",
    "    tol = 0.000001\n",
    "    if abs(x - esti**2) <= tol:\n",
    "        return esti\n",
    "    return newcursion(x, (esti + x / esti) /2 )\n",
    "\n",
    "print(newcursion(2325))"
   ]
  },
  {
   "cell_type": "markdown",
   "metadata": {},
   "source": [
    "Problem 4\n",
    "\n",
    "Restructure Newton’s method (Case Study 3.6) by decomposing it into\n",
    "three cooperating functions. The  newton function can use either the\n",
    "recursive strategy of Project 1 or the iterative strategy of Case Study 3.6.\n",
    "The task of testing for the limit is assigned to a function named\n",
    "limitReached , whereas the task of computing a new approximation is\n",
    "assigned to a function named  improveEstimate . Each function expects\n",
    "the relevant arguments and returns an appropriate value."
   ]
  },
  {
   "cell_type": "code",
   "execution_count": 6,
   "metadata": {
    "collapsed": false
   },
   "outputs": [
    {
     "name": "stdout",
     "output_type": "stream",
     "text": [
      "48.218253804964775\n"
     ]
    }
   ],
   "source": [
    "def newtons(x, esti = 1):\n",
    "    if limitReached(x, esti):\n",
    "        return esti\n",
    "    return newtons(x, improveEstimate(x, esti))\n",
    "\n",
    "def limitReached(x, esti):\n",
    "    tol = 0.000001\n",
    "    return abs(x - esti**2) <= tol\n",
    "\n",
    "def improveEstimate(x, esti):\n",
    "    return (esti + x / esti)/2\n",
    "\n",
    "print(newtons(2325))\n"
   ]
  },
  {
   "cell_type": "code",
   "execution_count": null,
   "metadata": {
    "collapsed": true
   },
   "outputs": [],
   "source": []
  }
 ],
 "metadata": {
  "kernelspec": {
   "display_name": "Python 3",
   "language": "python",
   "name": "python3"
  },
  "language_info": {
   "codemirror_mode": {
    "name": "ipython",
    "version": 3
   },
   "file_extension": ".py",
   "mimetype": "text/x-python",
   "name": "python",
   "nbconvert_exporter": "python",
   "pygments_lexer": "ipython3",
   "version": "3.5.1"
  }
 },
 "nbformat": 4,
 "nbformat_minor": 0
}
