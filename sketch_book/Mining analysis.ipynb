{
 "metadata": {
  "name": ""
 },
 "nbformat": 3,
 "nbformat_minor": 0,
 "worksheets": [
  {
   "cells": [
    {
     "cell_type": "code",
     "collapsed": false,
     "input": [
      "def mine_calc(diff,hash_sec, time_sec = 1,blocksize = 25):\n",
      "    return 1 * hash_sec * time_sec / (diff * 2**32) * blocksize\n",
      "\n",
      "def mine_btc_week(diff, hash_sec):\n",
      "    return mine_calc(diff,hash_sec, 60*60*24*7.0, 25)\n",
      "\n",
      "def mine_ltc_week(diff,hash_sec):\n",
      "    return mine_calc(diff,hash_sec, 60*60*24*7.0, 50)\n",
      "\n",
      "def mine_ltc_hour(diff,hash_sec):\n",
      "    return mine_calc(diff,hash_sec, 60*60, 50)\n",
      "\n",
      "def in_dollars(price = 625):\n",
      "    def decorator(func):\n",
      "        def new_func(diff,hash_sec):\n",
      "            return func(diff,hash_sec) * price\n",
      "        return new_func\n",
      "    return decorator\n",
      "\n",
      "btc_price = 614.79\n",
      "@in_dollars(btc_price)\n",
      "def mine_btc_week_dollars(diff, hash_sec):\n",
      "    return mine_btc_week(diff,hash_sec)\n",
      "\n",
      "ltc_price = .0134516 * btc_price\n",
      "@in_dollars(ltc_price)\n",
      "def mine_ltc_week_dollars(diff,hash_sec):\n",
      "    return mine_ltc_week(diff,hash_sec)\n",
      "\n",
      "def power_cost(power_rating_watts, price_kwh, time_hours, utilization = 1):\n",
      "    return power_rating_watts * .001 * time_hours * price_kwh * utilization\n",
      "    \n",
      "\n",
      "#btc_price = 700\n",
      "print mine_btc_week_dollars(609482679, 7 * 10**9), \" - \" ,\n",
      "print power_cost(36,.2,24*7) \n",
      "print mine_ltc_week_dollars(1429.0426, 2 * 10**6) - power_cost(1050, .2, 24*7)\n",
      "print mine_ltc_week(1429.0426, 2 * 10**6)\n",
      "\n",
      "\n",
      "def ltc_hour(hash_kH, diff):\n",
      "    return hash_kH / diff * 0.0419\n",
      "\n",
      "print ltc_hour(2000, 1429.0426)\n",
      "print mine_ltc_hour(1429.0426,2000000)"
     ],
     "language": "python",
     "metadata": {},
     "outputs": [
      {
       "output_type": "stream",
       "stream": "stdout",
       "text": [
        "24.8573825958  -  1.2096\n",
        "46.2105943239\n",
        "9.85386812694\n",
        "0.0586406591378\n",
        "0.0586539769461\n"
       ]
      }
     ],
     "prompt_number": 41
    }
   ],
   "metadata": {}
  }
 ]
}