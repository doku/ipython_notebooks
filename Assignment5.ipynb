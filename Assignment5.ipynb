{
 "cells": [
  {
   "cell_type": "markdown",
   "metadata": {},
   "source": [
    "A group of statisticians at a local college has asked you to create a set of\n",
    "functions that compute the median and mode of a set of numbers, as\n",
    "defined in Section 5.1. Define these functions in a module named\n",
    "stats.py. Also include a function named mean, which computes the\n",
    "average of a set of numbers. Each function should expect a list of numbers\n",
    "as an argument and return a single number. Each function should\n",
    "return 0 if the list is empty. Include a main function that tests the three\n",
    "statistical functions with a given list."
   ]
  },
  {
   "cell_type": "code",
   "execution_count": 9,
   "metadata": {
    "collapsed": false
   },
   "outputs": [
    {
     "name": "stdout",
     "output_type": "stream",
     "text": [
      "median :  14.0 14.0\n",
      "mode:  [5] [(5, 5)]\n",
      "mean:  14.6 14.6\n"
     ]
    }
   ],
   "source": [
    "import numpy\n",
    "import collections\n",
    "\n",
    "def median(l):\n",
    "    midpoint = (len(l)-1)/2\n",
    "    l.sort()\n",
    "    return sum(l[midpoint:midpoint + 1 + (midpoint%2==0)])/ float(1+(midpoint%2==0))  \n",
    "\n",
    "    \n",
    "def mode(l):\n",
    "    diction = {}\n",
    "    for i in l:\n",
    "        if i in diction:\n",
    "            diction[i] += 1\n",
    "        else:\n",
    "            diction[i] = 1\n",
    "    k = sorted(diction.items(), key=lambda (x, y): y , reverse=True)\n",
    "    return [i for i, item in k if item == k[0][1]]\n",
    "\n",
    "def mean(l):\n",
    "    return sum(l) / float(len(l))\n",
    "\n",
    "import random\n",
    "def main():\n",
    "    li = [random.randint(1,30) for i in range(50)]\n",
    "    #print li\n",
    "    print \"median : \" , median(li), numpy.median(li)\n",
    "    print \"mode: \" ,mode(li), collections.Counter(li).most_common(1)\n",
    "    print \"mean: \" , mean(li), numpy.mean(li)\n",
    "    \n",
    "    \n",
    "    \n",
    "    \n",
    "main()"
   ]
  },
  {
   "cell_type": "markdown",
   "metadata": {},
   "source": [
    "median :  14.0 14.0\n",
    "mode:  [5] [(5, 5)]\n",
    "mean:  14.6 14.6"
   ]
  },
  {
   "cell_type": "markdown",
   "metadata": {},
   "source": [
    "Write a program that allows the user to navigate the lines of text in a\n",
    "file. The program should prompt the user for a filename and input the\n",
    "lines of text into a list. The program then enters a loop in which it prints\n",
    "the number of lines in the file and prompts the user for a line number.\n",
    "Actual line numbers range from 1 to the number of lines in the file. If\n",
    "the input is 0, the program quits. Otherwise, the program prints the line\n",
    "associated with that number.\n"
   ]
  },
  {
   "cell_type": "code",
   "execution_count": 7,
   "metadata": {
    "collapsed": false
   },
   "outputs": [
    {
     "name": "stdout",
     "output_type": "stream",
     "text": [
      "What is the text file: Lab4.ipynb\n",
      "There are  151  lines of text\n",
      "Enter the line number: 23\n",
      "   },\n",
      "\n",
      "Enter the line number: 51\n",
      "   \"metadata\": {},\n",
      "\n",
      "Enter the line number: 32\n",
      "     ]\n",
      "\n",
      "Enter the line number: 93\n",
      "    \"Project 6.\"\n",
      "\n",
      "Enter the line number: 84\n",
      "    \"enc(\\\"2asdfg3wsdfasdgkgweraghijz\\\")\"\n",
      "\n",
      "Enter the line number: 27\n",
      "     \"output_type\": \"stream\",\n",
      "\n",
      "Enter the line number: 0\n",
      "}\n",
      "\n"
     ]
    }
   ],
   "source": [
    "\n",
    "def problem2():\n",
    "    filename = str(raw_input(\"What is the text file: \"))\n",
    "    text_array = []\n",
    "    inp = \"\"\n",
    "    with open(filename, 'r') as f:\n",
    "        for line in f:\n",
    "            text_array.append(line)\n",
    "            \n",
    "    inp = \"\"\n",
    "    print \"There are \", len(text_array), \" lines of text\"\n",
    "    while inp != 0:\n",
    "        inp = input(\"Enter the line number: \" )\n",
    "        if inp < 0 or inp > len(text_array):\n",
    "            print \"Number out of range\"\n",
    "        else:\n",
    "            print text_array[inp-1]\n",
    "\n",
    "problem2()"
   ]
  },
  {
   "cell_type": "markdown",
   "metadata": {},
   "source": [
    "What is the text file: Lab4.ipynb\n",
    "There are  151  lines of text\n",
    "Enter the line number: 23\n",
    "   },\n",
    "\n",
    "Enter the line number: 51\n",
    "   \"metadata\": {},\n",
    "\n",
    "Enter the line number: 32\n",
    "     ]\n",
    "\n",
    "Enter the line number: 93\n",
    "    \"Project 6.\"\n",
    "\n",
    "Enter the line number: 84\n",
    "    \"enc(\\\"2asdfg3wsdfasdgkgweraghijz\\\")\"\n",
    "\n",
    "Enter the line number: 27\n",
    "     \"output_type\": \"stream\",\n",
    "\n",
    "Enter the line number: 0\n",
    "}\n"
   ]
  },
  {
   "cell_type": "code",
   "execution_count": null,
   "metadata": {
    "collapsed": true
   },
   "outputs": [],
   "source": []
  }
 ],
 "metadata": {
  "kernelspec": {
   "display_name": "Python 2",
   "language": "python",
   "name": "python2"
  },
  "language_info": {
   "codemirror_mode": {
    "name": "ipython",
    "version": 2
   },
   "file_extension": ".py",
   "mimetype": "text/x-python",
   "name": "python",
   "nbconvert_exporter": "python",
   "pygments_lexer": "ipython2",
   "version": "2.7.2"
  }
 },
 "nbformat": 4,
 "nbformat_minor": 0
}
