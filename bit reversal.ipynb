{
 "metadata": {
  "name": ""
 },
 "nbformat": 3,
 "nbformat_minor": 0,
 "worksheets": [
  {
   "cells": [
    {
     "cell_type": "code",
     "collapsed": false,
     "input": [
      "import math\n",
      "def reverse(x):\n",
      "    rev = 0\n",
      "    x2 = x\n",
      "    for k in range(int(math.ceil(math.log(x,2)))):\n",
      "        rev = rev << 1\n",
      "        rev = rev | (x2 & 1)\n",
      "        x2 = x2 >> 1\n",
      "    return rev\n",
      "print [(i) for i in range(1,50) if reverse(i)& i == i]"
     ],
     "language": "python",
     "metadata": {},
     "outputs": [
      {
       "output_type": "stream",
       "stream": "stdout",
       "text": [
        "[3, 5, 7, 9, 15, 17, 21, 27, 31, 33, 45]\n"
       ]
      }
     ],
     "prompt_number": 16
    },
    {
     "cell_type": "code",
     "collapsed": false,
     "input": [],
     "language": "python",
     "metadata": {},
     "outputs": []
    }
   ],
   "metadata": {}
  }
 ]
}