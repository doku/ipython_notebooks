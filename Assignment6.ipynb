{
 "cells": [
  {
   "cell_type": "markdown",
   "metadata": {},
   "source": [
    "Page 199 problem 6\n",
    "\n",
    "Define a function  decimalToRep that returns the representation of an\n",
    "integer in a given base. The two arguments should be the integer and the\n",
    "base. The function should return a string. It should use a lookup table\n",
    "that associates integers with digits. Include a  main function that tests the\n",
    "conversion function with numbers in several bases.\n",
    "\n",
    "Use your conversion functions for repToDecimal and decimalToRep to add numbers in any base using a list. Your program should be able to add A+A in hex and return 14. It should also add 111+110 in binary and return 1101. By using a list to store the chars of each number string you should be able to add arbitrarily large numbers and return their string representation. This way you can represent numbers much larger than MAX_INT such as 10,000,000. You must write a new function that takes two number string representations and the base they are in and returns the representation string for their addition in whatever base they are in. Write a program to test the function for each base.  "
   ]
  },
  {
   "cell_type": "code",
   "execution_count": 2,
   "metadata": {
    "collapsed": false,
    "scrolled": true
   },
   "outputs": [
    {
     "name": "stdout",
     "output_type": "stream",
     "text": [
      "hex for 15:  f\n",
      "oct for 11:  17\n",
      "base 2: 111 + 110 = 1101\n",
      "base 16: a + a =  14\n",
      "base 8:  156 + 298 = 706\n"
     ]
    }
   ],
   "source": [
    "\n",
    "def decimalToRep(integer, base):\n",
    "    #hexLookupTable = {0: '0', 1: '1', 2: '2', 3: '3', 4: '4', 5: '5', 6: '6', 7: '7', 8: '8', 9: '9', 10: 'a', 11: 'b', 12: 'c', 13: 'd', 14: 'e', 15: 'f', 16: '10'}\n",
    "    hexLookupTable = {i:hex(i)[2:] for i in range(17)}\n",
    "    result = \"\"\n",
    "    n = int(integer)\n",
    "    while n:\n",
    "        if base == 16:\n",
    "            result = hexLookupTable[n % base] + result\n",
    "        else:\n",
    "            result = str(n % base) + result\n",
    "        n = n/base\n",
    "    return result\n",
    "    \n",
    "def repToDecimal(integer, base):\n",
    "    return str(int(integer, base))\n",
    "    \n",
    "import itertools\n",
    "def baseAdd(num1, num2, base):\n",
    "    num1 = list(num1)[::-1]\n",
    "    num2 = list(num2)[::-1]\n",
    "    result = map(lambda x: int(x[0], base) + int(x[1],base), itertools.izip_longest(num1, num2, fillvalue=0))\n",
    "    for i, item in enumerate(result):\n",
    "        if result[i] /base:\n",
    "            if i+1 >= len(result):\n",
    "                result.append(result[i]/base)\n",
    "            else:\n",
    "                result[i+1] += result[i]/base \n",
    "            result[i] %= base\n",
    "    return \"\".join(map(str, result[::-1]))\n",
    "    \n",
    "    \n",
    "    \n",
    "def main():\n",
    "    print \"hex for 15: \",  decimalToRep(\"15\", 16)\n",
    "    #print hex(15)[2:]\n",
    "    print \"oct for 11: \", repToDecimal(\"11\", 16)\n",
    "    #print {i:hex(i)[2:] for i in range(17)}\n",
    "    #print [oct(i) for i in range(15)]\n",
    "    print \"base 2:\", \"111\", \"+\" , \"110\", \"=\", baseAdd(\"111\", \"110\", 2)\n",
    "    print \"base 16: a + a = \", baseAdd(\"a\", \"a\", 16)\n",
    "    print \"base 8: \", repToDecimal(\"234\",8) , \"+\",  repToDecimal(\"452\", 8), \"=\", baseAdd(\"234\", \"452\", 8)\n",
    "    \n",
    "main()\n",
    "    "
   ]
  },
  {
   "cell_type": "code",
   "execution_count": 59,
   "metadata": {
    "collapsed": false
   },
   "outputs": [
    {
     "data": {
      "text/plain": [
       "[(1, 0), (2, 1), (3, 2), (4, 3), (0, 4), (0, 5)]"
      ]
     },
     "execution_count": 59,
     "metadata": {},
     "output_type": "execute_result"
    }
   ],
   "source": [
    "list(itertools.izip_longest([1,2,3,4], range(6), fillvalue=0))"
   ]
  },
  {
   "cell_type": "code",
   "execution_count": 10,
   "metadata": {
    "collapsed": false
   },
   "outputs": [
    {
     "data": {
      "text/plain": [
       "[0, 3, 6, 9, 12, 15, 18, 21, 24, 27]"
      ]
     },
     "execution_count": 10,
     "metadata": {},
     "output_type": "execute_result"
    }
   ],
   "source": [
    "a, b = 0,1\n",
    "geni = (i for i in itertools.count(0) if not (i % 3))\n",
    "list(itertools.islice(geni, 10))"
   ]
  },
  {
   "cell_type": "code",
   "execution_count": 8,
   "metadata": {
    "collapsed": false
   },
   "outputs": [
    {
     "data": {
      "text/plain": [
       "[6, 9, 12, 15, 18, 21, 24, 27, 30, 33]"
      ]
     },
     "execution_count": 8,
     "metadata": {},
     "output_type": "execute_result"
    }
   ],
   "source": [
    "list(itertools.islice(geni, 10))"
   ]
  },
  {
   "cell_type": "code",
   "execution_count": 18,
   "metadata": {
    "collapsed": false
   },
   "outputs": [
    {
     "data": {
      "text/plain": [
       "True"
      ]
     },
     "execution_count": 18,
     "metadata": {},
     "output_type": "execute_result"
    }
   ],
   "source": [
    "not any({i for i in [0,0,0,0,0,0]})"
   ]
  },
  {
   "cell_type": "code",
   "execution_count": 27,
   "metadata": {
    "collapsed": false
   },
   "outputs": [
    {
     "name": "stdout",
     "output_type": "stream",
     "text": [
      "[1, 2, 1, 1, 2, 1, 4, 6, 7, 9, 3, 8, 9, 8, 12, 8, 9, 2, 4, 9, 12, 15, 8, 5, 22, 20, 11, 2, 19, 14, 5, 25, 27, 20, 12, 29, 37, 12, 13, 40]\n"
     ]
    },
    {
     "data": {
      "text/plain": [
       "[9,\n",
       " 9,\n",
       " 9,\n",
       " 9,\n",
       " 19,\n",
       " 29,\n",
       " 8,\n",
       " 8,\n",
       " 8,\n",
       " 8,\n",
       " 7,\n",
       " 27,\n",
       " 37,\n",
       " 6,\n",
       " 15,\n",
       " 5,\n",
       " 5,\n",
       " 25,\n",
       " 4,\n",
       " 4,\n",
       " 14,\n",
       " 3,\n",
       " 13,\n",
       " 2,\n",
       " 2,\n",
       " 12,\n",
       " 2,\n",
       " 12,\n",
       " 22,\n",
       " 2,\n",
       " 12,\n",
       " 12,\n",
       " 1,\n",
       " 1,\n",
       " 1,\n",
       " 1,\n",
       " 11,\n",
       " 20,\n",
       " 20,\n",
       " 40]"
      ]
     },
     "execution_count": 27,
     "metadata": {},
     "output_type": "execute_result"
    }
   ],
   "source": [
    "import random\n",
    "k = [random.randint(1,i+1) for i in range(40)]\n",
    "print k\n",
    "sorted(k, key=lambda x: x%10, reverse = True)\n"
   ]
  },
  {
   "cell_type": "code",
   "execution_count": null,
   "metadata": {
    "collapsed": false
   },
   "outputs": [],
   "source": [
    "\n"
   ]
  },
  {
   "cell_type": "code",
   "execution_count": null,
   "metadata": {
    "collapsed": true
   },
   "outputs": [],
   "source": []
  }
 ],
 "metadata": {
  "kernelspec": {
   "display_name": "Python 2",
   "language": "python",
   "name": "python2"
  },
  "language_info": {
   "codemirror_mode": {
    "name": "ipython",
    "version": 2
   },
   "file_extension": ".py",
   "mimetype": "text/x-python",
   "name": "python",
   "nbconvert_exporter": "python",
   "pygments_lexer": "ipython2",
   "version": "2.7.5"
  }
 },
 "nbformat": 4,
 "nbformat_minor": 0
}
