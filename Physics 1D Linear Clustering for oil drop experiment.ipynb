{
 "metadata": {
  "name": ""
 },
 "nbformat": 3,
 "nbformat_minor": 0,
 "worksheets": [
  {
   "cells": [
    {
     "cell_type": "code",
     "collapsed": false,
     "input": [
      "import numpy as np\n",
      "import matplotlib.pyplot as plt\n",
      "import random\n",
      "import math\n"
     ],
     "language": "python",
     "metadata": {},
     "outputs": [],
     "prompt_number": 202
    },
    {
     "cell_type": "raw",
     "metadata": {},
     "source": [
      "Generate some data"
     ]
    },
    {
     "cell_type": "code",
     "collapsed": false,
     "input": [
      "how_many_clusters = 5\n",
      "scale = .2\n",
      "size_per_cluster = 50\n",
      "increments = 4\n",
      "\n",
      "k = 0\n",
      "for i in range(0,how_many_clusters*increments,increments):\n",
      "    k = np.append(k, np.random.normal(i,scale,size_per_cluster))\n",
      "k = sorted(k)\n",
      "plt.scatter(k,[0 for i in k])\n",
      "plt.show()\n",
      "    "
     ],
     "language": "python",
     "metadata": {},
     "outputs": [],
     "prompt_number": 235
    },
    {
     "cell_type": "raw",
     "metadata": {},
     "source": [
      "Clustering algorithm based on k-means algorithm"
     ]
    },
    {
     "cell_type": "code",
     "collapsed": false,
     "input": [
      "meanofmean = []\n",
      "times_random_start = 10\n",
      "times_iterate_to_local_min = 300\n",
      "how_many_clusters = 5\n",
      "\n",
      "for l in range(times_random_start):\n",
      "    g = how_many_clusters\n",
      "    bins = []\n",
      "    means = []\n",
      "    for i in range(g):\n",
      "        bins.append([])\n",
      "        means.append(random.random()*(18))\n",
      "    means = sorted(means)\n",
      "    \n",
      "    for p in range(times_iterate_to_local_min):\n",
      "        bins = []\n",
      "        for i in range(g):\n",
      "            bins.append([])\n",
      "        for h,o in enumerate(means):\n",
      "            bins[h].append(o)\n",
      "        for i, j in enumerate(k):\n",
      "            least = j\n",
      "            leastdiff = 0\n",
      "            for m, n in enumerate(means):\n",
      "                if m == 0:\n",
      "                    least = m\n",
      "                    leastdiff = math.fabs(n-j)\n",
      "                elif math.fabs(n-j) < leastdiff:\n",
      "                    least = m\n",
      "                    leastdiff = math.fabs(n-j)\n",
      "            else:\n",
      "                bins[least].append(j)\n",
      "                \n",
      "        #print bins\n",
      "        means = [sum(i)/len(i) if len(i) != 0 else 0 for i in bins]\n",
      "        means = sorted(means)\n",
      "    print means\n",
      "    \n",
      "    sumdiff = 0\n",
      "    for u in range(1,len(means)):\n",
      "        sumdiff += means[u] - means[u-1]\n",
      "    else:\n",
      "        meanofmean.append(sumdiff / (len(means)-1))\n",
      "print meanofmean\n",
      "print sum(meanofmean)/(len(meanofmean))"
     ],
     "language": "python",
     "metadata": {},
     "outputs": [
      {
       "output_type": "stream",
       "stream": "stdout",
       "text": [
        "[-0.0075112435597016296, 2.386141903704203, 4.0041786537440842, 10.012929927658085, 15.96637230559009]\n",
        "[-0.0075112435597016296, 4.0041786537440842, 7.856647075830244, 8.1975158015072687, 13.99621011014584]"
       ]
      },
      {
       "output_type": "stream",
       "stream": "stdout",
       "text": [
        "\n",
        "[1.9784738541154399, 7.9998119406145944, 12.02604791470158, 15.760470892024921, 16.115473329206242]"
       ]
      },
      {
       "output_type": "stream",
       "stream": "stdout",
       "text": [
        "\n",
        "[-0.0075112435597016296, 4.0041786537440842, 7.9998119406145944, 12.02604791470158, 15.96637230559009]"
       ]
      },
      {
       "output_type": "stream",
       "stream": "stdout",
       "text": [
        "\n",
        "[1.9784738541154399, 7.856647075830244, 8.1975158015072687, 12.02604791470158, 15.96637230559009]"
       ]
      },
      {
       "output_type": "stream",
       "stream": "stdout",
       "text": [
        "\n",
        "[-0.0075112435597016296, 4.0041786537440842, 7.9998119406145944, 12.02604791470158, 15.96637230559009]"
       ]
      },
      {
       "output_type": "stream",
       "stream": "stdout",
       "text": [
        "\n",
        "[1.9784738541154399, 7.9998119406145944, 9.402436139686124, 12.02604791470158, 15.96637230559009]"
       ]
      },
      {
       "output_type": "stream",
       "stream": "stdout",
       "text": [
        "\n",
        "[-0.0075112435597016296, 4.0041786537440842, 10.012929927658085, 15.66834730862905, 16.071083791008835]"
       ]
      },
      {
       "output_type": "stream",
       "stream": "stdout",
       "text": [
        "\n",
        "[-0.0075112435597016296, 4.0041786537440842, 7.9998119406145944, 12.02604791470158, 15.96637230559009]"
       ]
      },
      {
       "output_type": "stream",
       "stream": "stdout",
       "text": [
        "\n",
        "[-0.0075112435597016296, 4.0041786537440842, 7.9998119406145944, 12.02604791470158, 15.96637230559009]"
       ]
      },
      {
       "output_type": "stream",
       "stream": "stdout",
       "text": [
        "\n",
        "[3.9934708872874478, 3.5009303384263855, 3.5342498687727004, 3.9934708872874483, 3.4969746128686623, 3.9934708872874483, 3.4969746128686623, 4.0196487586421341, 3.9934708872874483, 3.9934708872874483]\n",
        "3.8016132628\n"
       ]
      }
     ],
     "prompt_number": 241
    }
   ],
   "metadata": {}
  }
 ]
}