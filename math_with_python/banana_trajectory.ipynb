{
 "cells": [
  {
   "cell_type": "markdown",
   "metadata": {},
   "source": [
    "# An example of kinematic"
   ]
  },
  {
   "cell_type": "code",
   "execution_count": 8,
   "metadata": {
    "collapsed": false
   },
   "outputs": [
    {
     "name": "stdout",
     "output_type": "stream",
     "text": [
      "Populating the interactive namespace from numpy and matplotlib\n"
     ]
    }
   ],
   "source": [
    "%pylab inline\n",
    "\n",
    "from ipywidgets import interact, FloatSlider\n",
    "import math"
   ]
  },
  {
   "cell_type": "code",
   "execution_count": 35,
   "metadata": {
    "collapsed": false
   },
   "outputs": [
    {
     "data": {
      "image/png": "[encoded data removed]",
      "text/plain": [
       "<matplotlib.figure.Figure at 0x8070eb8>"
      ]
     },
     "metadata": {},
     "output_type": "display_data"
    }
   ],
   "source": [
    "g = 9.8\n",
    "\n",
    "def draw_graph(x, y):\n",
    "    plot(x, y)\n",
    "    xlabel('x-coordinate')\n",
    "    ylabel('y-coordinate')\n",
    "    title('Projectile motion at different initial velocities and angles')\n",
    "    \n",
    "def draw_markers(x,y):\n",
    "    plot((x),(y),'o',color='y')\n",
    "    \n",
    "def frange(start, final, interval):\n",
    "\n",
    "    numbers = []\n",
    "    while start < final:\n",
    "        numbers.append(start)\n",
    "        start = start + interval\n",
    "    \n",
    "    return numbers\n",
    "\n",
    "def draw_trajectory(u, theta, t_flight, t_time):\n",
    "    # list of x and y co-ordinates\n",
    "    x = []\n",
    "    y = []\n",
    "    intervals = frange(0, t_flight, 0.001)\n",
    "    for t in intervals:\n",
    "        x.append(u*math.cos(theta)*t)\n",
    "        y.append(u*math.sin(theta)*t - 0.5*g*t*t)\n",
    "\n",
    "    #create the graph\n",
    "    draw_graph(x, y)\n",
    "    time_step = min(int(t_time/0.001), len(intervals)) -1\n",
    "    draw_markers(x[time_step], y[time_step])\n",
    "\n",
    "def new_trajectory(v, theta, at_time):\n",
    "    #num_trajectories = 3\n",
    "    velocity = v\n",
    "    angle = math.radians(float(theta))\n",
    "    \n",
    "    t_flight = 2*velocity*math.sin(angle)/g\n",
    "    S_x = velocity*math.cos(angle)*t_flight\n",
    "    S_y = velocity*math.sin(angle)*(t_flight/2) - (1/2)*g*(t_flight/2)**2\n",
    "    draw_trajectory(velocity, angle, t_flight, at_time)\n",
    "\n",
    "    # Add a legend and show the graph\n",
    "    legends = []\n",
    "\n",
    "    legends.append('{0} - {1}'.format(velocity, math.degrees(angle)))\n",
    "    legend(legends)\n",
    "    xlim(0, 10)\n",
    "    ylim(0, 10)\n",
    "    show()\n",
    "#new_trajectory()\n",
    "interact(new_trajectory, \n",
    "         v=FloatSlider(min=0.1, max=10.0, step=0.5, value=9.0), \n",
    "         theta= FloatSlider(min=0.1, max=90.0, step=0.5, value=45.0),\n",
    "        at_time=FloatSlider(min=0.1, max=2.0, value=2.0))\n",
    "\n"
   ]
  },
  {
   "cell_type": "code",
   "execution_count": null,
   "metadata": {
    "collapsed": true
   },
   "outputs": [],
   "source": []
  },
  {
   "cell_type": "code",
   "execution_count": null,
   "metadata": {
    "collapsed": false
   },
   "outputs": [],
   "source": []
  },
  {
   "cell_type": "code",
   "execution_count": null,
   "metadata": {
    "collapsed": true
   },
   "outputs": [],
   "source": []
  }
 ],
 "metadata": {
  "kernelspec": {
   "display_name": "Python 3",
   "language": "python",
   "name": "python3"
  },
  "language_info": {
   "codemirror_mode": {
    "name": "ipython",
    "version": 3
   },
   "file_extension": ".py",
   "mimetype": "text/x-python",
   "name": "python",
   "nbconvert_exporter": "python",
   "pygments_lexer": "ipython3",
   "version": "3.5.1"
  }
 },
 "nbformat": 4,
 "nbformat_minor": 0
}
