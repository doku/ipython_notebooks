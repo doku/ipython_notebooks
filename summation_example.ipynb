{
 "cells": [
  {
   "cell_type": "code",
   "execution_count": 9,
   "metadata": {
    "collapsed": false
   },
   "outputs": [
    {
     "name": "stdout",
     "output_type": "stream",
     "text": [
      "131.04507828619086\n",
      "131.04507828619086\n"
     ]
    }
   ],
   "source": [
    "sum(range(1, 50))\n",
    "\n",
    "def s_n(n):\n",
    "    result = 0\n",
    "    for k in range(1, n+1):\n",
    "        result += (1+(1/k))**k\n",
    "    return result\n",
    "\n",
    "\n",
    "s_n2 = lambda n: sum(map(lambda x: (1+(1/x))**x , range(1,n+1)))\n",
    "\n",
    "any([1,0,0,0,0])\n",
    "all()\n",
    "not any()\n",
    "\n",
    "print(s_n(50))\n",
    "print(s_n2(50))\n"
   ]
  },
  {
   "cell_type": "markdown",
   "metadata": {},
   "source": [
    "This is how you do summation of 1+ \n"
   ]
  },
  {
   "cell_type": "code",
   "execution_count": 18,
   "metadata": {
    "collapsed": false
   },
   "outputs": [
    {
     "name": "stdout",
     "output_type": "stream",
     "text": [
      "Populating the interactive namespace from numpy and matplotlib\n"
     ]
    }
   ],
   "source": [
    "%pylab inline\n",
    "\n",
    "import numpy\n",
    "\n",
    "import operator\n",
    "\n"
   ]
  },
  {
   "cell_type": "code",
   "execution_count": 61,
   "metadata": {
    "collapsed": false
   },
   "outputs": [
    {
     "name": "stdout",
     "output_type": "stream",
     "text": [
      "[5.0998334166468284, 5.1986693307950613, 5.2955202066613394, 5.3894183423086508, 5.479425538604203, 5.5646424733950353, 5.644217687237691, 5.7173560908995231, 5.7833269096274833, 5.8414709848078967, 5.8912073600614354, 5.9320390859672267, 5.9635581854171926, 5.9854497299884599, 5.9974949866040541, 5.9995736030415054, 5.9916648104524688, 5.9738476308781951, 5.9463000876874146, 5.9092974268256819, 5.8632093666488734, 5.8084964038195901, 5.7457052121767198, 5.6754631805511506, 5.5984721441039564, 5.5155013718214638, 5.42737988023383, 5.3349881501559047, 5.2392493292139823, 5.1411200080598674, 5.0415806624332902, 4.9416258565724203, 4.8422543058567511, 4.7444588979731686, 4.6492167723103801, 4.5574795567051476, 4.4701638590915067, 4.3881421090572807, 4.3122338408160257, 4.2431975046920716, 4.1817228889355889, 4.1284242275864118, 4.0838340632505448, 4.0483979261104839, 4.022469882334903, 4.0063089963665357, 4.0000767424358994, 4.0038353911641593, 4.017547387375668, 4.0410757253368619, 4.074185317672268, 4.1165453442798468, 4.1677325577760991, 4.2272355124440129, 4.294459674429608, 4.3687333621276796, 4.4493144574023624, 4.5353978205862431, 4.6261233351697637, 4.7205845018010741, 4.8178374957279049, 4.916910597182504, 5.0168139004843502, 5.1165492048504939, 5.2151199880878156, 5.3115413635133786, 5.4048499206165985, 5.4941133511386093, 5.5784397643882002, 5.6569865987187891, 5.7289690401258762, 5.7936678638491532, 5.8504366206285647, 5.8987080958116271, 5.9379999767747389, 5.9679196720314867, 5.9881682338770004, 5.9985433453746051, 5.9989413418397719, 5.9893582466233815, 5.9698898108450864, 5.9407305566797728, 5.9021718337562934, 5.8545989080882803, 5.7984871126234907, 5.7343970978741137, 5.6629692300821821, 5.584917192891762, 5.5010208564578846, 5.4121184852417565, 5.3190983623493517, 5.2228899141002456, 5.1244544235070615, 5.0247754254533579, 4.9248488795381906, 4.8256732187770188, 4.728239373589056, 4.6335208707480717, 4.5424641062246787]\n",
      "99\n"
     ]
    },
    {
     "data": {
      "image/png": "[encoded data removed]",
      "text/plain": [
       "<matplotlib.figure.Figure at 0x8602eb8>"
      ]
     },
     "metadata": {},
     "output_type": "display_data"
    }
   ],
   "source": [
    "x = list(range(1,100))\n",
    "x = [x*0.1 for x in x]\n",
    "y = list(map(numpy.sin, x))\n",
    "\n",
    "#shift\n",
    "def shift(x, b=5):\n",
    "    return x + b\n",
    "\n",
    "y = list(map(shift, y))\n",
    "\n",
    "\n",
    "print(list(y))\n",
    "print(len(x))\n",
    "plot(x, y)\n",
    "show()"
   ]
  },
  {
   "cell_type": "code",
   "execution_count": null,
   "metadata": {
    "collapsed": true
   },
   "outputs": [],
   "source": []
  }
 ],
 "metadata": {
  "kernelspec": {
   "display_name": "Python 3",
   "language": "python",
   "name": "python3"
  },
  "language_info": {
   "codemirror_mode": {
    "name": "ipython",
    "version": 3
   },
   "file_extension": ".py",
   "mimetype": "text/x-python",
   "name": "python",
   "nbconvert_exporter": "python",
   "pygments_lexer": "ipython3",
   "version": "3.5.1"
  }
 },
 "nbformat": 4,
 "nbformat_minor": 0
}
