{
 "cells": [
  {
   "cell_type": "code",
   "execution_count": 5,
   "metadata": {
    "collapsed": false
   },
   "outputs": [
    {
     "name": "stdout",
     "output_type": "stream",
     "text": [
      "[0, 1, 1, 2, 5, 14, 42, 132, 429, 1430, 4862, 16796, 58786, 208012, 742900]\n"
     ]
    }
   ],
   "source": [
    "def count_groupings (n ):\n",
    "    \"\"\" For N >= 1 , the number of distinct parenthesizations\n",
    "    of a product of N items .\n",
    "    >>> count_groupings (1)\n",
    "    1\n",
    "    >>> count_groupings (2)\n",
    "    1\n",
    "    >>> count_groupings (3)\n",
    "    2\n",
    "    >>> count_groupings (4)\n",
    "    5\n",
    "    >>> count_groupings (5)\n",
    "    14\n",
    "    \"\"\"\n",
    "    if n == 1:\n",
    "        return 1\n",
    "    total = 0\n",
    "    i = 1\n",
    "    while i < n:\n",
    "        total += count_groupings(n-i) * count_groupings(i)\n",
    "        i += 1\n",
    "    return total\n",
    "print([count_groupings(i) for i in range(15)])"
   ]
  },
  {
   "cell_type": "code",
   "execution_count": 6,
   "metadata": {
    "collapsed": true
   },
   "outputs": [],
   "source": [
    "def pred_maze(x0 , y0 , open , exit ):\n",
    "    \"\"\" Return a maze in which the runner is at (X0 , Y0 ) , every square\n",
    "    (a , b) where a <= EXIT is an exit , and otherwise a square (a , b)\n",
    "    is open iff OPEN (a , b ). It is assumed that (X0 , Y0) is open .\n",
    "    \"\"\"\n",
    "    def maze ( dir):\n",
    "        x , y = ( x0 , y0 - 1) if dir == \" south \" else ( x0 - 1 , y0 )\n",
    "        if x <= exit:\n",
    "            return \"exit\"\n",
    "        elif open(x,y):\n",
    "            return pred_maze(x,y, open,exit)\n",
    "        else :\n",
    "            return \"dead end\"\n",
    "    return maze"
   ]
  },
  {
   "cell_type": "code",
   "execution_count": null,
   "metadata": {
    "collapsed": true
   },
   "outputs": [],
   "source": [
    "def path_out(M ):\n",
    "    \"\"\" Given a maze function M in which the runner is not yet out\n",
    "    of the maze , returns a string of the form \" D1 D2 ... \" , where each\n",
    "    Di is either south or west , indicating a path from M to an exit ,\n",
    "    or None iff there is no such path .\n",
    "    \"\"\"\n",
    "    for dir in [\" south \" , \" west \" ]:\n",
    "        next = M(dir)\n",
    "        if not callable(next) and next == \"exit\":\n",
    "            return dir\n",
    "        elif callable(next):\n",
    "            rest_of_path = path_out(next)\n",
    "            if not rest_of_path:\n",
    "                return dir + \" \" + rest_of_path\n",
    "    return None"
   ]
  }
 ],
 "metadata": {
  "kernelspec": {
   "display_name": "Python 3",
   "language": "python",
   "name": "python3"
  },
  "language_info": {
   "codemirror_mode": {
    "name": "ipython",
    "version": 3
   },
   "file_extension": ".py",
   "mimetype": "text/x-python",
   "name": "python",
   "nbconvert_exporter": "python",
   "pygments_lexer": "ipython3",
   "version": "3.5.2"
  }
 },
 "nbformat": 4,
 "nbformat_minor": 0
}
