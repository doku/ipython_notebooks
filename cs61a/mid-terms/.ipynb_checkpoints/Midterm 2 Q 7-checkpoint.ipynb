{
 "cells": [
  {
   "cell_type": "code",
   "execution_count": null,
   "metadata": {
    "collapsed": true
   },
   "outputs": [],
   "source": [
    "\n",
    "f = lambda x, y: (x and [_____ for z in y] + f(_______, ________)) or []\n",
    "\n",
    "def sums(n, k):\n",
    "    \"\"\"\n",
    "    Generate a all list of list, with each list length k that sums up to n. \n",
    "    For example, n = 3, k = 2 , [[1,2], [2,1]]\n",
    "    \"\"\"\n",
    "    q = lambda w: (w and f( ___________________________ )) or [[]]\n",
    "    return [x for x in q(k) if sum(x) == n]\n"
   ]
  }
 ],
 "metadata": {
  "kernelspec": {
   "display_name": "Python 3",
   "language": "python",
   "name": "python3"
  },
  "language_info": {
   "codemirror_mode": {
    "name": "ipython",
    "version": 3
   },
   "file_extension": ".py",
   "mimetype": "text/x-python",
   "name": "python",
   "nbconvert_exporter": "python",
   "pygments_lexer": "ipython3",
   "version": "3.5.2"
  }
 },
 "nbformat": 4,
 "nbformat_minor": 0
}
