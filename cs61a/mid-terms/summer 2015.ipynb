{
 "cells": [
  {
   "cell_type": "code",
   "execution_count": 5,
   "metadata": {
    "collapsed": false
   },
   "outputs": [
    {
     "name": "stdout",
     "output_type": "stream",
     "text": [
      "6\n",
      "7\n",
      "\n",
      "1\n",
      "2\n",
      "None 3\n",
      "\n",
      "9\n",
      "\n",
      "0\n",
      "\n",
      "6\n",
      "6\n",
      "-6\n"
     ]
    }
   ],
   "source": [
    "from operator import add\n",
    "avengers = 6\n",
    "def vision ( avengers):\n",
    "    print ( avengers)\n",
    "    return avengers + 1\n",
    "def hawkeye( thor , hulk ):\n",
    "    love = lambda black_widow: add( black_widow , hulk )\n",
    "    return thor ( love )\n",
    "def hammer ( worthy , stone ):\n",
    "    if worthy ( stone ) < stone :\n",
    "        return stone\n",
    "    elif worthy ( stone ) > stone :\n",
    "        return - stone\n",
    "    return 0\n",
    "capt = lambda iron_man: iron_man( avengers)\n",
    "\n",
    "\n",
    "print(capt(vision))\n",
    "print()\n",
    "\n",
    "print(print(1), vision(2))\n",
    "\n",
    "print()\n",
    "#hawkeye(hammer, 3)\n",
    "\n",
    "print(hawkeye(capt, 3))\n",
    "print()\n",
    "print(hammer(lambda ultron: ultron, -1))\n",
    "print()\n",
    "print(hammer(vision, avengers))\n",
    "\n"
   ]
  },
  {
   "cell_type": "markdown",
   "metadata": {},
   "source": [
    "capt(vision)\n",
    "    6\n",
    "    7\n",
    "print(print(1), vision(2))\n",
    "    1\n",
    "    2\n",
    "    1 3\n",
    "hawkeye(hammer, 3)\n",
    "    Error: argument in hammer\n",
    "hawkeye(capt, 3)\n",
    "    9\n",
    "hammer(lambda ultron: ultron, -1)\n",
    "    0\n",
    "hammer(vision, avengers)\n",
    "    6\n",
    "    6\n",
    "    -6"
   ]
  },
  {
   "cell_type": "code",
   "execution_count": 6,
   "metadata": {
    "collapsed": true
   },
   "outputs": [],
   "source": [
    "def make_direction( secret ):\n",
    "    \"\"\" Returns a function that compares the guess to the secret .\n",
    "    >>> direction = make_direction (40)\n",
    "    >>> direction (50) # 40 is lower than 50\n",
    "    -1\n",
    "    >>> direction (13) # 40 is higher than 13\n",
    "    1\n",
    "    >>> direction (40) # 40 is equal to 40\n",
    "    0\n",
    "    \"\"\"\n",
    "    def direction(x):\n",
    "        if x > secret:\n",
    "            return -1\n",
    "        elif x == secret:\n",
    "            return 0\n",
    "        else:\n",
    "            return 1\n",
    "    return direction"
   ]
  },
  {
   "cell_type": "code",
   "execution_count": 8,
   "metadata": {
    "collapsed": false
   },
   "outputs": [],
   "source": [
    "def naive_search( low , high , direction ):\n",
    "    \"\"\" Guess the secret number , as specified by direction , in a naive way;\n",
    "    returns the number of guesses made . Starts with an initial guess and\n",
    "    moves up or down one number at a time .\n",
    "    >>> count1 = naive_search(0 , 100 , make_direction (50))\n",
    "    50\n",
    "    >>> count1\n",
    "    1\n",
    "    >>> count2 = naive_search(0 , 20 , make_direction (14))\n",
    "    10\n",
    "    11\n",
    "    12\n",
    "    13\n",
    "    14\n",
    "    >>> count2\n",
    "    5\n",
    "    \"\"\"\n",
    "    guess , count = ( low + high ) // 2 , 1\n",
    "    print ( guess )\n",
    "    sign = direction(guess)\n",
    "    while sign != 0:\n",
    "        guess = guess + sign\n",
    "        count = count + 1\n",
    "        sign = direction(guess )\n",
    "        print(guess)\n",
    "    return count\n"
   ]
  },
  {
   "cell_type": "code",
   "execution_count": 9,
   "metadata": {
    "collapsed": true
   },
   "outputs": [],
   "source": [
    "def binary_search( low , high , direction ):\n",
    "    \"\"\" Guesses the secret number , as specified by direction , using binary\n",
    "    search ; returns the number of guesses made .\n",
    "    >>> count1 = binary_search (0 , 100 , make_direction (50))\n",
    "    50\n",
    "    >>> count1\n",
    "    1\n",
    "    >>> count2 = binary_search (0 , 100 , make_direction (40))\n",
    "    50\n",
    "    25\n",
    "    37\n",
    "    43\n",
    "    40\n",
    "    >>> count2\n",
    "    5\n",
    "    \"\"\"\n",
    "    guess = ( low + high ) // 2 # midpoint\n",
    "    print(guess)\n",
    "    sign = direction(guess)\n",
    "    if sign == 0 :\n",
    "        return 1\n",
    "    elif sign < 0:\n",
    "        return 1 + binary_search(low, guess, direction)\n",
    "    else :\n",
    "        return 1 + binary_search(guess, high, direction)\n"
   ]
  },
  {
   "cell_type": "code",
   "execution_count": 22,
   "metadata": {
    "collapsed": true
   },
   "outputs": [],
   "source": [
    "def subset_sum( target , lst ):\n",
    "    \"\"\" Returns True if it is possible to add some of the integers in lst\n",
    "    to get target .\n",
    "    >>> subset_sum (10 , [ -1 , 5 , 4 , 6])\n",
    "    True\n",
    "    >>> subset_sum(4 , [5 , -2 , 12])\n",
    "    False\n",
    "    >>> subset_sum( -3 , [5 , -2 , 2 , -2 , 1])\n",
    "    True\n",
    "    >>> subset_sum(0 , [ -1 , -3 , 15]) # Sum up no numbers to get 0\n",
    "    True\n",
    "    \"\"\"\n",
    "    if 0 == target:\n",
    "        return True\n",
    "    elif len(lst) == 0:\n",
    "        return False\n",
    "    else :\n",
    "        a = any([subset_sum(target - lst[x], lst[:x] + lst[x+1:] ) for x in range(len(lst)) ])\n",
    "        b = False\n",
    "    return a or b"
   ]
  },
  {
   "cell_type": "code",
   "execution_count": 23,
   "metadata": {
    "collapsed": false
   },
   "outputs": [
    {
     "name": "stdout",
     "output_type": "stream",
     "text": [
      "True\n",
      "False\n",
      "True\n",
      "True\n"
     ]
    }
   ],
   "source": [
    "#x = [1,2,3,4,5]\n",
    "#x[5:]\n",
    "print(subset_sum( -3 , [5 , -2 , 2 , -2 , 1]))\n",
    "print(subset_sum(4 , [5 , -2 , 12]))\n",
    "print(subset_sum (10 , [ -1 , 5 , 4 , 6]))\n",
    "print(subset_sum(0 , [ -1 , -3 , 15]))"
   ]
  },
  {
   "cell_type": "code",
   "execution_count": 26,
   "metadata": {
    "collapsed": false
   },
   "outputs": [
    {
     "name": "stdout",
     "output_type": "stream",
     "text": [
      "[3, 5]\n",
      "[6, 4]\n",
      "[3, 5, 10]\n"
     ]
    }
   ],
   "source": [
    "def intersection( lst_of_lsts ):\n",
    "    \"\"\" Returns a list of elements that appear in every list in\n",
    "    lst_of_lsts.\n",
    "    >>> lsts1 = [[1 , 2 , 3] , [1 , 3 , 5]]\n",
    "    >>> intersection( lsts1 )\n",
    "    [1 , 3]\n",
    "    >>> lsts2 = [[1 , 4 , 2 , 6] , [7 , 2 , 4] , [4 , 4]]\n",
    "    >>> intersection( lsts2 )\n",
    "    [4]\n",
    "    >>> lsts3 = [[1 , 2 , 3] , [4 , 5] , [7 , 8 , 9 , 10]]\n",
    "    >>> intersection( lsts3 ) # No number appears in all lists\n",
    "    []\n",
    "    \"\"\"\n",
    "    elements = []\n",
    "    for li in range(len(lst_of_lsts)):\n",
    "        condition = lst_of_lsts[li]\n",
    "        for i in lst:\n",
    "            if lst_of_lsts[i][j] not in elements :\n",
    "                condition = True\n",
    "        if condition:\n",
    "            elements = elements + [lst_of_lsts[i][j]]\n",
    "    return elements\n",
    "\n",
    "lsts1 = [[1 , 2 , 3] , [1 , 3 , 5]]\n",
    "print(intersection( lsts1 ))\n",
    "lsts2 = [[1 , 4 , 2 , 6] , [7 , 2 , 4] , [4 , 4]]\n",
    "print(intersection( lsts2 ))\n",
    "lsts3 = [[1 , 2 , 3] , [4 , 5] , [7 , 8 , 9 , 10]]\n",
    "print(intersection( lsts3 ))"
   ]
  },
  {
   "cell_type": "code",
   "execution_count": 33,
   "metadata": {
    "collapsed": false
   },
   "outputs": [
    {
     "name": "stdout",
     "output_type": "stream",
     "text": [
      "True\n",
      "True\n",
      "True\n",
      "False\n",
      "False\n",
      "False\n"
     ]
    }
   ],
   "source": [
    "def sandwich(n ):\n",
    "    \"\"\" Return True if n contains a sandwich and False otherwise\n",
    "    >>> sandwich (416263) # 626\n",
    "    True\n",
    "    >>> sandwich (5050) # 505 or 050\n",
    "    True\n",
    "    >>> sandwich (4441) # 444\n",
    "    True\n",
    "    >>> sandwich (1231)\n",
    "    False\n",
    "    >>> sandwich (55)\n",
    "    False\n",
    "    >>> sandwich (4456)\n",
    "    False\n",
    "    \"\"\"\n",
    "    tens , ones = (n % 100) // 10 , n % 10\n",
    "    n = n // 10\n",
    "    while n > 0 :\n",
    "        if (n % 100 ) // 10  == ones :\n",
    "            return True\n",
    "        else :\n",
    "            tens , ones = (n % 100 ) // 10 , n % 10\n",
    "            n = n // 10\n",
    "    return False\n",
    "\n",
    "print(sandwich (416263))\n",
    "print( sandwich (5050) )\n",
    "print(sandwich (4441) )\n",
    "print(sandwich (1231))\n",
    "print(sandwich (55))\n",
    "print(sandwich (4456))\n"
   ]
  },
  {
   "cell_type": "code",
   "execution_count": null,
   "metadata": {
    "collapsed": true
   },
   "outputs": [],
   "source": []
  }
 ],
 "metadata": {
  "kernelspec": {
   "display_name": "Python 3",
   "language": "python",
   "name": "python3"
  },
  "language_info": {
   "codemirror_mode": {
    "name": "ipython",
    "version": 3
   },
   "file_extension": ".py",
   "mimetype": "text/x-python",
   "name": "python",
   "nbconvert_exporter": "python",
   "pygments_lexer": "ipython3",
   "version": "3.5.2"
  }
 },
 "nbformat": 4,
 "nbformat_minor": 0
}
