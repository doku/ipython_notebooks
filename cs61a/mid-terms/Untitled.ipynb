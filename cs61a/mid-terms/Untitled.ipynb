{
 "cells": [
  {
   "cell_type": "code",
   "execution_count": 8,
   "metadata": {
    "collapsed": false
   },
   "outputs": [
    {
     "data": {
      "text/plain": [
       "5689"
      ]
     },
     "execution_count": 8,
     "metadata": {},
     "output_type": "execute_result"
    }
   ],
   "source": [
    "def longest_increasing_suffix ( n ):\n",
    "    \"\"\" Return the longest increasing suffix of a positive integer n.\n",
    "    >>> longest_increasing_suffix (63134)\n",
    "    134\n",
    "    >>> longest_increasing_suffix (233)\n",
    "    3\n",
    "    >>> longest_increasing_suffix (5689)\n",
    "    5689\n",
    "    >>> longest_increasing_suffix (568901) # 01 is the suffix , displayed as 1\n",
    "    1\n",
    "    \"\"\"\n",
    "    m , suffix , k = 10 , 0 , 1\n",
    "    while n :\n",
    "        n , last = n // 10 , n % 10\n",
    "        if last < m:\n",
    "            m , suffix , k = last , suffix + last* k , 10 * k\n",
    "        else :\n",
    "            return suffix\n",
    "    return suffix\n",
    "\n",
    "longest_increasing_suffix(5689)"
   ]
  },
  {
   "cell_type": "code",
   "execution_count": 17,
   "metadata": {
    "collapsed": false
   },
   "outputs": [
    {
     "data": {
      "text/plain": [
       "8"
      ]
     },
     "execution_count": 17,
     "metadata": {},
     "output_type": "execute_result"
    }
   ],
   "source": [
    "from operator import add , mul\n",
    "def combine (n , f , result ):\n",
    "    \"\"\" Combine the digits in non - negative integer n using f.\n",
    "    >>> combine (3 , mul , 2) # mul (3 , 2)\n",
    "    6\n",
    "    >>> combine (43 , mul , 2) # mul (4 , mul (3 , 2))\n",
    "    24\n",
    "    >>> combine (6502 , add , 3) # add (6 , add (5 , add (0 , add (2 , 3)))\n",
    "    16\n",
    "    >>> combine (239 , pow , 0) # pow (2 , pow (3 , pow (9 , 0)))\n",
    "    8\n",
    "    \"\"\"\n",
    "    if n == 0:\n",
    "        return result\n",
    "    else :\n",
    "        return combine( n // 10 ,f , f(n % 10 , result))\n",
    "    \n",
    "combine (239, pow, 0) # mul (3 , 2)"
   ]
  },
  {
   "cell_type": "code",
   "execution_count": 22,
   "metadata": {
    "collapsed": false
   },
   "outputs": [
    {
     "name": "stdout",
     "output_type": "stream",
     "text": [
      "3\n"
     ]
    },
    {
     "ename": "TypeError",
     "evalue": "'int' object is not callable",
     "output_type": "error",
     "traceback": [
      "\u001b[1;31m---------------------------------------------------------------------------\u001b[0m",
      "\u001b[1;31mTypeError\u001b[0m                                 Traceback (most recent call last)",
      "\u001b[1;32m<ipython-input-22-a733b660b96d>\u001b[0m in \u001b[0;36m<module>\u001b[1;34m()\u001b[0m\n\u001b[0;32m     20\u001b[0m \u001b[0mf\u001b[0m \u001b[1;33m=\u001b[0m \u001b[0mmemory\u001b[0m \u001b[1;33m(\u001b[0m\u001b[1;36m3\u001b[0m \u001b[1;33m,\u001b[0m \u001b[1;32mlambda\u001b[0m \u001b[0mx\u001b[0m\u001b[1;33m:\u001b[0m \u001b[0mx\u001b[0m\u001b[1;33m)\u001b[0m\u001b[1;33m\u001b[0m\u001b[0m\n\u001b[0;32m     21\u001b[0m \u001b[0mf\u001b[0m \u001b[1;33m=\u001b[0m \u001b[0mf\u001b[0m\u001b[1;33m(\u001b[0m \u001b[0msquare\u001b[0m \u001b[1;33m)\u001b[0m\u001b[1;33m\u001b[0m\u001b[0m\n\u001b[1;32m---> 22\u001b[1;33m \u001b[0mf\u001b[0m \u001b[1;33m=\u001b[0m \u001b[0mf\u001b[0m\u001b[1;33m(\u001b[0m\u001b[0mprint\u001b[0m\u001b[1;33m)\u001b[0m\u001b[1;33m\u001b[0m\u001b[0m\n\u001b[0m",
      "\u001b[1;31mTypeError\u001b[0m: 'int' object is not callable"
     ]
    }
   ],
   "source": [
    "square = lambda x : x * x\n",
    "double = lambda x : 2 * x\n",
    "def memory (x , f ):\n",
    "    \"\"\" Return a higher - order function that prints its memories .\n",
    "    >>> f = memory (3 , lambda x: x)\n",
    "    >>> f = f( square )\n",
    "    3\n",
    "    >>> f = f( double )\n",
    "    9\n",
    "    >>> f = f( print )\n",
    "    6\n",
    "    >>> f = f( square )\n",
    "    3\n",
    "    None\n",
    "    \"\"\"\n",
    "    def g ( h ):\n",
    "        print ( x )\n",
    "        return x\n",
    "    return g\n",
    "f = memory (3 , lambda x: x)\n",
    "f = f( square )\n",
    "f = f(print)"
   ]
  },
  {
   "cell_type": "code",
   "execution_count": null,
   "metadata": {
    "collapsed": true
   },
   "outputs": [],
   "source": []
  }
 ],
 "metadata": {
  "kernelspec": {
   "display_name": "Python 3",
   "language": "python",
   "name": "python3"
  },
  "language_info": {
   "codemirror_mode": {
    "name": "ipython",
    "version": 3
   },
   "file_extension": ".py",
   "mimetype": "text/x-python",
   "name": "python",
   "nbconvert_exporter": "python",
   "pygments_lexer": "ipython3",
   "version": "3.5.2"
  }
 },
 "nbformat": 4,
 "nbformat_minor": 0
}
