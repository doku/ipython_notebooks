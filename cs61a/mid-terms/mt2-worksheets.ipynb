{
 "cells": [
  {
   "cell_type": "code",
   "execution_count": 17,
   "metadata": {
    "collapsed": false
   },
   "outputs": [
    {
     "name": "stdout",
     "output_type": "stream",
     "text": [
      "Link(3, Link(2, Link(1)))\n"
     ]
    }
   ],
   "source": [
    "class Link:\n",
    "    empty = ()\n",
    "    \n",
    "    def __init__(self, first, rest=empty):\n",
    "        assert rest is Link.empty or isinstance(rest, Link)\n",
    "        self.first = first\n",
    "        self.rest = rest\n",
    "    def __len__(self):\n",
    "        return 1 + len(self.rest)\n",
    "        \n",
    "    def __repr__(self):\n",
    "        if self.rest is Link.empty:\n",
    "            return 'Link({})'.format(self.first)\n",
    "        else:\n",
    "            return 'Link({}, {})'.format(self.first, repr(self.rest))\n",
    "        \n",
    "def reverse(lst):\n",
    "    \"\"\"\n",
    "    >>> a = Link(1, Link(2, Link(3)))\n",
    "    >>> b = reverse(a)\n",
    "    >>> b\n",
    "    Link(3, Link(2, Link(1)))\n",
    "    >>> a\n",
    "    Link(3, Link(2, Link(1)))\n",
    "    \"\"\"\n",
    "    if lst is Link.empty or lst.rest is Link.empty:\n",
    "        return lst\n",
    "    x = reverse(lst.rest)\n",
    "    lst.rest.rest = lst\n",
    "    lst.rest = Link.empty\n",
    "    return x\n",
    "    \n",
    "a = Link(1, Link(2, Link(3)))\n",
    "b = reverse(a)\n",
    "print(b)"
   ]
  },
  {
   "cell_type": "code",
   "execution_count": 19,
   "metadata": {
    "collapsed": false
   },
   "outputs": [
    {
     "name": "stdout",
     "output_type": "stream",
     "text": [
      "2\n",
      "2\n"
     ]
    }
   ],
   "source": [
    "def remove_duplicates(lnk):\n",
    "    \"\"\" Assuming the lnk is sorted from small to big\"\"\"\n",
    "    if lnk is Link.empty or lnk.rest is Link.empty:\n",
    "        return lnk\n",
    "    \n",
    "    if lnk.first == lnk.rest.first:\n",
    "        lnk.rest = lnk.rest.rest\n",
    "        remove_duplicates(lnk)\n",
    "    else:\n",
    "        remove_duplicates(lnk.rest)\n",
    "    return lnk\n",
    "lnk = Link(1, Link(1, Link(1, Link(5))))\n",
    "unique = remove_duplicates(lnk)\n",
    "print(len(unique))\n",
    "print(len(lnk))\n",
    "        "
   ]
  },
  {
   "cell_type": "code",
   "execution_count": 23,
   "metadata": {
    "collapsed": false
   },
   "outputs": [
    {
     "name": "stdout",
     "output_type": "stream",
     "text": [
      "False\n",
      "False\n",
      "True\n"
     ]
    }
   ],
   "source": [
    "def has_cycle(s):   \n",
    "    if s is Link.empty or s.rest is Link.empty:\n",
    "        return False\n",
    "    seen = []\n",
    "    def helper(s):\n",
    "        nonlocal seen\n",
    "        if s is Link.empty or s.rest is Link.empty:\n",
    "            return False\n",
    "        if any([i is s for i in seen]):\n",
    "            return True\n",
    "        else:\n",
    "            seen.append(s)\n",
    "            return helper(s.rest)\n",
    "    return helper(s)\n",
    "\n",
    "print(has_cycle(Link.empty))\n",
    "a = Link(1, Link(2, Link(3)))\n",
    "print(has_cycle(a))\n",
    "a.rest.rest.rest = a\n",
    "print(has_cycle(a))\n"
   ]
  },
  {
   "cell_type": "code",
   "execution_count": 25,
   "metadata": {
    "collapsed": false
   },
   "outputs": [
    {
     "name": "stdout",
     "output_type": "stream",
     "text": [
      "[[10, 9], [8, 7], [6, 5], [4, 3], [2, 1]]\n",
      "[2, 4]\n"
     ]
    }
   ],
   "source": [
    "lst = [[1,2], [3,4], [5,6], [7,8],[9,10]]\n",
    "x = [[j for j in i[::-1]] for i in lst[::-1]]\n",
    "print(x)\n",
    "y = [j for i in lst for j in i if j == 2 or j ==4]\n",
    "print(y)"
   ]
  },
  {
   "cell_type": "code",
   "execution_count": 32,
   "metadata": {
    "collapsed": false
   },
   "outputs": [
    {
     "data": {
      "text/plain": [
       "4"
      ]
     },
     "execution_count": 32,
     "metadata": {},
     "output_type": "execute_result"
    }
   ],
   "source": [
    "empty = \"empty\"\n",
    "def link(first, rest=empty):\n",
    "    return [first, rest]\n",
    "def first(lnk):\n",
    "    return lnk[0]\n",
    "def rest(lnk):\n",
    "    return lnk[1]\n",
    "\n",
    "def linked_sum(lnk, total):\n",
    "    if total == 0:\n",
    "        return 1\n",
    "    elif total < 0 or rest(lnk) is empty:\n",
    "        return 0\n",
    "    else:\n",
    "        with_first = linked_sum(lnk, total - first(lnk))\n",
    "        without_first =  linked_sum(rest(lnk), total)\n",
    "        return with_first + without_first \n",
    "linked_sum(link(1, link(2, link(3, link(5)))), 4)"
   ]
  },
  {
   "cell_type": "code",
   "execution_count": 38,
   "metadata": {
    "collapsed": false
   },
   "outputs": [
    {
     "name": "stdout",
     "output_type": "stream",
     "text": [
      "['Tywin', 'Tytos']\n",
      "['Tytos', None]\n",
      "[None, None]\n"
     ]
    }
   ],
   "source": [
    "def tree(entry, children=[]):\n",
    "    return [entry, children]\n",
    "def entry(tree):\n",
    "    return tree[0]\n",
    "def children(tree):\n",
    "    return tree[1]\n",
    "\n",
    "def track_lineage(family_tree, name):\n",
    "    def tracker(t, p, gp):\n",
    "        if entry(t) == name:\n",
    "            return [p, gp]\n",
    "        for c in children(t):\n",
    "            #if len(children(c)) >= 1:\n",
    "            return tracker(c, entry(t), p)\n",
    "        #return tracker(c, entry(t) ,p)\n",
    "    return tracker(family_tree, None, None)\n",
    "\n",
    "t = tree('Tytos', [\n",
    "        tree('Tywin', [\n",
    "                tree('Cersei'), tree('Jamie'), tree('Tyrion')\n",
    "            ]),\n",
    "        tree('Kevan', [\n",
    "                tree('Lancel'), tree('Martyn'), tree('Willem')\n",
    "            ])\n",
    "    ])\n",
    "print(track_lineage(t, \"Cersei\"))\n",
    "print(track_lineage(t, 'Tywin'))\n",
    "print(track_lineage(t, 'Tytos'))"
   ]
  },
  {
   "cell_type": "code",
   "execution_count": 46,
   "metadata": {
    "collapsed": false
   },
   "outputs": [
    {
     "name": "stdout",
     "output_type": "stream",
     "text": [
      "Link(5, Link(9, Link(13)))\n"
     ]
    }
   ],
   "source": [
    "def sum_two(link):\n",
    "    if link is Link.empty or link.rest is Link.empty:\n",
    "        return link\n",
    "    link.first = link.first + link.rest.first\n",
    "    link.rest = link.rest.rest\n",
    "    sum_two(link.rest)\n",
    "    \n",
    "link = Link(2, Link(3, Link(4, Link(5, Link(6, Link(7))))))\n",
    "sum_two(link)\n",
    "print(link)"
   ]
  },
  {
   "cell_type": "code",
   "execution_count": 47,
   "metadata": {
    "collapsed": true
   },
   "outputs": [],
   "source": [
    "def size(tree):\n",
    "    if tree.is_leaf():\n",
    "        return 1\n",
    "    total = 0\n",
    "    for b in tree.branches:\n",
    "        total += size(b)\n",
    "    return total + 1\n"
   ]
  },
  {
   "cell_type": "code",
   "execution_count": 48,
   "metadata": {
    "collapsed": true
   },
   "outputs": [],
   "source": [
    "def reverse_tree(btree):\n",
    "    if btree.left is Btree.empty or btree.right is Btree.empty:\n",
    "        return Btree(btree.root)\n",
    "    right = reverse_tree(btree.left)\n",
    "    left = reverse_tree(btree.right)\n",
    "    return Btree(btree.root, left, right)"
   ]
  },
  {
   "cell_type": "code",
   "execution_count": 54,
   "metadata": {
    "collapsed": false
   },
   "outputs": [
    {
     "name": "stdout",
     "output_type": "stream",
     "text": [
      "Link(1, Link(2, Link(3, Link(4, Link(5, Link(6))))))\n"
     ]
    }
   ],
   "source": [
    "def merge(a, b):\n",
    "    if b is Link.empty:\n",
    "        a.rest = Link.empty\n",
    "    elif a.rest is Link.empty:\n",
    "        a.rest = Link(b.first)\n",
    "        merge(a.rest, b.rest)\n",
    "    else:\n",
    "        merge(a.rest, b)\n",
    "        \n",
    "a = Link(1, Link(2, Link(3)))\n",
    "b = Link(4, Link(5, Link(6)))\n",
    "\n",
    "merge(a, b)\n",
    "print(a)"
   ]
  },
  {
   "cell_type": "code",
   "execution_count": 56,
   "metadata": {
    "collapsed": false
   },
   "outputs": [
    {
     "name": "stdout",
     "output_type": "stream",
     "text": [
      "Link(1, Link(3, Link(5, Link(7))))\n"
     ]
    }
   ],
   "source": [
    "def add_index(link):\n",
    "    def helper(index):\n",
    "        nonlocal link\n",
    "        if link is Link.empty:\n",
    "            return None\n",
    "        link.first = index + link.first\n",
    "        link = link.rest\n",
    "        helper(index+1)\n",
    "    helper(0)\n",
    "    \n",
    "a = Link(1, Link(2, Link(3, Link(4))))\n",
    "add_index(a)\n",
    "print(a)"
   ]
  },
  {
   "cell_type": "code",
   "execution_count": 57,
   "metadata": {
    "collapsed": true
   },
   "outputs": [],
   "source": [
    "def accumulate_tree(tree):\n",
    "    \"\"\"accumulates the childs and put sum in root\"\"\"\n",
    "    if tree.is_leaf():\n",
    "        return tree.root\n",
    "    total = 0\n",
    "    for b in tree.branches:\n",
    "        accumulate_tree(b)\n",
    "        total += b.root\n",
    "    tree.root = tree.root + total\n",
    "    \n",
    "    \n",
    "    \n",
    "    "
   ]
  },
  {
   "cell_type": "code",
   "execution_count": null,
   "metadata": {
    "collapsed": true
   },
   "outputs": [],
   "source": [
    "def sum_level(tree):\n",
    "    \"\"\"Sum up the total of each level\"\"\"\n",
    "    #if tree.is_leaf():\n",
    "    #    return tree\n",
    "    trees = [tree]\n",
    "    levels = [[tree]]\n",
    "    while trees:\n",
    "        #lev = []\n",
    "        tree = []\n",
    "        for t in trees:\n",
    "            tree.append(t.branches)\n",
    "            #lev.extend(t.branches)\n",
    "        trees = tree\n",
    "        levels.extend(tree)\n",
    "    x = [sum([x.root for x in i]) for i in levels]\n",
    "    for i in x:\n",
    "        print(x)\n",
    "\n",
    "        \n",
    "def sum_level2(t):\n",
    "    levels = []\n",
    "    x = [t]\n",
    "    while x:\n",
    "        levels.append(sum([t.root for t in x]))\n",
    "        x = sum(t.branches for t in x], [])\n",
    "    for i in levels:\n",
    "        print(i)"
   ]
  }
 ],
 "metadata": {
  "kernelspec": {
   "display_name": "Python 3",
   "language": "python",
   "name": "python3"
  },
  "language_info": {
   "codemirror_mode": {
    "name": "ipython",
    "version": 3
   },
   "file_extension": ".py",
   "mimetype": "text/x-python",
   "name": "python",
   "nbconvert_exporter": "python",
   "pygments_lexer": "ipython3",
   "version": "3.5.2"
  }
 },
 "nbformat": 4,
 "nbformat_minor": 0
}
