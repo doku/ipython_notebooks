{
 "cells": [
  {
   "cell_type": "code",
   "execution_count": 1,
   "metadata": {
    "collapsed": true
   },
   "outputs": [],
   "source": [
    "class Link:\n",
    "    empty = ()\n",
    "    \n",
    "    def __init__(self, first, rest=empty):\n",
    "        assert rest is Link.empty or isinstance(rest, Link)\n",
    "        self.first = first\n",
    "        self.rest = rest\n",
    "        \n",
    "    def __repr__(self):\n",
    "        if self.rest is not Link.empty:\n",
    "            rest_str = \", \" + repr(self.rest)\n",
    "        else:\n",
    "            rest_str = ''\n",
    "        return 'Link({0}{1})'.format(repr(self.first), rest_str)\n",
    "    \n",
    "    def __len__(self):\n",
    "        return 1 + len(self.rest)\n",
    "    \n",
    "    def __getitem__(self, i):\n",
    "        if i == 0:\n",
    "            return 0\n",
    "        else:\n",
    "            return self.rest[i-1]\n",
    "        \n",
    "    def __str__(self):\n",
    "        string = '<'\n",
    "        while self.rest is not Link.empty:\n",
    "            string += str(self.first) + ', '\n",
    "            self = self.rest\n",
    "        return string + str(self.first) + '>'\n",
    "    \n",
    "class Tree:\n",
    "    def __init__(self, label, children=()):\n",
    "        self.label = label\n",
    "        self.children = list(children)\n",
    "        \n",
    "    def __repr__(self):\n",
    "        if self.children:\n",
    "            children_str = ', ' + repr(self.children)\n",
    "        else:\n",
    "            children_str = ''\n",
    "        return 'Tree({0}{1})'.format(self.label, children_str)\n",
    "    \n",
    "    def is_leaf(self):\n",
    "        return not self.children"
   ]
  },
  {
   "cell_type": "code",
   "execution_count": 2,
   "metadata": {
    "collapsed": true
   },
   "outputs": [],
   "source": [
    "def double1(L):\n",
    "    \"\"\" Returns a list in which each item in L appears twice in sequenc.\n",
    "    It is non-destructive.\"\"\"\n",
    "    result = Link.empty\n",
    "    last = None\n",
    "    \n",
    "    while L is not Link.empty:\n",
    "        if last is None:\n",
    "            result = Link(L.first, Link(L.first))\n",
    "            last = result.rest\n",
    "        else:\n",
    "            last.rest = Link(L.first, Link(L.first))\n",
    "            last = last.rest.rest\n",
    "        L = L.rest\n",
    "    return result\n",
    "\n",
    "def double2(L):\n",
    "    result = L\n",
    "    while L is not Link.empty:\n",
    "        L.rest = Link(L.first, L.rest)\n",
    "        L = L.rest.rest\n",
    "    return result\n",
    "\n",
    "\n"
   ]
  },
  {
   "cell_type": "code",
   "execution_count": 3,
   "metadata": {
    "collapsed": true
   },
   "outputs": [],
   "source": [
    "def remove_leaf(H):\n",
    "    \"\"\"Destructively remove far leftmost leaf of H, returning its label\"\"\"\n",
    "    child = H.children[0]\n",
    "    if child.is_leaf():\n",
    "        v = child.label\n",
    "        H.children = H.children[1:]\n",
    "        return v\n",
    "    else:\n",
    "        return remove_leaf(child)\n",
    "    \n",
    "    \n",
    "def reheapify(H):\n",
    "    \"\"\"Destructively restore the heap property of H, assuming it is violated only at H itself, if at all. \n",
    "    \"\"\"\n",
    "    if is_leaf(H):\n",
    "        return \n",
    "    else:\n",
    "        s = H.children[0]\n",
    "        for c in H.children:\n",
    "            if s.label > c.label:\n",
    "                s = c\n",
    "        if H.label > s.label:\n",
    "            s.label, H.label = H.label, s.label\n",
    "            reheapify(s)\n",
    "                \n",
    "\n"
   ]
  },
  {
   "cell_type": "code",
   "execution_count": 4,
   "metadata": {
    "collapsed": false
   },
   "outputs": [
    {
     "data": {
      "text/plain": [
       "1"
      ]
     },
     "execution_count": 4,
     "metadata": {},
     "output_type": "execute_result"
    }
   ],
   "source": [
    "5%2\n"
   ]
  },
  {
   "cell_type": "code",
   "execution_count": 5,
   "metadata": {
    "collapsed": false
   },
   "outputs": [
    {
     "data": {
      "text/plain": [
       "2"
      ]
     },
     "execution_count": 5,
     "metadata": {},
     "output_type": "execute_result"
    }
   ],
   "source": [
    "5//2\n"
   ]
  },
  {
   "cell_type": "code",
   "execution_count": 6,
   "metadata": {
    "collapsed": false
   },
   "outputs": [
    {
     "data": {
      "text/plain": [
       "0"
      ]
     },
     "execution_count": 6,
     "metadata": {},
     "output_type": "execute_result"
    }
   ],
   "source": [
    "0%2"
   ]
  },
  {
   "cell_type": "code",
   "execution_count": null,
   "metadata": {
    "collapsed": true
   },
   "outputs": [],
   "source": []
  }
 ],
 "metadata": {
  "kernelspec": {
   "display_name": "Python 3",
   "language": "python",
   "name": "python3"
  },
  "language_info": {
   "codemirror_mode": {
    "name": "ipython",
    "version": 3
   },
   "file_extension": ".py",
   "mimetype": "text/x-python",
   "name": "python",
   "nbconvert_exporter": "python",
   "pygments_lexer": "ipython3",
   "version": "3.5.2"
  }
 },
 "nbformat": 4,
 "nbformat_minor": 0
}
