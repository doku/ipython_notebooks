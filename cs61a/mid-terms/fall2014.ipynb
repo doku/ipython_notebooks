{
 "cells": [
  {
   "cell_type": "code",
   "execution_count": 1,
   "metadata": {
    "collapsed": true
   },
   "outputs": [],
   "source": [
    "def kbonacci(n, k):\n",
    "    \"\"\" Return element N of a K- bonacci sequence .\n",
    "    >>> kbonacci (3, 4)\n",
    "    1\n",
    "    >>> kbonacci (9, 4)\n",
    "    29\n",
    "    >>> kbonacci (4, 2)\n",
    "    3\n",
    "    >>> kbonacci (8, 2)\n",
    "    21\n",
    "    \"\"\"\n",
    "    if n < k - 1:\n",
    "        return 0\n",
    "    elif n == k - 1:\n",
    "        return 1\n",
    "    else:\n",
    "        total = 0\n",
    "        i = n-k\n",
    "        while i < n:\n",
    "            total = total + kbonacci(i, k)\n",
    "            i=i+1\n",
    "        return total"
   ]
  },
  {
   "cell_type": "code",
   "execution_count": 2,
   "metadata": {
    "collapsed": true
   },
   "outputs": [],
   "source": [
    "def combine(left , right):\n",
    "    \"\"\" Return all of LEFT ’s digits followed by all of RIGHT ’s digits .\"\"\"\n",
    "    factor = 1\n",
    "    while factor <= right:\n",
    "        factor = factor * 10\n",
    "    return left * factor + right\n",
    "\n",
    "def reverse(n):\n",
    "    \"\"\" Return the digits of N in reverse .\n",
    "    >>> reverse (122543)\n",
    "    345221\n",
    "    \"\"\"\n",
    "    if n < 10:\n",
    "        return n\n",
    "    else:\n",
    "        return combine(n%10, reverse(n//10))\n",
    "def remove(n, digit):\n",
    "    \"\"\" Return all digits of N that are not DIGIT , for DIGIT less than 10.\n",
    "    >>> remove (243132, 3)\n",
    "    2412\n",
    "    >>> remove (243132, 2)\n",
    "    4313\n",
    "    >>> remove ( remove (243132, 1), 2)\n",
    "    433\n",
    "    \"\"\"\n",
    "    removed = 0\n",
    "    while n != 0:\n",
    "        n , current = n // 10 , n % 10\n",
    "        if current != digit:\n",
    "            removed = removed *10+ current\n",
    "    return reverse(removed)"
   ]
  },
  {
   "cell_type": "code",
   "execution_count": null,
   "metadata": {
    "collapsed": true
   },
   "outputs": [],
   "source": [
    "def if_fn(condition):\n",
    "    if condition:\n",
    "        return lambda a, b: a\n",
    "    else:\n",
    "        return lambda a, b: b\n",
    "def factorial(n):\n",
    "    \"\"\" Compute N! for non - negative N. N! = 1 * 2 * 3 * ... * N.\n",
    "    >>> factorial (3)\n",
    "    6\n",
    "    >>> factorial (5)\n",
    "    120\n",
    "    >>> factorial (0)\n",
    "    1\n",
    "    \"\"\"\n",
    "    def base():\n",
    "        return 1\n",
    "    def recursive():\n",
    "        return n * factorial(n-1)\n",
    "    return if_fn(n == 1)(base, recursive)()"
   ]
  }
 ],
 "metadata": {
  "kernelspec": {
   "display_name": "Python 3",
   "language": "python",
   "name": "python3"
  },
  "language_info": {
   "codemirror_mode": {
    "name": "ipython",
    "version": 3
   },
   "file_extension": ".py",
   "mimetype": "text/x-python",
   "name": "python",
   "nbconvert_exporter": "python",
   "pygments_lexer": "ipython3",
   "version": "3.5.2"
  }
 },
 "nbformat": 4,
 "nbformat_minor": 0
}
