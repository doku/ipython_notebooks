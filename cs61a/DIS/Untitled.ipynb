{
 "cells": [
  {
   "cell_type": "code",
   "execution_count": 4,
   "metadata": {
    "collapsed": false
   },
   "outputs": [
    {
     "data": {
      "text/plain": [
       "'No overflow'"
      ]
     },
     "execution_count": 4,
     "metadata": {},
     "output_type": "execute_result"
    }
   ],
   "source": [
    "def wears_jacket(temp, raining):\n",
    "    return temp < 60 or raining\n",
    "\n",
    "def handel_overflow(s1, s2):\n",
    "    \"\"\"\n",
    "    todo: check if s1 and s2 is int\n",
    "    \"\"\"\n",
    "    if s1 < 30 and s2 < 30:\n",
    "        return \"No overflow\"\n",
    "    elif s1 < 30:\n",
    "        return str(30 - s1) + \" spots left in Section 1.\"\n",
    "    elif s2 < 30:\n",
    "        return str(30 - s2) + \" spots left in Section 2.\"\n",
    "    else:\n",
    "        return \"No space left in either section.\"\n",
    "    \n",
    "handel_overflow(3,4)"
   ]
  },
  {
   "cell_type": "markdown",
   "metadata": {},
   "source": [
    "Section 1.5"
   ]
  },
  {
   "cell_type": "code",
   "execution_count": 8,
   "metadata": {
    "collapsed": false
   },
   "outputs": [
    {
     "name": "stdout",
     "output_type": "stream",
     "text": [
      "False\n"
     ]
    }
   ],
   "source": [
    "def is_prime(n):\n",
    "    if n% 2 == 0 or n == 1:\n",
    "        return False\n",
    "    if n == 2:\n",
    "        return True\n",
    "    for i in range(3, int(n**0.5) + 1 , 2):\n",
    "        if i%n == 0:\n",
    "            return False\n",
    "    else:\n",
    "        return True\n",
    "        \n",
    "print(is_prime(235236))"
   ]
  },
  {
   "cell_type": "code",
   "execution_count": null,
   "metadata": {
    "collapsed": true
   },
   "outputs": [],
   "source": []
  }
 ],
 "metadata": {
  "kernelspec": {
   "display_name": "Python 3",
   "language": "python",
   "name": "python3"
  },
  "language_info": {
   "codemirror_mode": {
    "name": "ipython",
    "version": 3
   },
   "file_extension": ".py",
   "mimetype": "text/x-python",
   "name": "python",
   "nbconvert_exporter": "python",
   "pygments_lexer": "ipython3",
   "version": "3.5.2"
  }
 },
 "nbformat": 4,
 "nbformat_minor": 0
}
