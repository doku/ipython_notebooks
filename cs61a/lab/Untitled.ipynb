{
 "cells": [
  {
   "cell_type": "code",
   "execution_count": 5,
   "metadata": {
    "collapsed": false
   },
   "outputs": [
    {
     "name": "stdout",
     "output_type": "stream",
     "text": [
      "Testsdt\n",
      "True\n",
      "test\n"
     ]
    }
   ],
   "source": [
    "\n",
    "def tree(value, branches=[]):\n",
    "    return [value, branches]\n",
    "\n",
    "\n",
    "def root(tree):\n",
    "    return tree[0]\n",
    "\n",
    "\n",
    "def branches(tree):\n",
    "    return tree[1]\n",
    "\n",
    "\n",
    "def is_leaf(tree):\n",
    "    return not branches(tree)\n",
    "\n",
    "def is_min_heap(t):\n",
    "    if is_leaf(t):\n",
    "        return True\n",
    "    else:\n",
    "        Min = min([root(b) for b in branches(t)])\n",
    "        if Min <= root(t):\n",
    "            return False\n",
    "        return all([is_min_heap(b) for b in branches(t) ] )\n",
    "                  \n",
    "#print(\"Testsdt\")\n",
    "t = tree(2, [tree(3 ), tree(4, [tree(5), tree(6)])] )\n",
    "\n",
    "print(is_min_heap(t))\n",
    "#print(\"test\")"
   ]
  },
  {
   "cell_type": "markdown",
   "metadata": {},
   "source": []
  }
 ],
 "metadata": {
  "kernelspec": {
   "display_name": "Python 3",
   "language": "python",
   "name": "python3"
  }
 },
 "nbformat": 4,
 "nbformat_minor": 0
}
