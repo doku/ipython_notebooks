{
 "cells": [
  {
   "cell_type": "code",
   "execution_count": 1,
   "metadata": {
    "collapsed": false
   },
   "outputs": [
    {
     "name": "stderr",
     "output_type": "stream",
     "text": [
      "c:\\users\\jason\\appdata\\local\\programs\\python\\python35-32\\lib\\site-packages\\ipykernel\\__main__.py:1: RuntimeWarning: invalid value encountered in double_scalars\n",
      "  if __name__ == '__main__':\n"
     ]
    },
    {
     "name": "stdout",
     "output_type": "stream",
     "text": [
      "0.0 x+x*+x \n",
      "0.0 x**1*x+x\n",
      "0.0 +x**2+x\n",
      "0.0 x+x*x\n"
     ]
    },
    {
     "name": "stderr",
     "output_type": "stream",
     "text": [
      "c:\\users\\jason\\appdata\\local\\programs\\python\\python35-32\\lib\\site-packages\\ipykernel\\__main__.py:1: RuntimeWarning: overflow encountered in double_scalars\n",
      "  if __name__ == '__main__':\n",
      "c:\\users\\jason\\appdata\\local\\programs\\python\\python35-32\\lib\\site-packages\\ipykernel\\__main__.py:16: RuntimeWarning: invalid value encountered in double_scalars\n"
     ]
    },
    {
     "name": "stdout",
     "output_type": "stream",
     "text": [
      "0.0 x*x+x\n",
      "0.0 x--+x*x\n",
      "0.0  x+x*+x\n",
      "0.0 x+x**2\n",
      "0.0 x+x **2\n",
      "0.0 x++x*x\n",
      "0.0 +x+x*x\n"
     ]
    }
   ],
   "source": [
    "import random\n",
    "import numpy\n",
    "\n",
    "voc =[\"x\",\"x\",\" \",\"+\",\"-\",\"*\",\"/\",\"1\",\"2\",\"3\"]\n",
    "\n",
    "nfunc       = 100000\n",
    "maxchars = 10  # max how many characters to gen\n",
    "eval_places = numpy.arange(-3,3,0.4)\n",
    "sin_val     = eval_places**2 + eval_places\n",
    "tries       = [\"\".join([voc[random.randint(0,9)] for x in range(0, random.randint(3,10))]) for i in range(nfunc)]\n",
    "\n",
    "\n",
    "for i in tries:\n",
    "    try: \n",
    "        exec(\"f = lambda x: \" + i +'\\n')\n",
    "        g = sum(numpy.array(list(map(f, eval_places))) - sin_val)\n",
    "        del f\n",
    "        if abs(g) < 0.01:\n",
    "            print(g, i)\n",
    "        del g\n",
    "        #print(sum(numpy.array(list(map(f, eval_places))) - sin_val))\n",
    "        #print(f(2))\n",
    "    except (SyntaxError, NameError):\n",
    "        continue\n",
    "        print(\"syntax and name error\")\n",
    "    except:\n",
    "        continue"
   ]
  },
  {
   "cell_type": "code",
   "execution_count": 110,
   "metadata": {
    "collapsed": false
   },
   "outputs": [
    {
     "name": "stdout",
     "output_type": "stream",
     "text": [
      "Overwriting lab00.py\n"
     ]
    }
   ],
   "source": [
    "%%writefile lab00.py\n",
    "import random\n",
    "#import numpy\n",
    "import itertools\n",
    "\n",
    "def twenty_sixteen():\n",
    "    \"\"\"Come up with the most creative expression that evaluates to 2016,\n",
    "    using only numbers and the +, *, and - operators.\n",
    "\n",
    "    >>> twenty_sixteen()\n",
    "    2016\n",
    "    \"\"\"\n",
    "    #return 2016\n",
    "    numberOfTries = 2016\n",
    "    samp = [\"+\", \"*\", \"-\"]+ list(map(str, range(10)))\n",
    "    tries = (\"\".join([samp[random.randint(0+3*(i%2),2+10*(i%2))] for i in range(1, random.randint(7,10)) ]) for _ in range(10))\n",
    "    samp2 = [\" \" ,\"+\", \"*\", \"-\"]\n",
    "    #li = list(map(str, range(1,10)))\n",
    "    li = \"2016\"\n",
    "    tries2 = (\"\".join([(i + j).strip() for i,j in zip(li, [samp2[random.randint(0,3 - 3*(i%3 == 0 and i != 0))] for i in range(4) ])]) for _ in range(numberOfTries) )\n",
    "    \n",
    "    #tries2 = (\"\".join(i) for i in tries2)\n",
    "    #print(list(tries2))\n",
    "    tries3 = (\"\".join([(i+j).strip() for i,j in zip(li, list(x)+[\" \"])]) for x in itertools.product(samp2, repeat = 3) ) \n",
    "    \n",
    "    # arr, try all permuation by use of itertools\n",
    "    #print(list(tries3))\n",
    "    f = 0\n",
    "    for i in tries3:\n",
    "        try:\n",
    "            #print(i)\n",
    "            exec(\"f = \" + i)\n",
    "        except:\n",
    "            f = 0\n",
    "        if f == 2016:\n",
    "            #print(f, i)\n",
    "            return f\n",
    "    return 20 * 20 * 20 + 20 - 20 * 300 - 4 #\n",
    "#print(twenty_sixteen())"
   ]
  },
  {
   "cell_type": "code",
   "execution_count": 87,
   "metadata": {
    "collapsed": false
   },
   "outputs": [
    {
     "data": {
      "text/plain": [
       "[('+', '+', '+'),\n",
       " ('+', '+', '-'),\n",
       " ('+', '+', '*'),\n",
       " ('+', '+', ' '),\n",
       " ('+', '-', '+'),\n",
       " ('+', '-', '-'),\n",
       " ('+', '-', '*'),\n",
       " ('+', '-', ' '),\n",
       " ('+', '*', '+'),\n",
       " ('+', '*', '-'),\n",
       " ('+', '*', '*'),\n",
       " ('+', '*', ' '),\n",
       " ('+', ' ', '+'),\n",
       " ('+', ' ', '-'),\n",
       " ('+', ' ', '*'),\n",
       " ('+', ' ', ' '),\n",
       " ('-', '+', '+'),\n",
       " ('-', '+', '-'),\n",
       " ('-', '+', '*'),\n",
       " ('-', '+', ' '),\n",
       " ('-', '-', '+'),\n",
       " ('-', '-', '-'),\n",
       " ('-', '-', '*'),\n",
       " ('-', '-', ' '),\n",
       " ('-', '*', '+'),\n",
       " ('-', '*', '-'),\n",
       " ('-', '*', '*'),\n",
       " ('-', '*', ' '),\n",
       " ('-', ' ', '+'),\n",
       " ('-', ' ', '-'),\n",
       " ('-', ' ', '*'),\n",
       " ('-', ' ', ' '),\n",
       " ('*', '+', '+'),\n",
       " ('*', '+', '-'),\n",
       " ('*', '+', '*'),\n",
       " ('*', '+', ' '),\n",
       " ('*', '-', '+'),\n",
       " ('*', '-', '-'),\n",
       " ('*', '-', '*'),\n",
       " ('*', '-', ' '),\n",
       " ('*', '*', '+'),\n",
       " ('*', '*', '-'),\n",
       " ('*', '*', '*'),\n",
       " ('*', '*', ' '),\n",
       " ('*', ' ', '+'),\n",
       " ('*', ' ', '-'),\n",
       " ('*', ' ', '*'),\n",
       " ('*', ' ', ' '),\n",
       " (' ', '+', '+'),\n",
       " (' ', '+', '-'),\n",
       " (' ', '+', '*'),\n",
       " (' ', '+', ' '),\n",
       " (' ', '-', '+'),\n",
       " (' ', '-', '-'),\n",
       " (' ', '-', '*'),\n",
       " (' ', '-', ' '),\n",
       " (' ', '*', '+'),\n",
       " (' ', '*', '-'),\n",
       " (' ', '*', '*'),\n",
       " (' ', '*', ' '),\n",
       " (' ', ' ', '+'),\n",
       " (' ', ' ', '-'),\n",
       " (' ', ' ', '*'),\n",
       " (' ', ' ', ' ')]"
      ]
     },
     "execution_count": 87,
     "metadata": {},
     "output_type": "execute_result"
    }
   ],
   "source": [
    "list(itertools.product([\"+\", \"-\", \"*\", \" \"] , repeat = 3))\n"
   ]
  },
  {
   "cell_type": "markdown",
   "metadata": {
    "collapsed": true
   },
   "source": [
    "$&/delta\n",
    "\n"
   ]
  },
  {
   "cell_type": "code",
   "execution_count": 97,
   "metadata": {
    "collapsed": false
   },
   "outputs": [
    {
     "name": "stdout",
     "output_type": "stream",
     "text": [
      "test\n"
     ]
    }
   ],
   "source": [
    "print(\"test\")"
   ]
  },
  {
   "cell_type": "code",
   "execution_count": 109,
   "metadata": {
    "collapsed": false
   },
   "outputs": [
    {
     "data": {
      "text/plain": [
       "2016"
      ]
     },
     "execution_count": 109,
     "metadata": {},
     "output_type": "execute_result"
    }
   ],
   "source": [
    "20 * 20 * 20 + 20 - 20 * 300 - 4\n",
    "\n"
   ]
  },
  {
   "cell_type": "code",
   "execution_count": null,
   "metadata": {
    "collapsed": true
   },
   "outputs": [],
   "source": []
  }
 ],
 "metadata": {
  "kernelspec": {
   "display_name": "Python 3",
   "language": "python",
   "name": "python3"
  },
  "language_info": {
   "codemirror_mode": {
    "name": "ipython",
    "version": 3
   },
   "file_extension": ".py",
   "mimetype": "text/x-python",
   "name": "python",
   "nbconvert_exporter": "python",
   "pygments_lexer": "ipython3",
   "version": "3.5.2"
  }
 },
 "nbformat": 4,
 "nbformat_minor": 0
}
