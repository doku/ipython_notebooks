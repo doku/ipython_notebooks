{
 "metadata": {
  "name": ""
 },
 "nbformat": 3,
 "nbformat_minor": 0,
 "worksheets": [
  {
   "cells": [
    {
     "cell_type": "code",
     "collapsed": false,
     "input": [
      "%pylab"
     ],
     "language": "python",
     "metadata": {},
     "outputs": [
      {
       "output_type": "stream",
       "stream": "stdout",
       "text": [
        "Using matplotlib backend: Qt4Agg\n",
        "Populating the interactive namespace from numpy and matplotlib\n"
       ]
      }
     ],
     "prompt_number": 3
    },
    {
     "cell_type": "code",
     "collapsed": false,
     "input": [
      "from numpy import *\n",
      "import pylab as pl\n",
      "from sklearn.utils import shuffle\n",
      "from sklearn.metrics import mean_squared_error\n",
      "from sklearn import datasets\n",
      "from sklearn.tree import DecisionTreeRegressor"
     ],
     "language": "python",
     "metadata": {},
     "outputs": [],
     "prompt_number": 5
    },
    {
     "cell_type": "code",
     "collapsed": false,
     "input": [
      "# Load the boston dataset \n",
      "boston = datasets.load_boston()\n",
      "# Shuffle it and seperate it into training and testing set\n",
      "# We need to shufle it so that when we split it, we sample from the dataset uniformly\n",
      "X, y = shuffle(boston.data, boston.target)\n",
      "# Training and testing set is divided in the ration 7:3\n",
      "offset = int(0.7*len(X))\n",
      "X_train, y_train = X[:offset], y[:offset]\n",
      "X_test, y_test = X[offset:], y[offset:]"
     ],
     "language": "python",
     "metadata": {},
     "outputs": [],
     "prompt_number": 6
    },
    {
     "cell_type": "code",
     "collapsed": false,
     "input": [
      "# Setup a Decision Tree Regressor so that it learns a tree with depth 5\n",
      "regressor = DecisionTreeRegressor(max_depth=5)"
     ],
     "language": "python",
     "metadata": {},
     "outputs": [],
     "prompt_number": 7
    },
    {
     "cell_type": "code",
     "collapsed": false,
     "input": [
      "# Fit the learner to the training data\n",
      "regressor.fit(X_train, y_train)"
     ],
     "language": "python",
     "metadata": {},
     "outputs": [
      {
       "metadata": {},
       "output_type": "pyout",
       "prompt_number": 8,
       "text": [
        "DecisionTreeRegressor(compute_importances=None, criterion='mse', max_depth=5,\n",
        "           max_features=None, min_density=None, min_samples_leaf=1,\n",
        "           min_samples_split=2, random_state=None, splitter='best')"
       ]
      }
     ],
     "prompt_number": 8
    },
    {
     "cell_type": "code",
     "collapsed": false,
     "input": [
      "x = [11.95, 0.00, 18.100, 0, 0.6590, 5.6090, 90.00, 1.385, 24, 680.0, 20.20, 332.09, 12.13]\n",
      "# Use the model to predict the output of a particular sample\n",
      "y = regressor.predict(x)\n",
      "print \"Prediction for \" + str(x) + \" = \" + str(y)"
     ],
     "language": "python",
     "metadata": {},
     "outputs": [
      {
       "output_type": "stream",
       "stream": "stdout",
       "text": [
        "Prediction for [11.95, 0.0, 18.1, 0, 0.659, 5.609, 90.0, 1.385, 24, 680.0, 20.2, 332.09, 12.13] = [ 15.53]\n"
       ]
      }
     ],
     "prompt_number": 9
    },
    {
     "cell_type": "code",
     "collapsed": false,
     "input": [
      "# Find the MSE on the training set\n",
      "train_err = mean_squared_error(y_train, regressor.predict(X_train))\n",
      "print \"Training Error = \" + str(train_err)"
     ],
     "language": "python",
     "metadata": {},
     "outputs": [
      {
       "output_type": "stream",
       "stream": "stdout",
       "text": [
        "Training Error = 5.68291001387\n"
       ]
      }
     ],
     "prompt_number": 10
    },
    {
     "cell_type": "code",
     "collapsed": false,
     "input": [
      "# Find the MSE on the testing set\n",
      "test_err = mean_squared_error(y_test, regressor.predict(X_test))\n",
      "print \"Testing Error = \" + str(test_err)"
     ],
     "language": "python",
     "metadata": {},
     "outputs": [
      {
       "output_type": "stream",
       "stream": "stdout",
       "text": [
        "Testing Error = 10.8851108482\n"
       ]
      }
     ],
     "prompt_number": 11
    },
    {
     "cell_type": "code",
     "collapsed": false,
     "input": [],
     "language": "python",
     "metadata": {},
     "outputs": []
    }
   ],
   "metadata": {}
  }
 ]
}